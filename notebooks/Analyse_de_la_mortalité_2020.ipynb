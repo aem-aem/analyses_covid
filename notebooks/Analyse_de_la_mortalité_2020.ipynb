{
  "nbformat": 4,
  "nbformat_minor": 0,
  "metadata": {
    "colab": {
      "name": "Analyse de la mortalité 2020.ipynb",
      "provenance": [],
      "collapsed_sections": []
    },
    "kernelspec": {
      "name": "python3",
      "display_name": "Python 3"
    }
  },
  "cells": [
    {
      "cell_type": "code",
      "metadata": {
        "id": "nBaYW8sSvMPD"
      },
      "source": [
        "#from google.colab import  drive\n",
        "#drive.mount('/drive')"
      ],
      "execution_count": 140,
      "outputs": []
    },
    {
      "cell_type": "code",
      "metadata": {
        "id": "hm54EZQfY2DQ"
      },
      "source": [
        "import pandas as pd\n",
        "import re\n",
        "from time import sleep\n",
        "from datetime import datetime, timedelta\n",
        "import matplotlib.pyplot as plt\n",
        "import gc"
      ],
      "execution_count": 141,
      "outputs": []
    },
    {
      "cell_type": "code",
      "metadata": {
        "id": "ndfWAlAXairL"
      },
      "source": [
        "# Interprération d'une date en format \"YYYYMMDD\"\n",
        "def parse_date(_date):\n",
        "    annee = _date[0:4]\n",
        "    mois = _date[4:6]\n",
        "    jour = _date[6:8]\n",
        "    if mois == '00':\n",
        "        mois = '07'\n",
        "    if jour == '00':\n",
        "        jour = '01'\n",
        "    if annee == '0000':\n",
        "        return None\n",
        "    try:\n",
        "      return datetime(int(annee), int(mois), int(jour))\n",
        "    except ValueError as e:\n",
        "      if e.args[0] == \"day is out of range for month\":\n",
        "        return datetime(int(annee), int(mois), int(jour)-3)\n",
        "      return None"
      ],
      "execution_count": 142,
      "outputs": []
    },
    {
      "cell_type": "code",
      "metadata": {
        "id": "Qdd1aTecalHZ"
      },
      "source": [
        "# Calcul de l'age révolu à la date du décès\n",
        "def age_revolu(date_naissance, date_deces):\n",
        "    _date_naissance = parse_date(date_naissance)\n",
        "    _date_deces = parse_date(date_deces)\n",
        "    if _date_naissance and _date_deces:\n",
        "        _age_revolu = int((_date_deces - _date_naissance).days/365)\n",
        "        if _age_revolu >= 100:\n",
        "          _age_revolu = 100\n",
        "        return _age_revolu, _date_naissance, _date_deces\n",
        "    else:\n",
        "        return None, None, None"
      ],
      "execution_count": 143,
      "outputs": []
    },
    {
      "cell_type": "code",
      "metadata": {
        "id": "hwGaR8ioanDz"
      },
      "source": [
        "# Expression régulière pour interpréter une ligne du fichier de décès INSEE\n",
        "_regexp = r'([A-Z\\s\\-\\'\\*]+)\\/\\s*([12])([0-9]{8})([0-9AB]{5})*(.+[^0-9])([0-9]{8})([0-9AB]{5})*'\n",
        "_pattern = re.compile(_regexp)"
      ],
      "execution_count": 144,
      "outputs": []
    },
    {
      "cell_type": "code",
      "metadata": {
        "id": "Xomwbe-laozV"
      },
      "source": [
        "def parse(_string, annee_fichier):\n",
        "    _match = _pattern.match(_string[0:167])\n",
        "    if _match:\n",
        "        _age_revolu, _date_naissance, _date_deces = age_revolu(_match[3], _match[6])\n",
        "        return {'NOM_PRENOMS': _match[1],\n",
        "                'SEXE': \"H\" if _match[2] == \"1\" else \"F\",\n",
        "                'DATE_NAISSANCE': _date_naissance,\n",
        "                'COMM_NAISSANCE': _match[4],\n",
        "                'LIEU_NAISSANCE': _match[5],\n",
        "                'DATE_DECES': _date_deces,\n",
        "                'COMM_DECES': _match[7],\n",
        "                'AGE_REVOLU': _age_revolu,\n",
        "                'ANNEE': int(_match[6][0:4]),\n",
        "                'ORIG': None,\n",
        "                'ANNEE_FICHIER': int(annee_fichier)\n",
        "               }\n",
        "    return {'ORIG': _string, 'ANNEE_FICHIER': annee_fichier}"
      ],
      "execution_count": 145,
      "outputs": []
    },
    {
      "cell_type": "code",
      "metadata": {
        "colab": {
          "base_uri": "https://localhost:8080/"
        },
        "id": "kvY_nTgiaqSq",
        "outputId": "f3ed2300-ccbb-4f44-ed54-b039e465ccb8"
      },
      "source": [
        "# Exemple\n",
        "parse('OSWALD*ANNA/                                                                    21928030599109LORRACH                       ALLEMAGNE                     201912071410020                ', 2020)"
      ],
      "execution_count": 146,
      "outputs": [
        {
          "output_type": "execute_result",
          "data": {
            "text/plain": [
              "{'AGE_REVOLU': 91,\n",
              " 'ANNEE': 2019,\n",
              " 'ANNEE_FICHIER': 2020,\n",
              " 'COMM_DECES': '14100',\n",
              " 'COMM_NAISSANCE': '99109',\n",
              " 'DATE_DECES': datetime.datetime(2019, 12, 7, 0, 0),\n",
              " 'DATE_NAISSANCE': datetime.datetime(1928, 3, 5, 0, 0),\n",
              " 'LIEU_NAISSANCE': 'LORRACH                       ALLEMAGNE                     ',\n",
              " 'NOM_PRENOMS': 'OSWALD*ANNA',\n",
              " 'ORIG': None,\n",
              " 'SEXE': 'F'}"
            ]
          },
          "metadata": {
            "tags": []
          },
          "execution_count": 146
        }
      ]
    },
    {
      "cell_type": "code",
      "metadata": {
        "id": "qgUP8tW-etbY"
      },
      "source": [
        "def k_format(_float):\n",
        "  return f'{int(_float/100)/10}'"
      ],
      "execution_count": 147,
      "outputs": []
    },
    {
      "cell_type": "code",
      "metadata": {
        "id": "X_0z__bMCBRf"
      },
      "source": [
        "def free(_object):\n",
        "  del _object\n",
        "  gc.collect()"
      ],
      "execution_count": 148,
      "outputs": []
    },
    {
      "cell_type": "code",
      "metadata": {
        "id": "2_q0BS_UasIa"
      },
      "source": [
        "# https://www.data.gouv.fr/fr/datasets/fichier-des-personnes-decedees/\n",
        "fichiers_insee_deces = {\n",
        "    2021.02: 'https://www.data.gouv.fr/fr/datasets/r/4859e2c2-8b7b-43fc-9fc0-cc87bb3efa04',\n",
        "    2021.01: 'https://www.data.gouv.fr/fr/datasets/r/9bc3b4b0-faf1-49cd-bd1f-feb5bec303bd',\n",
        "    2020: 'https://www.data.gouv.fr/fr/datasets/r/a1f09595-0e79-4300-be1a-c97964e55f05',\n",
        "    2019: 'https://www.data.gouv.fr/fr/datasets/r/02acf8f5-9190-4f8e-a37c-3b34eccac833',\n",
        "    2018: 'https://www.data.gouv.fr/fr/datasets/r/c2a97b38-5c0d-4f21-910f-1cea164c2c89',\n",
        "    2017: 'https://www.data.gouv.fr/fr/datasets/r/fd61ff96-1e4e-450f-8648-3e3016edbe34',\n",
        "    2016: 'https://www.data.gouv.fr/fr/datasets/r/8fb032c1-b81e-46c4-a48a-15380ce41e40',\n",
        "    2015: 'https://www.data.gouv.fr/fr/datasets/r/22274343-816c-4220-8ca9-05ac0ff9b6f8',\n",
        "    2014: 'https://www.data.gouv.fr/fr/datasets/r/9409dd78-1c54-47a4-850c-d903bb274a32',\n",
        "    2013: 'https://www.data.gouv.fr/fr/datasets/r/33769f81-6507-4b0e-8f7a-f078a2c47084',\n",
        "    2012: 'https://www.data.gouv.fr/fr/datasets/r/85a225fc-f0ab-4462-b8be-03981332bb98',\n",
        "    2011: 'https://www.data.gouv.fr/fr/datasets/r/2581b087-003e-4b21-8175-7e7eef38c9cb',\n",
        "#    2010: 'https://www.data.gouv.fr/fr/datasets/r/2a7d69bd-6edf-4181-8b96-3ac4f0552ba6',\n",
        "#    2009: 'https://www.data.gouv.fr/fr/datasets/r/240f89af-1b80-4c48-b896-d4f4ae943d4a',\n",
        "#    2008: 'https://www.data.gouv.fr/fr/datasets/r/4d887ca2-af0e-4407-aa19-b7ab12077223',\n",
        "#    2007: 'https://www.data.gouv.fr/fr/datasets/r/7709f33d-4624-441a-bc04-bd72a28e4d08',\n",
        "#    2006: 'https://www.data.gouv.fr/fr/datasets/r/dd9ca2d6-21bb-40f1-a26c-9c50a3aceeef',\n",
        "#    2005: 'https://www.data.gouv.fr/fr/datasets/r/045bcee9-bb3c-4410-a013-f2a4183473fc',\n",
        "#    2004: 'https://www.data.gouv.fr/fr/datasets/r/36653f18-ae52-40c8-9c5f-6de43eeddac6'\n",
        "}\n",
        "annee_min = min(fichiers_insee_deces.keys()) + 1"
      ],
      "execution_count": 149,
      "outputs": []
    },
    {
      "cell_type": "code",
      "metadata": {
        "id": "AFTCvXURmTi-"
      },
      "source": [
        "# Récupration et lecture des fichiers de décès INSEE\n",
        "_dataframes = {annee_fichier: pd.read_csv(_fichier, sep='@@@', engine='python', header=None, encoding='latin1')\n",
        "               for annee_fichier, _fichier in fichiers_insee_deces.items()}"
      ],
      "execution_count": 150,
      "outputs": []
    },
    {
      "cell_type": "code",
      "metadata": {
        "id": "LWbI1rd0K03R"
      },
      "source": [
        "# Concatenation et elimination des quelques lignes dont les informations sont inexploitables\n",
        "deces = pd.concat([pd.DataFrame([y for y in df[0].map(lambda x: parse(x, annee_fichier))])\n",
        "                   for annee_fichier, df in _dataframes.items()])\n",
        "free(_dataframes)"
      ],
      "execution_count": 151,
      "outputs": []
    },
    {
      "cell_type": "code",
      "metadata": {
        "id": "lh9rRn6wuMLa"
      },
      "source": [
        "#deces.to_parquet('/drive/My Drive/Colab Notebooks/deces.parquet')"
      ],
      "execution_count": 152,
      "outputs": []
    },
    {
      "cell_type": "code",
      "metadata": {
        "id": "rf5vp1iNyGsu"
      },
      "source": [
        "#deces = pd.read_parquet('/drive/My Drive/Colab Notebooks/deces.parquet')"
      ],
      "execution_count": 153,
      "outputs": []
    },
    {
      "cell_type": "code",
      "metadata": {
        "colab": {
          "base_uri": "https://localhost:8080/"
        },
        "id": "vKnaqk2BJzxa",
        "outputId": "2a4ded94-8c15-4aea-c6c5-d27100949f3f"
      },
      "source": [
        "['Fichier {} : {} décès dont {}% en France métropolitaine et {} inexploitables'.format\n",
        " (annee_fichier,\n",
        "  k_format(deces.query(f'ANNEE_FICHIER=={int(annee_fichier)}').shape[0]),\n",
        "  int(10000*deces[~deces['COMM_DECES'].fillna('').str.startswith('99')].query(f'ANNEE_FICHIER=={int(annee_fichier)}').shape[0]/deces.query(f'ANNEE_FICHIER=={int(annee_fichier)}').shape[0])/100,\n",
        "  deces.query(f'ANNEE_FICHIER=={int(annee_fichier)} and not (AGE_REVOLU==AGE_REVOLU and SEXE==SEXE and ANNEE==ANNEE)').shape[0],\n",
        ")\n",
        "for annee_fichier in fichiers_insee_deces.keys()]"
      ],
      "execution_count": 154,
      "outputs": [
        {
          "output_type": "execute_result",
          "data": {
            "text/plain": [
              "['Fichier 2021.02 : 125.1 décès dont 99.09% en France métropolitaine et 0 inexploitables',\n",
              " 'Fichier 2021.01 : 125.1 décès dont 99.09% en France métropolitaine et 0 inexploitables',\n",
              " 'Fichier 2020 : 679.9 décès dont 99.1% en France métropolitaine et 3 inexploitables',\n",
              " 'Fichier 2019 : 625.3 décès dont 98.88% en France métropolitaine et 1 inexploitables',\n",
              " 'Fichier 2018 : 620.1 décès dont 98.81% en France métropolitaine et 0 inexploitables',\n",
              " 'Fichier 2017 : 612.9 décès dont 98.74% en France métropolitaine et 1 inexploitables',\n",
              " 'Fichier 2016 : 603.3 décès dont 98.67% en France métropolitaine et 1 inexploitables',\n",
              " 'Fichier 2015 : 609.6 décès dont 98.0% en France métropolitaine et 1 inexploitables',\n",
              " 'Fichier 2014 : 569.4 décès dont 99.01% en France métropolitaine et 1 inexploitables',\n",
              " 'Fichier 2013 : 582.6 décès dont 98.94% en France métropolitaine et 1 inexploitables',\n",
              " 'Fichier 2012 : 579.9 décès dont 98.85% en France métropolitaine et 0 inexploitables',\n",
              " 'Fichier 2011 : 549.1 décès dont 99.95% en France métropolitaine et 1 inexploitables']"
            ]
          },
          "metadata": {
            "tags": []
          },
          "execution_count": 154
        }
      ]
    },
    {
      "cell_type": "code",
      "metadata": {
        "id": "srzRsHvhaz7D"
      },
      "source": [
        "# Limitation au décès survenus en France metropolitaine\n",
        "_cols = ['SEXE', 'DATE_NAISSANCE', 'COMM_NAISSANCE', 'DATE_DECES',\t'COMM_DECES',\t'AGE_REVOLU',\t'ANNEE', 'ANNEE_FICHIER']\n",
        "deces_metro = deces[~deces['COMM_DECES'].fillna('').str.startswith('99')].query('AGE_REVOLU==AGE_REVOLU and SEXE==SEXE and ANNEE==ANNEE')[_cols]"
      ],
      "execution_count": 155,
      "outputs": []
    },
    {
      "cell_type": "code",
      "metadata": {
        "id": "LEzosHu3IKGS"
      },
      "source": [
        "free(deces)"
      ],
      "execution_count": 156,
      "outputs": []
    },
    {
      "cell_type": "code",
      "metadata": {
        "colab": {
          "base_uri": "https://localhost:8080/"
        },
        "id": "jLrHWEbMP31k",
        "outputId": "0a03e321-deb4-426d-9c88-bd475e840d94"
      },
      "source": [
        "# Jusqu'à 4% des décès metropolitains d'une année sont remontés dans les fichiers des années suivantes\n",
        "for annee in range(annee_min-1, 2021):\n",
        "    deces_annee_n = deces_metro.query(f'DATE_DECES>=\"{annee}-01-01\" and DATE_DECES<=\"{annee}-12-31\"')\n",
        "    fichier_n_plus = deces_annee_n.query(f'ANNEE_FICHIER>={annee+1}')['DATE_DECES'].count()\n",
        "    print(annee, int(10000*(fichier_n_plus/deces_annee_n.shape[0]))/100)"
      ],
      "execution_count": 157,
      "outputs": [
        {
          "output_type": "stream",
          "text": [
            "2011 3.48\n",
            "2012 3.28\n",
            "2013 2.87\n",
            "2014 2.54\n",
            "2015 2.04\n",
            "2016 2.22\n",
            "2017 2.67\n",
            "2018 2.55\n",
            "2019 2.2\n",
            "2020 1.64\n"
          ],
          "name": "stdout"
        }
      ]
    },
    {
      "cell_type": "code",
      "metadata": {
        "colab": {
          "base_uri": "https://localhost:8080/"
        },
        "id": "niSqcwoGvIdD",
        "outputId": "40edbae5-cfcc-4f92-cd21-ee05615b575b"
      },
      "source": [
        "# Au moins 99.6% des décès metropolitains sont remontés dans les deux mois suivant la date du décès\n",
        "for annee in range(annee_min, 2020):\n",
        "    deces_annee_n_hors_decembre = deces_metro.query(f'DATE_DECES>=\"{annee-1}-11-01\" and DATE_DECES<\"{annee}-11-01\"')\n",
        "    fichier_n_plus = deces_annee_n_hors_decembre.query(f'ANNEE_FICHIER>={annee+1}')['DATE_DECES'].count()\n",
        "    print(annee, int(10000*(1 - fichier_n_plus/deces_annee_n_hors_decembre.shape[0]))/100)"
      ],
      "execution_count": 158,
      "outputs": [
        {
          "output_type": "stream",
          "text": [
            "2012 99.44\n",
            "2013 99.64\n",
            "2014 99.71\n",
            "2015 99.87\n",
            "2016 99.84\n",
            "2017 99.74\n",
            "2018 99.85\n",
            "2019 99.91\n"
          ],
          "name": "stdout"
        }
      ]
    },
    {
      "cell_type": "code",
      "metadata": {
        "id": "2CX_u3DuS-41"
      },
      "source": [
        "_dict = pd.Series({annee: datetime(2020, 12, 31) + timedelta(days=-n*365) for n, annee in enumerate(range(2020, annee_min-2, -1))}).sort_index()\n",
        "def annee_glissante(_date):\n",
        "  for annee, date_limite in _dict.items():\n",
        "    if _date <= date_limite:\n",
        "      return annee"
      ],
      "execution_count": 159,
      "outputs": []
    },
    {
      "cell_type": "code",
      "metadata": {
        "id": "ulhfxTqQxPIy"
      },
      "source": [
        "# Re-definition de l'année de décès pour avoir des années glissantes de 365 jours (corrige le biais des anées bissextiles)\n",
        "deces_metro['ANNEE'] = deces_metro['DATE_DECES'].map(annee_glissante)"
      ],
      "execution_count": 160,
      "outputs": []
    },
    {
      "cell_type": "code",
      "metadata": {
        "colab": {
          "base_uri": "https://localhost:8080/",
          "height": 359
        },
        "id": "bVYOH0z-sPDp",
        "outputId": "cee9cd14-9e0e-4986-b2f2-2f2de9076969"
      },
      "source": [
        "f = deces_metro.query('SEXE==\"F\"').groupby('ANNEE').ANNEE_FICHIER.count().map(k_format).reset_index().rename(columns={'ANNEE_FICHIER': 'F'})\n",
        "h = deces_metro.query('SEXE==\"H\"').groupby('ANNEE').ANNEE_FICHIER.count().map(k_format).reset_index().rename(columns={'ANNEE_FICHIER': 'H'})\n",
        "f.merge(h, on=\"ANNEE\").sort_values('ANNEE', ascending=False)"
      ],
      "execution_count": 191,
      "outputs": [
        {
          "output_type": "execute_result",
          "data": {
            "text/html": [
              "<div>\n",
              "<style scoped>\n",
              "    .dataframe tbody tr th:only-of-type {\n",
              "        vertical-align: middle;\n",
              "    }\n",
              "\n",
              "    .dataframe tbody tr th {\n",
              "        vertical-align: top;\n",
              "    }\n",
              "\n",
              "    .dataframe thead th {\n",
              "        text-align: right;\n",
              "    }\n",
              "</style>\n",
              "<table border=\"1\" class=\"dataframe\">\n",
              "  <thead>\n",
              "    <tr style=\"text-align: right;\">\n",
              "      <th></th>\n",
              "      <th>ANNEE</th>\n",
              "      <th>F</th>\n",
              "      <th>H</th>\n",
              "    </tr>\n",
              "  </thead>\n",
              "  <tbody>\n",
              "    <tr>\n",
              "      <th>9</th>\n",
              "      <td>2020.0</td>\n",
              "      <td>333.6</td>\n",
              "      <td>335.2</td>\n",
              "    </tr>\n",
              "    <tr>\n",
              "      <th>8</th>\n",
              "      <td>2019.0</td>\n",
              "      <td>309.4</td>\n",
              "      <td>306.1</td>\n",
              "    </tr>\n",
              "    <tr>\n",
              "      <th>7</th>\n",
              "      <td>2018.0</td>\n",
              "      <td>306.7</td>\n",
              "      <td>305.0</td>\n",
              "    </tr>\n",
              "    <tr>\n",
              "      <th>6</th>\n",
              "      <td>2017.0</td>\n",
              "      <td>306.0</td>\n",
              "      <td>301.9</td>\n",
              "    </tr>\n",
              "    <tr>\n",
              "      <th>5</th>\n",
              "      <td>2016.0</td>\n",
              "      <td>296.6</td>\n",
              "      <td>296.8</td>\n",
              "    </tr>\n",
              "    <tr>\n",
              "      <th>4</th>\n",
              "      <td>2015.0</td>\n",
              "      <td>296.9</td>\n",
              "      <td>297.2</td>\n",
              "    </tr>\n",
              "    <tr>\n",
              "      <th>3</th>\n",
              "      <td>2014.0</td>\n",
              "      <td>277.8</td>\n",
              "      <td>283.7</td>\n",
              "    </tr>\n",
              "    <tr>\n",
              "      <th>2</th>\n",
              "      <td>2013.0</td>\n",
              "      <td>282.6</td>\n",
              "      <td>288.7</td>\n",
              "    </tr>\n",
              "    <tr>\n",
              "      <th>1</th>\n",
              "      <td>2012.0</td>\n",
              "      <td>282.9</td>\n",
              "      <td>287.9</td>\n",
              "    </tr>\n",
              "    <tr>\n",
              "      <th>0</th>\n",
              "      <td>2011.0</td>\n",
              "      <td>283.5</td>\n",
              "      <td>297.1</td>\n",
              "    </tr>\n",
              "  </tbody>\n",
              "</table>\n",
              "</div>"
            ],
            "text/plain": [
              "    ANNEE      F      H\n",
              "9  2020.0  333.6  335.2\n",
              "8  2019.0  309.4  306.1\n",
              "7  2018.0  306.7  305.0\n",
              "6  2017.0  306.0  301.9\n",
              "5  2016.0  296.6  296.8\n",
              "4  2015.0  296.9  297.2\n",
              "3  2014.0  277.8  283.7\n",
              "2  2013.0  282.6  288.7\n",
              "1  2012.0  282.9  287.9\n",
              "0  2011.0  283.5  297.1"
            ]
          },
          "metadata": {
            "tags": []
          },
          "execution_count": 191
        }
      ]
    },
    {
      "cell_type": "code",
      "metadata": {
        "id": "cSFOVuY5Stsu"
      },
      "source": [
        "source_insee = 'https://www.insee.fr/fr/statistiques/pyramide/3312958/xls/pyramides-des-ages_bilan-demo_2019.xls'\n",
        "annees = range(annee_min, 2021)\n",
        "pyramide_metro_orig = {}\n",
        "pyramide_metro_orig['H'] = pd.read_excel(source_insee, sheet_name='France métropolitaine', skiprows=[x for x in range(0,10) if x != 8], nrows=106)[annees].reset_index()\n",
        "pyramide_metro_orig['F'] = pd.read_excel(source_insee, sheet_name='France métropolitaine', skiprows=[x for x in range(0,119) if x != 8], nrows=106)[annees].reset_index()"
      ],
      "execution_count": 162,
      "outputs": []
    },
    {
      "cell_type": "code",
      "metadata": {
        "id": "VjUhOlv6TV1P"
      },
      "source": [
        "pyramide_metro = pd.concat([\n",
        "                            pd.DataFrame([{'ANNEE': annee, 'SEXE': sexe, 'NB': nb, 'AGE_REVOLU': index} for (index, nb) in enumerate(pyramide_metro_orig[sexe][annee])])\n",
        "                            for annee in annees for sexe in ['H', 'F']])\n",
        "\n",
        "centenaires = pyramide_metro.query('AGE_REVOLU>=100').groupby(['ANNEE', 'SEXE'])['NB'].sum().reset_index()\n",
        "centenaires['AGE_REVOLU'] = 100\n",
        "pyramide_metro = pd.concat([pyramide_metro.query('AGE_REVOLU < 100'), centenaires])"
      ],
      "execution_count": 163,
      "outputs": []
    },
    {
      "cell_type": "code",
      "metadata": {
        "id": "vMTIpx7gZLDT"
      },
      "source": [
        "#pyramide_metro.to_parquet('/drive/My Drive/Colab Notebooks/pyramide_metro.parquet')"
      ],
      "execution_count": 164,
      "outputs": []
    },
    {
      "cell_type": "code",
      "metadata": {
        "id": "TL78T7QQbmHx"
      },
      "source": [
        "# Aggrégation des décès par année, age révolu et sexe\n",
        "deces_metro_agg = deces_metro.groupby(['AGE_REVOLU', 'ANNEE', 'SEXE'])['DATE_DECES'].count().reset_index()\n",
        "deces_metro_agg.columns = ['AGE_REVOLU', 'ANNEE', 'SEXE', 'NB_DECES']"
      ],
      "execution_count": 165,
      "outputs": []
    },
    {
      "cell_type": "code",
      "metadata": {
        "id": "vNkMmFoebniy"
      },
      "source": [
        "# Jointure entre les pyrmides d'âge et les décès par age révolu\n",
        "_merge = deces_metro_agg.merge(pyramide_metro)"
      ],
      "execution_count": 166,
      "outputs": []
    },
    {
      "cell_type": "code",
      "metadata": {
        "id": "ebU1m9hkbp30"
      },
      "source": [
        "# Retourne les taux de mortalité par age révolu pour une année et un sexe donnés\n",
        "def mortalite_par_age(df, annee, sexe):\n",
        "    _filtre = df['ANNEE'] == annee\n",
        "    if sexe != \"HF\":\n",
        "      _filtre = _filtre & (df['SEXE']==sexe)\n",
        "    _df = df[_filtre]\n",
        "    _df = _df.groupby('AGE_REVOLU')\n",
        "    return pd.DataFrame(_df['NB_DECES'].sum() / _df['NB'].sum(), columns=[f'{annee}_{sexe}_MORTALITE'])"
      ],
      "execution_count": 167,
      "outputs": []
    },
    {
      "cell_type": "code",
      "metadata": {
        "id": "RucyTbQ-brY5"
      },
      "source": [
        "# Calcul des series de taux de mortalité pour toutes les combinaisons d'année et sexe\n",
        "taux_mortalite = pd.concat([mortalite_par_age(_merge, annee, sexe)\n",
        "                            for annee in range(annee_min, 2021)\n",
        "                            for sexe in [\"H\", \"F\", \"HF\"]], axis=1)"
      ],
      "execution_count": 168,
      "outputs": []
    },
    {
      "cell_type": "code",
      "metadata": {
        "id": "yLutcjpMbsk3"
      },
      "source": [
        "# Enrichissement avec la pyramide d'age 2020 et la mortalité max et min observée entre 2017 et 2019\n",
        "for sexe in [\"H\", \"F\", \"HF\"]:\n",
        "    taux_mortalite[f'NB_2020_{sexe}'] = _merge.query('ANNEE==2020').query('SEXE==SEXE' if sexe == \"HF\" else f'SEXE==\"{sexe}\"').groupby('AGE_REVOLU')['NB'].sum()\n",
        "    taux_mortalite[f'MAX_{sexe}_MORTALITE'] =taux_mortalite[[f'{annee}_{sexe}_MORTALITE'\n",
        "                                                             for annee in range(annee_min, 2020)]].max(axis=1)\n",
        "    taux_mortalite[f'MIN_{sexe}_MORTALITE'] = taux_mortalite[[f'{annee}_{sexe}_MORTALITE'\n",
        "                                                              for annee in range(annee_min, 2020)]].min(axis=1)\n",
        "    taux_mortalite[f'CENT75_{sexe}_MORTALITE'] =taux_mortalite[[f'{annee}_{sexe}_MORTALITE'\n",
        "                                                             for annee in range(annee_min, 2020)]].quantile(0.75, axis=1)\n",
        "    taux_mortalite[f'CENT25_{sexe}_MORTALITE'] = taux_mortalite[[f'{annee}_{sexe}_MORTALITE'\n",
        "                                                              for annee in range(annee_min, 2020)]].quantile(0.25, axis=1)\n",
        "    taux_mortalite[f'MED_{sexe}_MORTALITE'] = taux_mortalite[[f'{annee}_{sexe}_MORTALITE'\n",
        "                                                              for annee in range(annee_min, 2020)]].quantile(0.5, axis=1)\n",
        "    taux_mortalite[f'MOY_{sexe}_MORTALITE'] = taux_mortalite[[f'{annee}_{sexe}_MORTALITE'\n",
        "                                                              for annee in range(annee_min, 2020)]].mean(axis=1)"
      ],
      "execution_count": 169,
      "outputs": []
    },
    {
      "cell_type": "code",
      "metadata": {
        "id": "Sg8LCZLNVVZo"
      },
      "source": [
        "_list = []\n",
        "for sexe in [\"F\", \"H\", \"HF\"]:\n",
        "  for ages in [(0, 44), (45, 64), (65,74), (75, 89), (90, 100), (0, 64), (65, 100)]:\n",
        "    _pop = taux_mortalite.query(f'AGE_REVOLU>={ages[0]} and AGE_REVOLU<={ages[1]}')[f'NB_2020_{sexe}']\n",
        "    _deces_2020 = _pop.multiply(taux_mortalite[f'2020_{sexe}_MORTALITE']).sum()\n",
        "    _enveloppe_25 = _pop.multiply(taux_mortalite[f'CENT25_{sexe}_MORTALITE']).sum()\n",
        "    _enveloppe_min = _pop.multiply(taux_mortalite[f'MIN_{sexe}_MORTALITE']).sum()\n",
        "    _enveloppe_moy = _pop.multiply(taux_mortalite[f'MOY_{sexe}_MORTALITE']).sum()\n",
        "    _enveloppe_med = _pop.multiply(taux_mortalite[f'MED_{sexe}_MORTALITE']).sum()\n",
        "    _enveloppe_75 = _pop.multiply(taux_mortalite[f'CENT75_{sexe}_MORTALITE']).sum()\n",
        "    _enveloppe_max = _pop.multiply(taux_mortalite[f'MAX_{sexe}_MORTALITE']).sum()\n",
        "    _depassement = round(100000*(_deces_2020 - _enveloppe_max)/_enveloppe_max,2)\n",
        "    _depassement_75 = round(100000*(_deces_2020 - _enveloppe_75)/_enveloppe_75,2)\n",
        "    _ecart_moy = round(100000*(_deces_2020 - _enveloppe_moy)/_enveloppe_moy,2)\n",
        "    _ecart_med = round(100000*(_deces_2020 - _enveloppe_med)/_enveloppe_med,2)\n",
        "    _list.append(\n",
        "        {'SEXE': sexe,#'Hommes' if sexe==\"H\" else 'Femmes',\n",
        "         'AGE RÉVOLU': f'{ages[0]} à {ages[1]}',\n",
        "         'DÉCÈS 2020 (en milliers)': f'{k_format(_deces_2020)}',\n",
        "         #f'ENVELOPPE MIN-MAX DEPUIS {annee_min} (en pourcent)': f'{k_format(_enveloppe_min)} à {k_format(_enveloppe_max)}',\n",
        "         f'ENVELOPPE CENTILE 25 à 75 DEPUIS {annee_min} (en milliers)': f'{k_format(_enveloppe_25)} à {k_format(_enveloppe_75)}',\n",
        "         f'ECART MÉDIANE DEPUIS {annee_min} (en pourcent)':  f'{k_format(_ecart_med)}',\n",
        "         f'ECART MOYENNE DEPUIS {annee_min} (en pourcent)':  f'{k_format(_ecart_moy)}',\n",
        "         #f'ECART MAX DEPUIS {annee_min} (en pourcent)': f'{k_format(_depassement)}',\n",
        "         f'ECART CENTILE 75 DEPUIS {annee_min} (en pourcent)': f'{k_format(_depassement_75)}'\n",
        "         })"
      ],
      "execution_count": 175,
      "outputs": []
    },
    {
      "cell_type": "code",
      "metadata": {
        "colab": {
          "base_uri": "https://localhost:8080/",
          "height": 717
        },
        "id": "G6An2QTofls2",
        "outputId": "4197e5c2-8cb8-40c7-9e46-133621a37af6"
      },
      "source": [
        "pd.DataFrame(_list)"
      ],
      "execution_count": 176,
      "outputs": [
        {
          "output_type": "execute_result",
          "data": {
            "text/html": [
              "<div>\n",
              "<style scoped>\n",
              "    .dataframe tbody tr th:only-of-type {\n",
              "        vertical-align: middle;\n",
              "    }\n",
              "\n",
              "    .dataframe tbody tr th {\n",
              "        vertical-align: top;\n",
              "    }\n",
              "\n",
              "    .dataframe thead th {\n",
              "        text-align: right;\n",
              "    }\n",
              "</style>\n",
              "<table border=\"1\" class=\"dataframe\">\n",
              "  <thead>\n",
              "    <tr style=\"text-align: right;\">\n",
              "      <th></th>\n",
              "      <th>SEXE</th>\n",
              "      <th>AGE RÉVOLU</th>\n",
              "      <th>DÉCÈS 2020 (en milliers)</th>\n",
              "      <th>ENVELOPPE CENTILE 25 à 75 DEPUIS 2012 (en milliers)</th>\n",
              "      <th>ECART MÉDIANE DEPUIS 2012 (en pourcent)</th>\n",
              "      <th>ECART MOYENNE DEPUIS 2012 (en pourcent)</th>\n",
              "      <th>ECART CENTILE 75 DEPUIS 2012 (en pourcent)</th>\n",
              "    </tr>\n",
              "  </thead>\n",
              "  <tbody>\n",
              "    <tr>\n",
              "      <th>0</th>\n",
              "      <td>F</td>\n",
              "      <td>0 à 44</td>\n",
              "      <td>6.5</td>\n",
              "      <td>6.5 à 7.2</td>\n",
              "      <td>-4.9</td>\n",
              "      <td>-4.9</td>\n",
              "      <td>-9.3</td>\n",
              "    </tr>\n",
              "    <tr>\n",
              "      <th>1</th>\n",
              "      <td>F</td>\n",
              "      <td>45 à 64</td>\n",
              "      <td>27.8</td>\n",
              "      <td>27.3 à 28.5</td>\n",
              "      <td>-0.4</td>\n",
              "      <td>-0.2</td>\n",
              "      <td>-2.2</td>\n",
              "    </tr>\n",
              "    <tr>\n",
              "      <th>2</th>\n",
              "      <td>F</td>\n",
              "      <td>65 à 74</td>\n",
              "      <td>36.9</td>\n",
              "      <td>34.4 à 35.9</td>\n",
              "      <td>5.4</td>\n",
              "      <td>4.4</td>\n",
              "      <td>2.8</td>\n",
              "    </tr>\n",
              "    <tr>\n",
              "      <th>3</th>\n",
              "      <td>F</td>\n",
              "      <td>75 à 89</td>\n",
              "      <td>132.4</td>\n",
              "      <td>127.5 à 134.4</td>\n",
              "      <td>1.4</td>\n",
              "      <td>1.0</td>\n",
              "      <td>-1.4</td>\n",
              "    </tr>\n",
              "    <tr>\n",
              "      <th>4</th>\n",
              "      <td>F</td>\n",
              "      <td>90 à 100</td>\n",
              "      <td>129.8</td>\n",
              "      <td>125.0 à 135.0</td>\n",
              "      <td>-0.2</td>\n",
              "      <td>-3.1</td>\n",
              "      <td>-3.8</td>\n",
              "    </tr>\n",
              "    <tr>\n",
              "      <th>5</th>\n",
              "      <td>F</td>\n",
              "      <td>0 à 64</td>\n",
              "      <td>34.4</td>\n",
              "      <td>33.8 à 35.7</td>\n",
              "      <td>-1.3</td>\n",
              "      <td>-1.2</td>\n",
              "      <td>-3.6</td>\n",
              "    </tr>\n",
              "    <tr>\n",
              "      <th>6</th>\n",
              "      <td>F</td>\n",
              "      <td>65 à 100</td>\n",
              "      <td>299.2</td>\n",
              "      <td>287.0 à 305.4</td>\n",
              "      <td>1.2</td>\n",
              "      <td>-0.4</td>\n",
              "      <td>-2.0</td>\n",
              "    </tr>\n",
              "    <tr>\n",
              "      <th>7</th>\n",
              "      <td>H</td>\n",
              "      <td>0 à 44</td>\n",
              "      <td>12.8</td>\n",
              "      <td>12.8 à 13.9</td>\n",
              "      <td>-3.9</td>\n",
              "      <td>-4.5</td>\n",
              "      <td>-8.3</td>\n",
              "    </tr>\n",
              "    <tr>\n",
              "      <th>8</th>\n",
              "      <td>H</td>\n",
              "      <td>45 à 64</td>\n",
              "      <td>53.0</td>\n",
              "      <td>53.5 à 57.0</td>\n",
              "      <td>-4.2</td>\n",
              "      <td>-4.2</td>\n",
              "      <td>-6.9</td>\n",
              "    </tr>\n",
              "    <tr>\n",
              "      <th>9</th>\n",
              "      <td>H</td>\n",
              "      <td>65 à 74</td>\n",
              "      <td>67.6</td>\n",
              "      <td>62.9 à 66.4</td>\n",
              "      <td>5.0</td>\n",
              "      <td>3.7</td>\n",
              "      <td>1.8</td>\n",
              "    </tr>\n",
              "    <tr>\n",
              "      <th>10</th>\n",
              "      <td>H</td>\n",
              "      <td>75 à 89</td>\n",
              "      <td>141.5</td>\n",
              "      <td>133.4 à 141.5</td>\n",
              "      <td>3.2</td>\n",
              "      <td>2.9</td>\n",
              "      <td>0.0</td>\n",
              "    </tr>\n",
              "    <tr>\n",
              "      <th>11</th>\n",
              "      <td>H</td>\n",
              "      <td>90 à 100</td>\n",
              "      <td>60.0</td>\n",
              "      <td>55.5 à 59.7</td>\n",
              "      <td>4.7</td>\n",
              "      <td>1.5</td>\n",
              "      <td>0.5</td>\n",
              "    </tr>\n",
              "    <tr>\n",
              "      <th>12</th>\n",
              "      <td>H</td>\n",
              "      <td>0 à 64</td>\n",
              "      <td>65.8</td>\n",
              "      <td>66.3 à 70.9</td>\n",
              "      <td>-4.1</td>\n",
              "      <td>-4.3</td>\n",
              "      <td>-7.2</td>\n",
              "    </tr>\n",
              "    <tr>\n",
              "      <th>13</th>\n",
              "      <td>H</td>\n",
              "      <td>65 à 100</td>\n",
              "      <td>269.3</td>\n",
              "      <td>251.9 à 267.7</td>\n",
              "      <td>4.0</td>\n",
              "      <td>2.8</td>\n",
              "      <td>0.5</td>\n",
              "    </tr>\n",
              "    <tr>\n",
              "      <th>14</th>\n",
              "      <td>HF</td>\n",
              "      <td>0 à 44</td>\n",
              "      <td>19.3</td>\n",
              "      <td>19.5 à 21.0</td>\n",
              "      <td>-4.3</td>\n",
              "      <td>-4.8</td>\n",
              "      <td>-8.0</td>\n",
              "    </tr>\n",
              "    <tr>\n",
              "      <th>15</th>\n",
              "      <td>HF</td>\n",
              "      <td>45 à 64</td>\n",
              "      <td>80.9</td>\n",
              "      <td>81.3 à 85.2</td>\n",
              "      <td>-2.6</td>\n",
              "      <td>-2.9</td>\n",
              "      <td>-5.0</td>\n",
              "    </tr>\n",
              "    <tr>\n",
              "      <th>16</th>\n",
              "      <td>HF</td>\n",
              "      <td>65 à 74</td>\n",
              "      <td>104.6</td>\n",
              "      <td>97.4 à 102.1</td>\n",
              "      <td>5.2</td>\n",
              "      <td>3.9</td>\n",
              "      <td>2.4</td>\n",
              "    </tr>\n",
              "    <tr>\n",
              "      <th>17</th>\n",
              "      <td>HF</td>\n",
              "      <td>75 à 89</td>\n",
              "      <td>274.0</td>\n",
              "      <td>259.4 à 272.9</td>\n",
              "      <td>3.0</td>\n",
              "      <td>2.8</td>\n",
              "      <td>0.4</td>\n",
              "    </tr>\n",
              "    <tr>\n",
              "      <th>18</th>\n",
              "      <td>HF</td>\n",
              "      <td>90 à 100</td>\n",
              "      <td>189.9</td>\n",
              "      <td>180.0 à 194.0</td>\n",
              "      <td>1.5</td>\n",
              "      <td>-1.4</td>\n",
              "      <td>-2.1</td>\n",
              "    </tr>\n",
              "    <tr>\n",
              "      <th>19</th>\n",
              "      <td>HF</td>\n",
              "      <td>0 à 64</td>\n",
              "      <td>100.2</td>\n",
              "      <td>100.8 à 106.2</td>\n",
              "      <td>-2.9</td>\n",
              "      <td>-3.3</td>\n",
              "      <td>-5.6</td>\n",
              "    </tr>\n",
              "    <tr>\n",
              "      <th>20</th>\n",
              "      <td>HF</td>\n",
              "      <td>65 à 100</td>\n",
              "      <td>568.6</td>\n",
              "      <td>536.9 à 569.1</td>\n",
              "      <td>2.9</td>\n",
              "      <td>1.5</td>\n",
              "      <td>0.0</td>\n",
              "    </tr>\n",
              "  </tbody>\n",
              "</table>\n",
              "</div>"
            ],
            "text/plain": [
              "   SEXE  ... ECART CENTILE 75 DEPUIS 2012 (en pourcent)\n",
              "0     F  ...                                       -9.3\n",
              "1     F  ...                                       -2.2\n",
              "2     F  ...                                        2.8\n",
              "3     F  ...                                       -1.4\n",
              "4     F  ...                                       -3.8\n",
              "5     F  ...                                       -3.6\n",
              "6     F  ...                                       -2.0\n",
              "7     H  ...                                       -8.3\n",
              "8     H  ...                                       -6.9\n",
              "9     H  ...                                        1.8\n",
              "10    H  ...                                        0.0\n",
              "11    H  ...                                        0.5\n",
              "12    H  ...                                       -7.2\n",
              "13    H  ...                                        0.5\n",
              "14   HF  ...                                       -8.0\n",
              "15   HF  ...                                       -5.0\n",
              "16   HF  ...                                        2.4\n",
              "17   HF  ...                                        0.4\n",
              "18   HF  ...                                       -2.1\n",
              "19   HF  ...                                       -5.6\n",
              "20   HF  ...                                        0.0\n",
              "\n",
              "[21 rows x 7 columns]"
            ]
          },
          "metadata": {
            "tags": []
          },
          "execution_count": 176
        }
      ]
    },
    {
      "cell_type": "code",
      "metadata": {
        "colab": {
          "base_uri": "https://localhost:8080/",
          "height": 542
        },
        "id": "KJZC0zFwagaY",
        "outputId": "426da30f-65c2-42b3-b8ba-e05e410b778a"
      },
      "source": [
        "import plotly.graph_objects as go\n",
        "fig = go.Figure()\n",
        "fig.update_layout(\n",
        "    title='Taux de mortalité par âge révolu',\n",
        "    font=dict(\n",
        "        family=\"Century Gothic\",\n",
        "        size=18,\n",
        "    ),\n",
        "    legend=dict(\n",
        "      yanchor=\"top\", y=0.99, xanchor=\"left\", x=0.01\n",
        "    )\n",
        ")\n",
        "sexe = 'H'\n",
        "col = f'CENT25_{sexe}_MORTALITE'\n",
        "fig.add_trace(go.Scatter(x=taux_mortalite[col].index, y=taux_mortalite[col], name='2012_2019_'+col, line_color='grey'))\n",
        "col = f'CENT75_{sexe}_MORTALITE'\n",
        "fig.add_trace(go.Scatter(x=taux_mortalite[col].index, y=taux_mortalite[col], name='2012_2019_'+col, line_color='grey', fill='tonexty'))\n",
        "col = f'2020_{sexe}_MORTALITE'\n",
        "fig.add_trace(go.Scatter(x=taux_mortalite[col].index, y=taux_mortalite[col], name=col, line_color='red'))\n",
        "\n",
        "fig.show()"
      ],
      "execution_count": 174,
      "outputs": [
        {
          "output_type": "display_data",
          "data": {
            "text/html": [
              "<html>\n",
              "<head><meta charset=\"utf-8\" /></head>\n",
              "<body>\n",
              "    <div>\n",
              "            <script src=\"https://cdnjs.cloudflare.com/ajax/libs/mathjax/2.7.5/MathJax.js?config=TeX-AMS-MML_SVG\"></script><script type=\"text/javascript\">if (window.MathJax) {MathJax.Hub.Config({SVG: {font: \"STIX-Web\"}});}</script>\n",
              "                <script type=\"text/javascript\">window.PlotlyConfig = {MathJaxConfig: 'local'};</script>\n",
              "        <script src=\"https://cdn.plot.ly/plotly-latest.min.js\"></script>    \n",
              "            <div id=\"7ae061d1-78b2-4037-ae3f-5b2207ace446\" class=\"plotly-graph-div\" style=\"height:525px; width:100%;\"></div>\n",
              "            <script type=\"text/javascript\">\n",
              "                \n",
              "                    window.PLOTLYENV=window.PLOTLYENV || {};\n",
              "                    \n",
              "                if (document.getElementById(\"7ae061d1-78b2-4037-ae3f-5b2207ace446\")) {\n",
              "                    Plotly.newPlot(\n",
              "                        '7ae061d1-78b2-4037-ae3f-5b2207ace446',\n",
              "                        [{\"line\": {\"color\": \"grey\"}, \"name\": \"2012_2019_CENT25_H_MORTALITE\", \"type\": \"scatter\", \"x\": [0.0, 1.0, 2.0, 3.0, 4.0, 5.0, 6.0, 7.0, 8.0, 9.0, 10.0, 11.0, 12.0, 13.0, 14.0, 15.0, 16.0, 17.0, 18.0, 19.0, 20.0, 21.0, 22.0, 23.0, 24.0, 25.0, 26.0, 27.0, 28.0, 29.0, 30.0, 31.0, 32.0, 33.0, 34.0, 35.0, 36.0, 37.0, 38.0, 39.0, 40.0, 41.0, 42.0, 43.0, 44.0, 45.0, 46.0, 47.0, 48.0, 49.0, 50.0, 51.0, 52.0, 53.0, 54.0, 55.0, 56.0, 57.0, 58.0, 59.0, 60.0, 61.0, 62.0, 63.0, 64.0, 65.0, 66.0, 67.0, 68.0, 69.0, 70.0, 71.0, 72.0, 73.0, 74.0, 75.0, 76.0, 77.0, 78.0, 79.0, 80.0, 81.0, 82.0, 83.0, 84.0, 85.0, 86.0, 87.0, 88.0, 89.0, 90.0, 91.0, 92.0, 93.0, 94.0, 95.0, 96.0, 97.0, 98.0, 99.0, 100.0], \"y\": [0.004314877565612555, 0.000315325206734733, 0.00019391732733808643, 0.00014535411388773696, 0.0001276191516984175, 0.00010700863168587211, 8.687056700167373e-05, 9.30950136995177e-05, 7.401700070418897e-05, 8.166444249226009e-05, 7.329909487039964e-05, 8.483665203434058e-05, 8.56619553442412e-05, 0.00010072692617700165, 0.0001478877333460551, 0.00018680757188193242, 0.0002431234667709965, 0.0003299006549396435, 0.0004144324687642501, 0.0005378987808162196, 0.0005539905577878723, 0.0005920676517130801, 0.0005892251523558724, 0.0006305948022474928, 0.0006598040816843142, 0.0006732231092987902, 0.0007470626862778116, 0.0007084924170108232, 0.0007699435095178775, 0.0007760616951982349, 0.0008264270705321416, 0.0008143161519804954, 0.0008820487359281674, 0.0009253244783296882, 0.0009971324809055584, 0.001031235659271184, 0.001080830569506886, 0.0012124020485303386, 0.0013138296055571763, 0.0014006750451064697, 0.0014572664789662467, 0.0015496255763219786, 0.0017607464177416359, 0.001976218831022777, 0.0021028842228535344, 0.0023954056664285866, 0.002603346756666086, 0.002918941192091333, 0.003187824734151014, 0.003607038487837308, 0.003908742202078869, 0.004253968357893798, 0.00467210716229402, 0.005194619225485146, 0.005620193418851213, 0.0062096315035668915, 0.006881133599891775, 0.007330408812866273, 0.00843679776313001, 0.009048392367319032, 0.009804042574748952, 0.010737907210524575, 0.011522669339592511, 0.012394113028314956, 0.012808907609325723, 0.013544918362078016, 0.014646468491197558, 0.015441907889444068, 0.016368724485339478, 0.017962099043605823, 0.019473356910542115, 0.020711672517701035, 0.022159608110121718, 0.02423836047021722, 0.02595919132352808, 0.028401114496710456, 0.03099639847292946, 0.03421552709979803, 0.03834777830027814, 0.04240244399087781, 0.04656002553573531, 0.05354371335281463, 0.06020462219555082, 0.06758457833196373, 0.07773148636002386, 0.08840037578907585, 0.10209940142566575, 0.11835206608438645, 0.1348559350238755, 0.1542750363373919, 0.17162028381358957, 0.1924202169410456, 0.21922563631129355, 0.24430865076196912, 0.27281407940532415, 0.30247304343827885, 0.3332495370630155, 0.3513218406152274, 0.37884124043426237, 0.4311528325140656, 0.41724175710253375]}, {\"fill\": \"tonexty\", \"line\": {\"color\": \"grey\"}, \"name\": \"2012_2019_CENT75_H_MORTALITE\", \"type\": \"scatter\", \"x\": [0.0, 1.0, 2.0, 3.0, 4.0, 5.0, 6.0, 7.0, 8.0, 9.0, 10.0, 11.0, 12.0, 13.0, 14.0, 15.0, 16.0, 17.0, 18.0, 19.0, 20.0, 21.0, 22.0, 23.0, 24.0, 25.0, 26.0, 27.0, 28.0, 29.0, 30.0, 31.0, 32.0, 33.0, 34.0, 35.0, 36.0, 37.0, 38.0, 39.0, 40.0, 41.0, 42.0, 43.0, 44.0, 45.0, 46.0, 47.0, 48.0, 49.0, 50.0, 51.0, 52.0, 53.0, 54.0, 55.0, 56.0, 57.0, 58.0, 59.0, 60.0, 61.0, 62.0, 63.0, 64.0, 65.0, 66.0, 67.0, 68.0, 69.0, 70.0, 71.0, 72.0, 73.0, 74.0, 75.0, 76.0, 77.0, 78.0, 79.0, 80.0, 81.0, 82.0, 83.0, 84.0, 85.0, 86.0, 87.0, 88.0, 89.0, 90.0, 91.0, 92.0, 93.0, 94.0, 95.0, 96.0, 97.0, 98.0, 99.0, 100.0], \"y\": [0.004581836302977333, 0.00034256018211158265, 0.00021891403287018995, 0.00017363579788465863, 0.00013451709549705713, 0.00012105089338925571, 0.0001099256177370745, 0.00010109204041113777, 9.464847970049599e-05, 9.426514832456989e-05, 8.871472584015269e-05, 9.379055419772434e-05, 0.00011576058327529745, 0.00011035950927580425, 0.0001682335099450027, 0.00020333768988860056, 0.00026507214495506736, 0.00034940989613084267, 0.00048654154322701334, 0.0005745115555285239, 0.0006230101444014249, 0.0006815638144705899, 0.0006925718455408573, 0.0006808040046906189, 0.000710724903426126, 0.0007570193590887641, 0.0008287847564689319, 0.0007436092016722429, 0.0008221484523633387, 0.0008645779882399891, 0.0008620340800965275, 0.00090746851868294, 0.0009721593705123439, 0.0009786096406447279, 0.0010828935047905374, 0.0010989707393944653, 0.0011723871413780293, 0.0012575767919679294, 0.0013415502170623828, 0.001553005139158366, 0.0015683516284511025, 0.0017530894033307143, 0.0018977165066864576, 0.002154748374533261, 0.0023496156865118354, 0.002663671061147309, 0.002872849159843814, 0.0032978136659748145, 0.003457148440880575, 0.003859869419106085, 0.004172971883516306, 0.004576582591842078, 0.005175772277462058, 0.005521813779661616, 0.006314123707485441, 0.006879276762161371, 0.007507190313015275, 0.008307465837582084, 0.008838805316161758, 0.009606153646737161, 0.010390553189658577, 0.01098919477597293, 0.011949734117051409, 0.012494900772269814, 0.013129583930102379, 0.014162536054625927, 0.014960315763401724, 0.01613701194712456, 0.01750440835666883, 0.01889122528213233, 0.021058308290672154, 0.02165145538297433, 0.02347367662699759, 0.026022243592864133, 0.0273364280620304, 0.029961732533414092, 0.03308541083387733, 0.03621243912870868, 0.039701045342933686, 0.04552735974979835, 0.049758328520116225, 0.05787952080847469, 0.06430112161573011, 0.07338941663649473, 0.08319528611580322, 0.09657582300169551, 0.10874609206714955, 0.12291553119406794, 0.14078420041429368, 0.1563967715632384, 0.17915581563301086, 0.20052702798628336, 0.22479414522309238, 0.25734990589415324, 0.2968050224638773, 0.34814146997950457, 0.36224633876611684, 0.40997413935330496, 0.44711597614278825, 0.5004094779810604, 0.47647876027676156]}, {\"line\": {\"color\": \"red\"}, \"name\": \"2020_H_MORTALITE\", \"type\": \"scatter\", \"x\": [0.0, 1.0, 2.0, 3.0, 4.0, 5.0, 6.0, 7.0, 8.0, 9.0, 10.0, 11.0, 12.0, 13.0, 14.0, 15.0, 16.0, 17.0, 18.0, 19.0, 20.0, 21.0, 22.0, 23.0, 24.0, 25.0, 26.0, 27.0, 28.0, 29.0, 30.0, 31.0, 32.0, 33.0, 34.0, 35.0, 36.0, 37.0, 38.0, 39.0, 40.0, 41.0, 42.0, 43.0, 44.0, 45.0, 46.0, 47.0, 48.0, 49.0, 50.0, 51.0, 52.0, 53.0, 54.0, 55.0, 56.0, 57.0, 58.0, 59.0, 60.0, 61.0, 62.0, 63.0, 64.0, 65.0, 66.0, 67.0, 68.0, 69.0, 70.0, 71.0, 72.0, 73.0, 74.0, 75.0, 76.0, 77.0, 78.0, 79.0, 80.0, 81.0, 82.0, 83.0, 84.0, 85.0, 86.0, 87.0, 88.0, 89.0, 90.0, 91.0, 92.0, 93.0, 94.0, 95.0, 96.0, 97.0, 98.0, 99.0, 100.0], \"y\": [0.004271024958528785, 0.00022373610613122982, 0.0002142939718541786, 9.554122740449972e-05, 0.00012735000557156275, 8.024934247312942e-05, 6.631807167453131e-05, 7.96550934453815e-05, 8.936661412240744e-05, 0.00010900159384552779, 6.340968509774847e-05, 7.774595052927985e-05, 0.00011551941955178465, 0.00012075515443376701, 0.00015519764296659063, 0.00019215088278549803, 0.0002369364121903784, 0.0003030094006818943, 0.000479352557723051, 0.0005011633284024027, 0.0005711704320644696, 0.0006077726190507649, 0.0006042396099757477, 0.0005718942962522965, 0.0005826144471495518, 0.0007010328550731411, 0.0006468930109210762, 0.0007180857008739969, 0.0007547727067625994, 0.0007507205576781286, 0.0007872817961767461, 0.0008686569671012576, 0.0007497411295924921, 0.001018306311694539, 0.0010913171914706983, 0.0011022641803044842, 0.0011590524090982991, 0.001138653100989205, 0.0012356237598335057, 0.0014001364112318317, 0.0015427243293716444, 0.0016313255744430815, 0.001788936196312747, 0.0020087458107250706, 0.002036400012249023, 0.002456484099539743, 0.0024211234381335003, 0.0028249794761642357, 0.00321069601130165, 0.0036349005951802882, 0.0037666507082711425, 0.004445965250641889, 0.004611931357524521, 0.004902516436182272, 0.0054377854069956886, 0.005941742738979006, 0.006695500489856388, 0.007530430427203773, 0.007944015491820734, 0.00876904994022811, 0.009693655154236824, 0.010638990532991287, 0.011693839767494607, 0.012547206248390697, 0.01329559522056618, 0.014163709052897731, 0.015635692570031074, 0.016136239373645254, 0.017968580032748215, 0.018271120936889176, 0.02031940294239595, 0.021644996684636895, 0.02345936608661326, 0.026069055024726444, 0.033087916095087606, 0.03079930242045755, 0.033784322087514, 0.03855497663648017, 0.044518748507284454, 0.04300780551748794, 0.04989314918493139, 0.05669665167416292, 0.06373733463268766, 0.07090613999957844, 0.08348888644884002, 0.09263689526847421, 0.10794214232835368, 0.12008241050733968, 0.14042994598848232, 0.1602183914417161, 0.18895996041983248, 0.20586899638864262, 0.23955977271473491, 0.2623381294964029, 0.2931752643383531, 0.31767128416323476, 0.3539987600743955, 0.3837025316455696, 0.4013731675635554, 0.4424225191924936, 0.5262066923304708]}],\n",
              "                        {\"font\": {\"family\": \"Century Gothic\", \"size\": 18}, \"legend\": {\"x\": 0.01, \"xanchor\": \"left\", \"y\": 0.99, \"yanchor\": \"top\"}, \"template\": {\"data\": {\"bar\": [{\"error_x\": {\"color\": \"#2a3f5f\"}, \"error_y\": {\"color\": \"#2a3f5f\"}, \"marker\": {\"line\": {\"color\": \"#E5ECF6\", \"width\": 0.5}}, \"type\": \"bar\"}], \"barpolar\": [{\"marker\": {\"line\": {\"color\": \"#E5ECF6\", \"width\": 0.5}}, \"type\": \"barpolar\"}], \"carpet\": [{\"aaxis\": {\"endlinecolor\": \"#2a3f5f\", \"gridcolor\": \"white\", \"linecolor\": \"white\", \"minorgridcolor\": \"white\", \"startlinecolor\": \"#2a3f5f\"}, \"baxis\": {\"endlinecolor\": \"#2a3f5f\", \"gridcolor\": \"white\", \"linecolor\": \"white\", \"minorgridcolor\": \"white\", \"startlinecolor\": \"#2a3f5f\"}, \"type\": \"carpet\"}], \"choropleth\": [{\"colorbar\": {\"outlinewidth\": 0, \"ticks\": \"\"}, \"type\": \"choropleth\"}], \"contour\": [{\"colorbar\": {\"outlinewidth\": 0, \"ticks\": \"\"}, \"colorscale\": [[0.0, \"#0d0887\"], [0.1111111111111111, \"#46039f\"], [0.2222222222222222, \"#7201a8\"], [0.3333333333333333, \"#9c179e\"], [0.4444444444444444, \"#bd3786\"], [0.5555555555555556, \"#d8576b\"], [0.6666666666666666, \"#ed7953\"], [0.7777777777777778, \"#fb9f3a\"], [0.8888888888888888, \"#fdca26\"], [1.0, \"#f0f921\"]], \"type\": \"contour\"}], \"contourcarpet\": [{\"colorbar\": {\"outlinewidth\": 0, \"ticks\": \"\"}, \"type\": \"contourcarpet\"}], \"heatmap\": [{\"colorbar\": {\"outlinewidth\": 0, \"ticks\": \"\"}, \"colorscale\": [[0.0, \"#0d0887\"], [0.1111111111111111, \"#46039f\"], [0.2222222222222222, \"#7201a8\"], [0.3333333333333333, \"#9c179e\"], [0.4444444444444444, \"#bd3786\"], [0.5555555555555556, \"#d8576b\"], [0.6666666666666666, \"#ed7953\"], [0.7777777777777778, \"#fb9f3a\"], [0.8888888888888888, \"#fdca26\"], [1.0, \"#f0f921\"]], \"type\": \"heatmap\"}], \"heatmapgl\": [{\"colorbar\": {\"outlinewidth\": 0, \"ticks\": \"\"}, \"colorscale\": [[0.0, \"#0d0887\"], [0.1111111111111111, \"#46039f\"], [0.2222222222222222, \"#7201a8\"], [0.3333333333333333, \"#9c179e\"], [0.4444444444444444, \"#bd3786\"], [0.5555555555555556, \"#d8576b\"], [0.6666666666666666, \"#ed7953\"], [0.7777777777777778, \"#fb9f3a\"], [0.8888888888888888, \"#fdca26\"], [1.0, \"#f0f921\"]], \"type\": \"heatmapgl\"}], \"histogram\": [{\"marker\": {\"colorbar\": {\"outlinewidth\": 0, \"ticks\": \"\"}}, \"type\": \"histogram\"}], \"histogram2d\": [{\"colorbar\": {\"outlinewidth\": 0, \"ticks\": \"\"}, \"colorscale\": [[0.0, \"#0d0887\"], [0.1111111111111111, \"#46039f\"], [0.2222222222222222, \"#7201a8\"], [0.3333333333333333, \"#9c179e\"], [0.4444444444444444, \"#bd3786\"], [0.5555555555555556, \"#d8576b\"], [0.6666666666666666, \"#ed7953\"], [0.7777777777777778, \"#fb9f3a\"], [0.8888888888888888, \"#fdca26\"], [1.0, \"#f0f921\"]], \"type\": \"histogram2d\"}], \"histogram2dcontour\": [{\"colorbar\": {\"outlinewidth\": 0, \"ticks\": \"\"}, \"colorscale\": [[0.0, \"#0d0887\"], [0.1111111111111111, \"#46039f\"], [0.2222222222222222, \"#7201a8\"], [0.3333333333333333, \"#9c179e\"], [0.4444444444444444, \"#bd3786\"], [0.5555555555555556, \"#d8576b\"], [0.6666666666666666, \"#ed7953\"], [0.7777777777777778, \"#fb9f3a\"], [0.8888888888888888, \"#fdca26\"], [1.0, \"#f0f921\"]], \"type\": \"histogram2dcontour\"}], \"mesh3d\": [{\"colorbar\": {\"outlinewidth\": 0, \"ticks\": \"\"}, \"type\": \"mesh3d\"}], \"parcoords\": [{\"line\": {\"colorbar\": {\"outlinewidth\": 0, \"ticks\": \"\"}}, \"type\": \"parcoords\"}], \"pie\": [{\"automargin\": true, \"type\": \"pie\"}], \"scatter\": [{\"marker\": {\"colorbar\": {\"outlinewidth\": 0, \"ticks\": \"\"}}, \"type\": \"scatter\"}], \"scatter3d\": [{\"line\": {\"colorbar\": {\"outlinewidth\": 0, \"ticks\": \"\"}}, \"marker\": {\"colorbar\": {\"outlinewidth\": 0, \"ticks\": \"\"}}, \"type\": \"scatter3d\"}], \"scattercarpet\": [{\"marker\": {\"colorbar\": {\"outlinewidth\": 0, \"ticks\": \"\"}}, \"type\": \"scattercarpet\"}], \"scattergeo\": [{\"marker\": {\"colorbar\": {\"outlinewidth\": 0, \"ticks\": \"\"}}, \"type\": \"scattergeo\"}], \"scattergl\": [{\"marker\": {\"colorbar\": {\"outlinewidth\": 0, \"ticks\": \"\"}}, \"type\": \"scattergl\"}], \"scattermapbox\": [{\"marker\": {\"colorbar\": {\"outlinewidth\": 0, \"ticks\": \"\"}}, \"type\": \"scattermapbox\"}], \"scatterpolar\": [{\"marker\": {\"colorbar\": {\"outlinewidth\": 0, \"ticks\": \"\"}}, \"type\": \"scatterpolar\"}], \"scatterpolargl\": [{\"marker\": {\"colorbar\": {\"outlinewidth\": 0, \"ticks\": \"\"}}, \"type\": \"scatterpolargl\"}], \"scatterternary\": [{\"marker\": {\"colorbar\": {\"outlinewidth\": 0, \"ticks\": \"\"}}, \"type\": \"scatterternary\"}], \"surface\": [{\"colorbar\": {\"outlinewidth\": 0, \"ticks\": \"\"}, \"colorscale\": [[0.0, \"#0d0887\"], [0.1111111111111111, \"#46039f\"], [0.2222222222222222, \"#7201a8\"], [0.3333333333333333, \"#9c179e\"], [0.4444444444444444, \"#bd3786\"], [0.5555555555555556, \"#d8576b\"], [0.6666666666666666, \"#ed7953\"], [0.7777777777777778, \"#fb9f3a\"], [0.8888888888888888, \"#fdca26\"], [1.0, \"#f0f921\"]], \"type\": \"surface\"}], \"table\": [{\"cells\": {\"fill\": {\"color\": \"#EBF0F8\"}, \"line\": {\"color\": \"white\"}}, \"header\": {\"fill\": {\"color\": \"#C8D4E3\"}, \"line\": {\"color\": \"white\"}}, \"type\": \"table\"}]}, \"layout\": {\"annotationdefaults\": {\"arrowcolor\": \"#2a3f5f\", \"arrowhead\": 0, \"arrowwidth\": 1}, \"coloraxis\": {\"colorbar\": {\"outlinewidth\": 0, \"ticks\": \"\"}}, \"colorscale\": {\"diverging\": [[0, \"#8e0152\"], [0.1, \"#c51b7d\"], [0.2, \"#de77ae\"], [0.3, \"#f1b6da\"], [0.4, \"#fde0ef\"], [0.5, \"#f7f7f7\"], [0.6, \"#e6f5d0\"], [0.7, \"#b8e186\"], [0.8, \"#7fbc41\"], [0.9, \"#4d9221\"], [1, \"#276419\"]], \"sequential\": [[0.0, \"#0d0887\"], [0.1111111111111111, \"#46039f\"], [0.2222222222222222, \"#7201a8\"], [0.3333333333333333, \"#9c179e\"], [0.4444444444444444, \"#bd3786\"], [0.5555555555555556, \"#d8576b\"], [0.6666666666666666, \"#ed7953\"], [0.7777777777777778, \"#fb9f3a\"], [0.8888888888888888, \"#fdca26\"], [1.0, \"#f0f921\"]], \"sequentialminus\": [[0.0, \"#0d0887\"], [0.1111111111111111, \"#46039f\"], [0.2222222222222222, \"#7201a8\"], [0.3333333333333333, \"#9c179e\"], [0.4444444444444444, \"#bd3786\"], [0.5555555555555556, \"#d8576b\"], [0.6666666666666666, \"#ed7953\"], [0.7777777777777778, \"#fb9f3a\"], [0.8888888888888888, \"#fdca26\"], [1.0, \"#f0f921\"]]}, \"colorway\": [\"#636efa\", \"#EF553B\", \"#00cc96\", \"#ab63fa\", \"#FFA15A\", \"#19d3f3\", \"#FF6692\", \"#B6E880\", \"#FF97FF\", \"#FECB52\"], \"font\": {\"color\": \"#2a3f5f\"}, \"geo\": {\"bgcolor\": \"white\", \"lakecolor\": \"white\", \"landcolor\": \"#E5ECF6\", \"showlakes\": true, \"showland\": true, \"subunitcolor\": \"white\"}, \"hoverlabel\": {\"align\": \"left\"}, \"hovermode\": \"closest\", \"mapbox\": {\"style\": \"light\"}, \"paper_bgcolor\": \"white\", \"plot_bgcolor\": \"#E5ECF6\", \"polar\": {\"angularaxis\": {\"gridcolor\": \"white\", \"linecolor\": \"white\", \"ticks\": \"\"}, \"bgcolor\": \"#E5ECF6\", \"radialaxis\": {\"gridcolor\": \"white\", \"linecolor\": \"white\", \"ticks\": \"\"}}, \"scene\": {\"xaxis\": {\"backgroundcolor\": \"#E5ECF6\", \"gridcolor\": \"white\", \"gridwidth\": 2, \"linecolor\": \"white\", \"showbackground\": true, \"ticks\": \"\", \"zerolinecolor\": \"white\"}, \"yaxis\": {\"backgroundcolor\": \"#E5ECF6\", \"gridcolor\": \"white\", \"gridwidth\": 2, \"linecolor\": \"white\", \"showbackground\": true, \"ticks\": \"\", \"zerolinecolor\": \"white\"}, \"zaxis\": {\"backgroundcolor\": \"#E5ECF6\", \"gridcolor\": \"white\", \"gridwidth\": 2, \"linecolor\": \"white\", \"showbackground\": true, \"ticks\": \"\", \"zerolinecolor\": \"white\"}}, \"shapedefaults\": {\"line\": {\"color\": \"#2a3f5f\"}}, \"ternary\": {\"aaxis\": {\"gridcolor\": \"white\", \"linecolor\": \"white\", \"ticks\": \"\"}, \"baxis\": {\"gridcolor\": \"white\", \"linecolor\": \"white\", \"ticks\": \"\"}, \"bgcolor\": \"#E5ECF6\", \"caxis\": {\"gridcolor\": \"white\", \"linecolor\": \"white\", \"ticks\": \"\"}}, \"title\": {\"x\": 0.05}, \"xaxis\": {\"automargin\": true, \"gridcolor\": \"white\", \"linecolor\": \"white\", \"ticks\": \"\", \"title\": {\"standoff\": 15}, \"zerolinecolor\": \"white\", \"zerolinewidth\": 2}, \"yaxis\": {\"automargin\": true, \"gridcolor\": \"white\", \"linecolor\": \"white\", \"ticks\": \"\", \"title\": {\"standoff\": 15}, \"zerolinecolor\": \"white\", \"zerolinewidth\": 2}}}, \"title\": {\"text\": \"Taux de mortalit\\u00e9 par \\u00e2ge r\\u00e9volu\"}},\n",
              "                        {\"responsive\": true}\n",
              "                    ).then(function(){\n",
              "                            \n",
              "var gd = document.getElementById('7ae061d1-78b2-4037-ae3f-5b2207ace446');\n",
              "var x = new MutationObserver(function (mutations, observer) {{\n",
              "        var display = window.getComputedStyle(gd).display;\n",
              "        if (!display || display === 'none') {{\n",
              "            console.log([gd, 'removed!']);\n",
              "            Plotly.purge(gd);\n",
              "            observer.disconnect();\n",
              "        }}\n",
              "}});\n",
              "\n",
              "// Listen for the removal of the full notebook cells\n",
              "var notebookContainer = gd.closest('#notebook-container');\n",
              "if (notebookContainer) {{\n",
              "    x.observe(notebookContainer, {childList: true});\n",
              "}}\n",
              "\n",
              "// Listen for the clearing of the current output cell\n",
              "var outputEl = gd.closest('.output');\n",
              "if (outputEl) {{\n",
              "    x.observe(outputEl, {childList: true});\n",
              "}}\n",
              "\n",
              "                        })\n",
              "                };\n",
              "                \n",
              "            </script>\n",
              "        </div>\n",
              "</body>\n",
              "</html>"
            ]
          },
          "metadata": {
            "tags": []
          }
        }
      ]
    },
    {
      "cell_type": "code",
      "metadata": {
        "colab": {
          "base_uri": "https://localhost:8080/",
          "height": 542
        },
        "id": "hRhK3f0yfgMJ",
        "outputId": "0e098c2c-6389-45cf-8125-844f56109c37"
      },
      "source": [
        "import plotly.graph_objects as go\n",
        "fig = go.Figure()\n",
        "fig.update_layout(\n",
        "    title='Taux de mortalité par âge révolu',\n",
        "    font=dict(\n",
        "        family=\"Century Gothic\",\n",
        "        size=18,\n",
        "    ),\n",
        "    legend=dict(\n",
        "      yanchor=\"top\", y=0.99, xanchor=\"left\", x=0.01\n",
        "    )\n",
        ")\n",
        "sexe = 'H'\n",
        "col = f'MIN_{sexe}_MORTALITE'\n",
        "fig.add_trace(go.Scatter(x=taux_mortalite[col].index, y=taux_mortalite[col], name='2012_2019_'+col, line_color='grey'))\n",
        "col = f'MAX_{sexe}_MORTALITE'\n",
        "fig.add_trace(go.Scatter(x=taux_mortalite[col].index, y=taux_mortalite[col], name='2012_2019_'+col, line_color='grey', fill='tonexty'))\n",
        "col = f'2020_{sexe}_MORTALITE'\n",
        "fig.add_trace(go.Scatter(x=taux_mortalite[col].index, y=taux_mortalite[col], name=col, line_color='red'))\n",
        "fig.show()"
      ],
      "execution_count": 173,
      "outputs": [
        {
          "output_type": "display_data",
          "data": {
            "text/html": [
              "<html>\n",
              "<head><meta charset=\"utf-8\" /></head>\n",
              "<body>\n",
              "    <div>\n",
              "            <script src=\"https://cdnjs.cloudflare.com/ajax/libs/mathjax/2.7.5/MathJax.js?config=TeX-AMS-MML_SVG\"></script><script type=\"text/javascript\">if (window.MathJax) {MathJax.Hub.Config({SVG: {font: \"STIX-Web\"}});}</script>\n",
              "                <script type=\"text/javascript\">window.PlotlyConfig = {MathJaxConfig: 'local'};</script>\n",
              "        <script src=\"https://cdn.plot.ly/plotly-latest.min.js\"></script>    \n",
              "            <div id=\"7fbfa0da-a0a9-4b91-927c-04746fca4212\" class=\"plotly-graph-div\" style=\"height:525px; width:100%;\"></div>\n",
              "            <script type=\"text/javascript\">\n",
              "                \n",
              "                    window.PLOTLYENV=window.PLOTLYENV || {};\n",
              "                    \n",
              "                if (document.getElementById(\"7fbfa0da-a0a9-4b91-927c-04746fca4212\")) {\n",
              "                    Plotly.newPlot(\n",
              "                        '7fbfa0da-a0a9-4b91-927c-04746fca4212',\n",
              "                        [{\"line\": {\"color\": \"grey\"}, \"name\": \"2012_2019_MIN_H_MORTALITE\", \"type\": \"scatter\", \"x\": [0.0, 1.0, 2.0, 3.0, 4.0, 5.0, 6.0, 7.0, 8.0, 9.0, 10.0, 11.0, 12.0, 13.0, 14.0, 15.0, 16.0, 17.0, 18.0, 19.0, 20.0, 21.0, 22.0, 23.0, 24.0, 25.0, 26.0, 27.0, 28.0, 29.0, 30.0, 31.0, 32.0, 33.0, 34.0, 35.0, 36.0, 37.0, 38.0, 39.0, 40.0, 41.0, 42.0, 43.0, 44.0, 45.0, 46.0, 47.0, 48.0, 49.0, 50.0, 51.0, 52.0, 53.0, 54.0, 55.0, 56.0, 57.0, 58.0, 59.0, 60.0, 61.0, 62.0, 63.0, 64.0, 65.0, 66.0, 67.0, 68.0, 69.0, 70.0, 71.0, 72.0, 73.0, 74.0, 75.0, 76.0, 77.0, 78.0, 79.0, 80.0, 81.0, 82.0, 83.0, 84.0, 85.0, 86.0, 87.0, 88.0, 89.0, 90.0, 91.0, 92.0, 93.0, 94.0, 95.0, 96.0, 97.0, 98.0, 99.0, 100.0], \"y\": [0.004181547774903382, 0.00024420089239500026, 0.00017093144883537005, 0.00012048066547233659, 9.81275255257371e-05, 9.264382954536919e-05, 7.73194590630877e-05, 6.061693491680932e-05, 6.328158846522676e-05, 4.162065951607414e-05, 5.705086704915552e-05, 6.438464376719503e-05, 7.21111406739159e-05, 8.191126279863482e-05, 0.00013775935615627227, 0.00017681653362717337, 0.00020765248861619393, 0.0002865811344349733, 0.0003961295368816784, 0.00046333380452025317, 0.0005412508619680194, 0.0005337589585999969, 0.0005585385259852145, 0.0005962533105925094, 0.0005872696332432854, 0.0006481301445330222, 0.0006998281744832299, 0.0006290424039097405, 0.0006952870810828224, 0.0007397861155477946, 0.0007601920595196422, 0.000744745407403321, 0.0008234991727576492, 0.0009035829678344377, 0.0009124992561147368, 0.0009610426140359102, 0.0010534760866054745, 0.0012012667904335481, 0.0011690352749297419, 0.0013530505138858518, 0.001391413859294543, 0.0015354561140798284, 0.0016848911786352643, 0.0018723395583316563, 0.002040957597654462, 0.0022314503508042184, 0.0024455473090005115, 0.0028485996257281566, 0.003121700196893055, 0.0034413462190811066, 0.003830925323130223, 0.004007177033492823, 0.0045430437695399735, 0.005042936600398362, 0.005321022588102464, 0.005964304362272749, 0.006702065818975834, 0.006878438296940976, 0.007809955268673899, 0.008651074982677765, 0.009508843301809497, 0.010281890824064844, 0.01114631527315631, 0.011989427852756036, 0.012756085133677668, 0.013498147672669918, 0.014532689916136095, 0.015048270324595367, 0.01591187940931598, 0.017925092602213467, 0.01858734998230048, 0.020184295473312814, 0.021476581055222748, 0.022632366845256855, 0.0251238035683668, 0.026626682618851545, 0.0291684690024939, 0.032046037502211216, 0.03505434626910141, 0.04085654600021397, 0.04645123193077808, 0.051596336773932404, 0.056746357072964326, 0.06649371528792751, 0.07457104978811124, 0.08616801115006124, 0.09658230083560282, 0.11224392466907596, 0.1286774079965032, 0.14959401320971943, 0.16663460921972173, 0.19049049800946444, 0.2131427072402938, 0.23904425544183364, 0.26417662180553453, 0.2902028370674798, 0.2923179991067441, 0.3124606670862177, 0.333024548402038, 0.3533455545371219, 0.4029593943565038]}, {\"fill\": \"tonexty\", \"line\": {\"color\": \"grey\"}, \"name\": \"2012_2019_MAX_H_MORTALITE\", \"type\": \"scatter\", \"x\": [0.0, 1.0, 2.0, 3.0, 4.0, 5.0, 6.0, 7.0, 8.0, 9.0, 10.0, 11.0, 12.0, 13.0, 14.0, 15.0, 16.0, 17.0, 18.0, 19.0, 20.0, 21.0, 22.0, 23.0, 24.0, 25.0, 26.0, 27.0, 28.0, 29.0, 30.0, 31.0, 32.0, 33.0, 34.0, 35.0, 36.0, 37.0, 38.0, 39.0, 40.0, 41.0, 42.0, 43.0, 44.0, 45.0, 46.0, 47.0, 48.0, 49.0, 50.0, 51.0, 52.0, 53.0, 54.0, 55.0, 56.0, 57.0, 58.0, 59.0, 60.0, 61.0, 62.0, 63.0, 64.0, 65.0, 66.0, 67.0, 68.0, 69.0, 70.0, 71.0, 72.0, 73.0, 74.0, 75.0, 76.0, 77.0, 78.0, 79.0, 80.0, 81.0, 82.0, 83.0, 84.0, 85.0, 86.0, 87.0, 88.0, 89.0, 90.0, 91.0, 92.0, 93.0, 94.0, 95.0, 96.0, 97.0, 98.0, 99.0, 100.0], \"y\": [0.00473918620908344, 0.0003821937354200168, 0.00023071662230864941, 0.00017751153824998624, 0.00015350751666467195, 0.00014191848899135792, 0.0001127459270533852, 0.00011169169208057342, 0.00011098913030365178, 9.713525710955363e-05, 0.00010348880472894557, 0.00010372418051866914, 0.00012092047627861065, 0.0001553861953932849, 0.00018207243954309932, 0.00024079158371355234, 0.0003300008250020625, 0.00040026649321785293, 0.0005701692739756179, 0.0006269481079873697, 0.0006690613806577663, 0.000717702744707574, 0.000752524681782225, 0.000722317256341789, 0.0007466953509076526, 0.0008337045924096408, 0.0008428865107558439, 0.0008406254253164354, 0.0008812811557218395, 0.0008982450276654246, 0.0009475045033229572, 0.0010076318784870593, 0.001033213989271423, 0.001012773345459055, 0.001101867524188432, 0.001134152585765489, 0.0012651307257730106, 0.0012802673301641329, 0.0013835647736792668, 0.0015901534853454918, 0.0017291959570911427, 0.0019850057120015625, 0.0020733367502417735, 0.002245496713707364, 0.002468556410737751, 0.0027544252656549347, 0.0029838265633674744, 0.003323080869268487, 0.003661676667301021, 0.004187994416007445, 0.0046084813186394865, 0.005051626910482305, 0.005293524871870723, 0.006237918655568267, 0.006761216574003802, 0.007554478208716514, 0.008030633409562303, 0.008623927681018032, 0.009288197356773623, 0.010031046661530364, 0.010793442827507682, 0.011328351588357731, 0.011996590723883368, 0.012765274310985904, 0.013329622638041803, 0.014549842573199995, 0.017031729329993923, 0.018838770799341337, 0.01976207650648622, 0.02098532698474395, 0.02299475210332367, 0.02414867210694528, 0.025930553946475563, 0.027317263357743423, 0.02821419150619889, 0.030803068388662563, 0.03387998586601817, 0.03754966782580247, 0.04242781713106061, 0.047154184620814096, 0.05318000613308801, 0.059527585559576136, 0.06899711870495685, 0.07795470232266971, 0.08877877381864048, 0.10053175983353606, 0.11169314343102346, 0.12974182997774858, 0.14448371235402582, 0.1624802747609765, 0.1819328187846505, 0.20596784085757713, 0.3341025496707379, 0.3693732193732194, 0.3897431175766504, 0.4379005925746765, 0.4985084521047398, 0.5400522937960542, 0.5820947113722779, 0.6600934094447327, 0.5182724252491694]}, {\"line\": {\"color\": \"red\"}, \"name\": \"2020_H_MORTALITE\", \"type\": \"scatter\", \"x\": [0.0, 1.0, 2.0, 3.0, 4.0, 5.0, 6.0, 7.0, 8.0, 9.0, 10.0, 11.0, 12.0, 13.0, 14.0, 15.0, 16.0, 17.0, 18.0, 19.0, 20.0, 21.0, 22.0, 23.0, 24.0, 25.0, 26.0, 27.0, 28.0, 29.0, 30.0, 31.0, 32.0, 33.0, 34.0, 35.0, 36.0, 37.0, 38.0, 39.0, 40.0, 41.0, 42.0, 43.0, 44.0, 45.0, 46.0, 47.0, 48.0, 49.0, 50.0, 51.0, 52.0, 53.0, 54.0, 55.0, 56.0, 57.0, 58.0, 59.0, 60.0, 61.0, 62.0, 63.0, 64.0, 65.0, 66.0, 67.0, 68.0, 69.0, 70.0, 71.0, 72.0, 73.0, 74.0, 75.0, 76.0, 77.0, 78.0, 79.0, 80.0, 81.0, 82.0, 83.0, 84.0, 85.0, 86.0, 87.0, 88.0, 89.0, 90.0, 91.0, 92.0, 93.0, 94.0, 95.0, 96.0, 97.0, 98.0, 99.0, 100.0], \"y\": [0.004271024958528785, 0.00022373610613122982, 0.0002142939718541786, 9.554122740449972e-05, 0.00012735000557156275, 8.024934247312942e-05, 6.631807167453131e-05, 7.96550934453815e-05, 8.936661412240744e-05, 0.00010900159384552779, 6.340968509774847e-05, 7.774595052927985e-05, 0.00011551941955178465, 0.00012075515443376701, 0.00015519764296659063, 0.00019215088278549803, 0.0002369364121903784, 0.0003030094006818943, 0.000479352557723051, 0.0005011633284024027, 0.0005711704320644696, 0.0006077726190507649, 0.0006042396099757477, 0.0005718942962522965, 0.0005826144471495518, 0.0007010328550731411, 0.0006468930109210762, 0.0007180857008739969, 0.0007547727067625994, 0.0007507205576781286, 0.0007872817961767461, 0.0008686569671012576, 0.0007497411295924921, 0.001018306311694539, 0.0010913171914706983, 0.0011022641803044842, 0.0011590524090982991, 0.001138653100989205, 0.0012356237598335057, 0.0014001364112318317, 0.0015427243293716444, 0.0016313255744430815, 0.001788936196312747, 0.0020087458107250706, 0.002036400012249023, 0.002456484099539743, 0.0024211234381335003, 0.0028249794761642357, 0.00321069601130165, 0.0036349005951802882, 0.0037666507082711425, 0.004445965250641889, 0.004611931357524521, 0.004902516436182272, 0.0054377854069956886, 0.005941742738979006, 0.006695500489856388, 0.007530430427203773, 0.007944015491820734, 0.00876904994022811, 0.009693655154236824, 0.010638990532991287, 0.011693839767494607, 0.012547206248390697, 0.01329559522056618, 0.014163709052897731, 0.015635692570031074, 0.016136239373645254, 0.017968580032748215, 0.018271120936889176, 0.02031940294239595, 0.021644996684636895, 0.02345936608661326, 0.026069055024726444, 0.033087916095087606, 0.03079930242045755, 0.033784322087514, 0.03855497663648017, 0.044518748507284454, 0.04300780551748794, 0.04989314918493139, 0.05669665167416292, 0.06373733463268766, 0.07090613999957844, 0.08348888644884002, 0.09263689526847421, 0.10794214232835368, 0.12008241050733968, 0.14042994598848232, 0.1602183914417161, 0.18895996041983248, 0.20586899638864262, 0.23955977271473491, 0.2623381294964029, 0.2931752643383531, 0.31767128416323476, 0.3539987600743955, 0.3837025316455696, 0.4013731675635554, 0.4424225191924936, 0.5262066923304708]}],\n",
              "                        {\"font\": {\"family\": \"Century Gothic\", \"size\": 18}, \"legend\": {\"x\": 0.01, \"xanchor\": \"left\", \"y\": 0.99, \"yanchor\": \"top\"}, \"template\": {\"data\": {\"bar\": [{\"error_x\": {\"color\": \"#2a3f5f\"}, \"error_y\": {\"color\": \"#2a3f5f\"}, \"marker\": {\"line\": {\"color\": \"#E5ECF6\", \"width\": 0.5}}, \"type\": \"bar\"}], \"barpolar\": [{\"marker\": {\"line\": {\"color\": \"#E5ECF6\", \"width\": 0.5}}, \"type\": \"barpolar\"}], \"carpet\": [{\"aaxis\": {\"endlinecolor\": \"#2a3f5f\", \"gridcolor\": \"white\", \"linecolor\": \"white\", \"minorgridcolor\": \"white\", \"startlinecolor\": \"#2a3f5f\"}, \"baxis\": {\"endlinecolor\": \"#2a3f5f\", \"gridcolor\": \"white\", \"linecolor\": \"white\", \"minorgridcolor\": \"white\", \"startlinecolor\": \"#2a3f5f\"}, \"type\": \"carpet\"}], \"choropleth\": [{\"colorbar\": {\"outlinewidth\": 0, \"ticks\": \"\"}, \"type\": \"choropleth\"}], \"contour\": [{\"colorbar\": {\"outlinewidth\": 0, \"ticks\": \"\"}, \"colorscale\": [[0.0, \"#0d0887\"], [0.1111111111111111, \"#46039f\"], [0.2222222222222222, \"#7201a8\"], [0.3333333333333333, \"#9c179e\"], [0.4444444444444444, \"#bd3786\"], [0.5555555555555556, \"#d8576b\"], [0.6666666666666666, \"#ed7953\"], [0.7777777777777778, \"#fb9f3a\"], [0.8888888888888888, \"#fdca26\"], [1.0, \"#f0f921\"]], \"type\": \"contour\"}], \"contourcarpet\": [{\"colorbar\": {\"outlinewidth\": 0, \"ticks\": \"\"}, \"type\": \"contourcarpet\"}], \"heatmap\": [{\"colorbar\": {\"outlinewidth\": 0, \"ticks\": \"\"}, \"colorscale\": [[0.0, \"#0d0887\"], [0.1111111111111111, \"#46039f\"], [0.2222222222222222, \"#7201a8\"], [0.3333333333333333, \"#9c179e\"], [0.4444444444444444, \"#bd3786\"], [0.5555555555555556, \"#d8576b\"], [0.6666666666666666, \"#ed7953\"], [0.7777777777777778, \"#fb9f3a\"], [0.8888888888888888, \"#fdca26\"], [1.0, \"#f0f921\"]], \"type\": \"heatmap\"}], \"heatmapgl\": [{\"colorbar\": {\"outlinewidth\": 0, \"ticks\": \"\"}, \"colorscale\": [[0.0, \"#0d0887\"], [0.1111111111111111, \"#46039f\"], [0.2222222222222222, \"#7201a8\"], [0.3333333333333333, \"#9c179e\"], [0.4444444444444444, \"#bd3786\"], [0.5555555555555556, \"#d8576b\"], [0.6666666666666666, \"#ed7953\"], [0.7777777777777778, \"#fb9f3a\"], [0.8888888888888888, \"#fdca26\"], [1.0, \"#f0f921\"]], \"type\": \"heatmapgl\"}], \"histogram\": [{\"marker\": {\"colorbar\": {\"outlinewidth\": 0, \"ticks\": \"\"}}, \"type\": \"histogram\"}], \"histogram2d\": [{\"colorbar\": {\"outlinewidth\": 0, \"ticks\": \"\"}, \"colorscale\": [[0.0, \"#0d0887\"], [0.1111111111111111, \"#46039f\"], [0.2222222222222222, \"#7201a8\"], [0.3333333333333333, \"#9c179e\"], [0.4444444444444444, \"#bd3786\"], [0.5555555555555556, \"#d8576b\"], [0.6666666666666666, \"#ed7953\"], [0.7777777777777778, \"#fb9f3a\"], [0.8888888888888888, \"#fdca26\"], [1.0, \"#f0f921\"]], \"type\": \"histogram2d\"}], \"histogram2dcontour\": [{\"colorbar\": {\"outlinewidth\": 0, \"ticks\": \"\"}, \"colorscale\": [[0.0, \"#0d0887\"], [0.1111111111111111, \"#46039f\"], [0.2222222222222222, \"#7201a8\"], [0.3333333333333333, \"#9c179e\"], [0.4444444444444444, \"#bd3786\"], [0.5555555555555556, \"#d8576b\"], [0.6666666666666666, \"#ed7953\"], [0.7777777777777778, \"#fb9f3a\"], [0.8888888888888888, \"#fdca26\"], [1.0, \"#f0f921\"]], \"type\": \"histogram2dcontour\"}], \"mesh3d\": [{\"colorbar\": {\"outlinewidth\": 0, \"ticks\": \"\"}, \"type\": \"mesh3d\"}], \"parcoords\": [{\"line\": {\"colorbar\": {\"outlinewidth\": 0, \"ticks\": \"\"}}, \"type\": \"parcoords\"}], \"pie\": [{\"automargin\": true, \"type\": \"pie\"}], \"scatter\": [{\"marker\": {\"colorbar\": {\"outlinewidth\": 0, \"ticks\": \"\"}}, \"type\": \"scatter\"}], \"scatter3d\": [{\"line\": {\"colorbar\": {\"outlinewidth\": 0, \"ticks\": \"\"}}, \"marker\": {\"colorbar\": {\"outlinewidth\": 0, \"ticks\": \"\"}}, \"type\": \"scatter3d\"}], \"scattercarpet\": [{\"marker\": {\"colorbar\": {\"outlinewidth\": 0, \"ticks\": \"\"}}, \"type\": \"scattercarpet\"}], \"scattergeo\": [{\"marker\": {\"colorbar\": {\"outlinewidth\": 0, \"ticks\": \"\"}}, \"type\": \"scattergeo\"}], \"scattergl\": [{\"marker\": {\"colorbar\": {\"outlinewidth\": 0, \"ticks\": \"\"}}, \"type\": \"scattergl\"}], \"scattermapbox\": [{\"marker\": {\"colorbar\": {\"outlinewidth\": 0, \"ticks\": \"\"}}, \"type\": \"scattermapbox\"}], \"scatterpolar\": [{\"marker\": {\"colorbar\": {\"outlinewidth\": 0, \"ticks\": \"\"}}, \"type\": \"scatterpolar\"}], \"scatterpolargl\": [{\"marker\": {\"colorbar\": {\"outlinewidth\": 0, \"ticks\": \"\"}}, \"type\": \"scatterpolargl\"}], \"scatterternary\": [{\"marker\": {\"colorbar\": {\"outlinewidth\": 0, \"ticks\": \"\"}}, \"type\": \"scatterternary\"}], \"surface\": [{\"colorbar\": {\"outlinewidth\": 0, \"ticks\": \"\"}, \"colorscale\": [[0.0, \"#0d0887\"], [0.1111111111111111, \"#46039f\"], [0.2222222222222222, \"#7201a8\"], [0.3333333333333333, \"#9c179e\"], [0.4444444444444444, \"#bd3786\"], [0.5555555555555556, \"#d8576b\"], [0.6666666666666666, \"#ed7953\"], [0.7777777777777778, \"#fb9f3a\"], [0.8888888888888888, \"#fdca26\"], [1.0, \"#f0f921\"]], \"type\": \"surface\"}], \"table\": [{\"cells\": {\"fill\": {\"color\": \"#EBF0F8\"}, \"line\": {\"color\": \"white\"}}, \"header\": {\"fill\": {\"color\": \"#C8D4E3\"}, \"line\": {\"color\": \"white\"}}, \"type\": \"table\"}]}, \"layout\": {\"annotationdefaults\": {\"arrowcolor\": \"#2a3f5f\", \"arrowhead\": 0, \"arrowwidth\": 1}, \"coloraxis\": {\"colorbar\": {\"outlinewidth\": 0, \"ticks\": \"\"}}, \"colorscale\": {\"diverging\": [[0, \"#8e0152\"], [0.1, \"#c51b7d\"], [0.2, \"#de77ae\"], [0.3, \"#f1b6da\"], [0.4, \"#fde0ef\"], [0.5, \"#f7f7f7\"], [0.6, \"#e6f5d0\"], [0.7, \"#b8e186\"], [0.8, \"#7fbc41\"], [0.9, \"#4d9221\"], [1, \"#276419\"]], \"sequential\": [[0.0, \"#0d0887\"], [0.1111111111111111, \"#46039f\"], [0.2222222222222222, \"#7201a8\"], [0.3333333333333333, \"#9c179e\"], [0.4444444444444444, \"#bd3786\"], [0.5555555555555556, \"#d8576b\"], [0.6666666666666666, \"#ed7953\"], [0.7777777777777778, \"#fb9f3a\"], [0.8888888888888888, \"#fdca26\"], [1.0, \"#f0f921\"]], \"sequentialminus\": [[0.0, \"#0d0887\"], [0.1111111111111111, \"#46039f\"], [0.2222222222222222, \"#7201a8\"], [0.3333333333333333, \"#9c179e\"], [0.4444444444444444, \"#bd3786\"], [0.5555555555555556, \"#d8576b\"], [0.6666666666666666, \"#ed7953\"], [0.7777777777777778, \"#fb9f3a\"], [0.8888888888888888, \"#fdca26\"], [1.0, \"#f0f921\"]]}, \"colorway\": [\"#636efa\", \"#EF553B\", \"#00cc96\", \"#ab63fa\", \"#FFA15A\", \"#19d3f3\", \"#FF6692\", \"#B6E880\", \"#FF97FF\", \"#FECB52\"], \"font\": {\"color\": \"#2a3f5f\"}, \"geo\": {\"bgcolor\": \"white\", \"lakecolor\": \"white\", \"landcolor\": \"#E5ECF6\", \"showlakes\": true, \"showland\": true, \"subunitcolor\": \"white\"}, \"hoverlabel\": {\"align\": \"left\"}, \"hovermode\": \"closest\", \"mapbox\": {\"style\": \"light\"}, \"paper_bgcolor\": \"white\", \"plot_bgcolor\": \"#E5ECF6\", \"polar\": {\"angularaxis\": {\"gridcolor\": \"white\", \"linecolor\": \"white\", \"ticks\": \"\"}, \"bgcolor\": \"#E5ECF6\", \"radialaxis\": {\"gridcolor\": \"white\", \"linecolor\": \"white\", \"ticks\": \"\"}}, \"scene\": {\"xaxis\": {\"backgroundcolor\": \"#E5ECF6\", \"gridcolor\": \"white\", \"gridwidth\": 2, \"linecolor\": \"white\", \"showbackground\": true, \"ticks\": \"\", \"zerolinecolor\": \"white\"}, \"yaxis\": {\"backgroundcolor\": \"#E5ECF6\", \"gridcolor\": \"white\", \"gridwidth\": 2, \"linecolor\": \"white\", \"showbackground\": true, \"ticks\": \"\", \"zerolinecolor\": \"white\"}, \"zaxis\": {\"backgroundcolor\": \"#E5ECF6\", \"gridcolor\": \"white\", \"gridwidth\": 2, \"linecolor\": \"white\", \"showbackground\": true, \"ticks\": \"\", \"zerolinecolor\": \"white\"}}, \"shapedefaults\": {\"line\": {\"color\": \"#2a3f5f\"}}, \"ternary\": {\"aaxis\": {\"gridcolor\": \"white\", \"linecolor\": \"white\", \"ticks\": \"\"}, \"baxis\": {\"gridcolor\": \"white\", \"linecolor\": \"white\", \"ticks\": \"\"}, \"bgcolor\": \"#E5ECF6\", \"caxis\": {\"gridcolor\": \"white\", \"linecolor\": \"white\", \"ticks\": \"\"}}, \"title\": {\"x\": 0.05}, \"xaxis\": {\"automargin\": true, \"gridcolor\": \"white\", \"linecolor\": \"white\", \"ticks\": \"\", \"title\": {\"standoff\": 15}, \"zerolinecolor\": \"white\", \"zerolinewidth\": 2}, \"yaxis\": {\"automargin\": true, \"gridcolor\": \"white\", \"linecolor\": \"white\", \"ticks\": \"\", \"title\": {\"standoff\": 15}, \"zerolinecolor\": \"white\", \"zerolinewidth\": 2}}}, \"title\": {\"text\": \"Taux de mortalit\\u00e9 par \\u00e2ge r\\u00e9volu\"}},\n",
              "                        {\"responsive\": true}\n",
              "                    ).then(function(){\n",
              "                            \n",
              "var gd = document.getElementById('7fbfa0da-a0a9-4b91-927c-04746fca4212');\n",
              "var x = new MutationObserver(function (mutations, observer) {{\n",
              "        var display = window.getComputedStyle(gd).display;\n",
              "        if (!display || display === 'none') {{\n",
              "            console.log([gd, 'removed!']);\n",
              "            Plotly.purge(gd);\n",
              "            observer.disconnect();\n",
              "        }}\n",
              "}});\n",
              "\n",
              "// Listen for the removal of the full notebook cells\n",
              "var notebookContainer = gd.closest('#notebook-container');\n",
              "if (notebookContainer) {{\n",
              "    x.observe(notebookContainer, {childList: true});\n",
              "}}\n",
              "\n",
              "// Listen for the clearing of the current output cell\n",
              "var outputEl = gd.closest('.output');\n",
              "if (outputEl) {{\n",
              "    x.observe(outputEl, {childList: true});\n",
              "}}\n",
              "\n",
              "                        })\n",
              "                };\n",
              "                \n",
              "            </script>\n",
              "        </div>\n",
              "</body>\n",
              "</html>"
            ]
          },
          "metadata": {
            "tags": []
          }
        }
      ]
    },
    {
      "cell_type": "code",
      "metadata": {
        "id": "QhAf3er1Zz6e"
      },
      "source": [
        ""
      ],
      "execution_count": null,
      "outputs": []
    }
  ]
}