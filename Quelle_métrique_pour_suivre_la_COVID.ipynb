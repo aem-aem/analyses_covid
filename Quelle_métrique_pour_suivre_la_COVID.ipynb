{
  "nbformat": 4,
  "nbformat_minor": 0,
  "metadata": {
    "colab": {
      "name": "Quelle métrique pour suivre la COVID",
      "provenance": [],
      "collapsed_sections": []
    },
    "kernelspec": {
      "name": "python3",
      "display_name": "Python 3"
    }
  },
  "cells": [
    {
      "cell_type": "code",
      "metadata": {
        "id": "Er3GldZieRrB"
      },
      "source": [
        "import pandas as pd\n",
        "import numpy as np\n",
        "import matplotlib.pyplot as plt\n",
        "import datetime\n",
        "import plotly.graph_objects as go\n",
        "from plotly.subplots import make_subplots\n",
        "import requests\n",
        "import json\n",
        "import numpy as np"
      ],
      "execution_count": 1,
      "outputs": []
    },
    {
      "cell_type": "code",
      "metadata": {
        "id": "3BCn8sqDeXHX"
      },
      "source": [
        "# Codes INSEE des régions métropolitaines\n",
        "regions = {\n",
        "    0: \"France\",\n",
        "    11: \"Île-de-France\",\n",
        "    24: \"Centre-Val de Loire\",\n",
        "    27: \"Bourgogne-Franche-Comté\",\n",
        "    28: \"Normandie\",\n",
        "    32: \"Hauts-de-France\",\n",
        "    44: \"Grand Est\",\n",
        "    52: \"Pays de la Loire\",\n",
        "    53: \"Bretagne\",\n",
        "    75: \"Nouvelle-Aquitaine\",\n",
        "    76: \"Occitanie\",\n",
        "    84: \"Auvergne-Rhône-Alpes\",\n",
        "    93: \"Provence-Alpes-Côte d’Azur\",\n",
        "    94: \"Corse\"\n",
        "}"
      ],
      "execution_count": 2,
      "outputs": []
    },
    {
      "cell_type": "code",
      "metadata": {
        "id": "vb9cQ3Czecoo"
      },
      "source": [
        "# Différentes classes d'âge utilisées dans les fichiers de Santé Publique France\n",
        "code_cl_age90 = {\n",
        "    0: \"tous âges\",\n",
        "    9: \"0 à 9 ans\",\n",
        "    19: \"10 à 19 ans\",\n",
        "    29: \"20 à 29 ans\",\n",
        "    39: \"30 à 39 ans\",\n",
        "    49: \"40 à 49 ans\",\n",
        "    59: \"50 à 59 ans\",\n",
        "    69: \"60 à 69 ans\",\n",
        "    79: \"70 à 79 ans\",\n",
        "    89: \"80 à 89 ans\",\n",
        "    90: \"90 ans et plus\"\n",
        "    \n",
        "}\n",
        "\n",
        "code_cl_ageA = {\n",
        "    '0': \"tous âges\",\n",
        "    'A': \"moins de 15 ans\",\n",
        "    'B': \"15-44 ans\",\n",
        "    'C': \"45-64 ans\",\n",
        "    'D': \"65-74 ans\",\n",
        "    'E': \"75 ans et plus\"\n",
        "}"
      ],
      "execution_count": 3,
      "outputs": []
    },
    {
      "cell_type": "code",
      "metadata": {
        "id": "uuFhY9BoejZP"
      },
      "source": [
        "# Correspondance département région - attention le site INSEE connaît des fois des indisponibilités\n",
        "dep_region = pd.read_csv('https://www.insee.fr/fr/statistiques/fichier/3363419/depts2018-txt.zip',\n",
        "#dep_region = pd.read_csv('depts2018-txt.zip',\n",
        "                         sep='\\t', encoding='latin1').rename(columns={'DEP': 'dep', 'REGION': 'reg'})[['dep', 'reg']]\n",
        "dep_region.dep=dep_region.dep.map(lambda x: x.strip())"
      ],
      "execution_count": 4,
      "outputs": []
    },
    {
      "cell_type": "code",
      "metadata": {
        "id": "qZWrnUX9ex0t"
      },
      "source": [
        "def anneesemaine(_date):\n",
        "    _iso = _date.isocalendar()\n",
        "    _annee = str(_iso[0])\n",
        "    _jour = str(_iso[1])\n",
        "    if _iso[1]<10:\n",
        "        return _annee + \"0\" + _jour\n",
        "    return _annee + _jour\n",
        "\n",
        "def premier_jour_anneesemaine(_anneesemaine):\n",
        "    return datetime.datetime.strptime(str(_anneesemaine) + '-1', \"%G%V-%w\").date()"
      ],
      "execution_count": 5,
      "outputs": []
    },
    {
      "cell_type": "code",
      "metadata": {
        "id": "joF8g4t2gC_o"
      },
      "source": [
        "# Deces\n",
        "deces_cumul = pd.read_csv('https://www.data.gouv.fr/fr/datasets/r/08c18e08-6780-452d-9b8c-ae244ad529b3', sep=';')\n",
        "deces_idf_cumul = deces_cumul.query('reg==11')[['jour', 'cl_age90', 'dc']]"
      ],
      "execution_count": 6,
      "outputs": []
    },
    {
      "cell_type": "code",
      "metadata": {
        "id": "8PtegCPGf89H"
      },
      "source": [
        "def diff_deces(_deces_idf_cumul, _cl_age90):\n",
        "    _df = _deces_idf_cumul.query(f'cl_age90=={_cl_age90}').groupby('jour').sum().diff().fillna(0).reset_index()\n",
        "    _df['cl_age90'] = _cl_age90\n",
        "    return _df"
      ],
      "execution_count": 7,
      "outputs": []
    },
    {
      "cell_type": "code",
      "metadata": {
        "id": "brtNkpangH-A"
      },
      "source": [
        "deces_idf = pd.concat([diff_deces(deces_idf_cumul, cl_age90)\n",
        "                       for cl_age90 in deces_idf_cumul.cl_age90.unique()])"
      ],
      "execution_count": 8,
      "outputs": []
    },
    {
      "cell_type": "code",
      "metadata": {
        "id": "uTrctPjWgKE8"
      },
      "source": [
        "urgences_sos = pd.read_csv('https://www.data.gouv.fr/fr/datasets/r/d2af5160-a21d-47b7-8f30-3c20dade63b1', sep=';')\n",
        "\n",
        "# Admissions aux urgences\n",
        "urgences_idf = urgences_sos.query('reg==11')[['date_de_passage', 'sursaud_cl_age_corona',\n",
        "                                              'nbre_pass_corona', 'nbre_pass_tot']]\n",
        "urgences_idf.columns = ['jour', 'cl_ageA', 'passages_urgence_covid', 'passages_urgence']\n",
        "\n",
        "# SOS Médecins\n",
        "sos_medecins_idf = urgences_sos.query('reg==11')[['date_de_passage', 'sursaud_cl_age_corona',\n",
        "                                                  'nbre_acte_corona', 'nbre_acte_tot']]\n",
        "\n",
        "sos_medecins_idf.columns = ['jour', 'cl_ageA', 'actes_sos_covid', 'actes_sos']"
      ],
      "execution_count": 9,
      "outputs": []
    },
    {
      "cell_type": "code",
      "metadata": {
        "id": "UFEtGQ1BgSO0"
      },
      "source": [
        "# IRAs\n",
        "_response = requests.get('https://www.sentiweb.fr/datasets/incidence-REG-25.json')\n",
        "_data = json.loads(_response.text)['data']\n",
        "\n",
        "ira_sentinelles_idf = pd.DataFrame(\n",
        "    [(str(d['week']), d['inc_low'], d['inc'], d['inc_up']) for d in _data if d['geo_insee']=='11'])\n",
        "ira_sentinelles_idf.columns=['semaine_str', 'iras_bas', 'iras_moy', 'iras_haut']"
      ],
      "execution_count": 45,
      "outputs": []
    },
    {
      "cell_type": "code",
      "metadata": {
        "id": "A6VEVWHog6oY"
      },
      "source": [
        "# Lissage des IRAs moyens sur 2 semaines\n",
        "\n",
        "ira_sentinelles_idf['semaine'] = pd.to_datetime(ira_sentinelles_idf['semaine_str'].map(premier_jour_anneesemaine))\n",
        "\n",
        "iras_liss = ira_sentinelles_idf.groupby('semaine')['iras_moy'].sum().rolling(3, min_periods=1).mean()\n",
        "iras_liss = iras_liss.reset_index().rename(columns={'iras_moy': 'iras_lisse'})\n",
        "iras_liss['semaine'] = pd.to_datetime(iras_liss['semaine'])\n",
        "\n",
        "ira_sentinelles_idf = ira_sentinelles_idf.merge(iras_liss, on='semaine')"
      ],
      "execution_count": 46,
      "outputs": []
    },
    {
      "cell_type": "code",
      "metadata": {
        "id": "i0-OQj2pgYUS"
      },
      "source": [
        "# Tests\n",
        "tests_ = pd.read_csv('https://www.data.gouv.fr/fr/datasets/r/001aca18-df6a-45c8-89e6-f82d689e6c01',\n",
        "                     sep=';', dtype={'dep': str})\n",
        "tests_old_ = pd.read_csv('https://www.data.gouv.fr/fr/datasets/r/b4ea7b4b-b7d1-4885-a099-71852291ff20'\n",
        "                         , sep=';').merge(dep_region, on='dep')\n",
        "jour_changement_format = '2020-05-13'\n",
        "\n",
        "tests_idf = pd.concat([\n",
        "    tests_old_.query(f'jour < \"{jour_changement_format}\" and reg==11')[\n",
        "        ['jour', 'clage_covid', 'nb_test', 'nb_pos']].rename(columns={'clage_covid': 'cl_age'}),\n",
        "    tests_.query(f'jour >= \"{jour_changement_format}\" and reg==11')[['jour', 'cl_age90', 'T', 'P']].rename(\n",
        "        columns={'cl_age90': 'cl_age', 'T': 'nb_test', 'P': 'nb_pos'})\n",
        "])"
      ],
      "execution_count": 47,
      "outputs": []
    },
    {
      "cell_type": "code",
      "metadata": {
        "id": "8KSfqSG_gfBZ"
      },
      "source": [
        "# Ensemble des sources au format {Nom: (dataframe, colonne principale, colonne denominateur pour calculer un  taux)}\n",
        "sources = {\n",
        "    'Décès hospitaliers': (deces_idf, 'dc', None),\n",
        "    'Passages aux urgences': (urgences_idf, 'passages_urgence_covid', 'passages_urgence'),\n",
        "    'Actes SOS Médecins': (sos_medecins_idf, 'actes_sos_covid', 'actes_sos'),\n",
        "    'Tests positifs': (tests_idf, 'nb_pos', 'nb_test'),\n",
        "    'Infections respiratoires aigues': (ira_sentinelles_idf, 'iras_lisse', None)\n",
        "}"
      ],
      "execution_count": 48,
      "outputs": []
    },
    {
      "cell_type": "code",
      "metadata": {
        "id": "mJtYkTyOgvMm"
      },
      "source": [
        "# Calcul de la semaine (= la date du premier jour de la semaine)\n",
        "for df, col, col_ref in sources.values():\n",
        "    if 'jour' in df.columns:\n",
        "        df['jour'] = pd.to_datetime(df['jour'])\n",
        "        df['semaine'] = pd.to_datetime(df['jour'].map(anneesemaine).map(premier_jour_anneesemaine))"
      ],
      "execution_count": 49,
      "outputs": []
    },
    {
      "cell_type": "code",
      "metadata": {
        "id": "xnJ95En_hHCJ"
      },
      "source": [
        "# Premier jour de la semaine en cours, pour arrêter les indicateurs à la semaine pleine précédente\n",
        "semaine_en_cours = pd.to_datetime(premier_jour_anneesemaine(anneesemaine(datetime.datetime.today())))"
      ],
      "execution_count": 50,
      "outputs": []
    },
    {
      "cell_type": "code",
      "metadata": {
        "id": "Wahz6aTDhSsn"
      },
      "source": [
        "# IFR issu de https://www.lepoint.fr/sante/covid-19-maladie-mortelle-mais-a-quel-point-05-11-2020-2399541_40.php#\n",
        "fatality_rate = {\n",
        "    19: 0.015,\n",
        "    29: 0.035,\n",
        "    39: 0.0804,\n",
        "    49: 0.2021,\n",
        "    59: 0.4892,\n",
        "    69: 1.1984,\n",
        "    79: 2.8161,\n",
        "    89: 7.0167,\n",
        "    90: 17.37,\n",
        "}"
      ],
      "execution_count": 51,
      "outputs": []
    },
    {
      "cell_type": "code",
      "metadata": {
        "id": "JhcjAiE2hcIK"
      },
      "source": [
        "# Loi log-normale issue de https://www.cebm.net/covid-19/estimating-the-infection-fatality-ratio-in-england/\n",
        "log_normal_jour = {\n",
        "    2: 0.000000006947995734, 3: 0.0000009943909898, 4: 0.00001971596617, 5: 0.0001432401693,\n",
        "    6: 0.0005779783016, 7: 0.001603883984, 8: 0.003455634494, 9: 0.006224227032,\n",
        "    10: 0.009829795751, 11: 0.01405605467, 12: 0.01861268174, 13: 0.02319674114,\n",
        "    14: 0.02753802951, 15: 0.0314247717, 16: 0.03471251885, 17: 0.0373213738,\n",
        "    18: 0.03922655123, 19: 0.04044616224, 20: 0.04102881393, 21: 0.04104250453,\n",
        "    22: 0.04056548696, 23: 0.03967925097, 24: 0.03846347553, 25: 0.03699266,\n",
        "    26: 0.03533409831, 27: 0.03354687242, 28: 0.03168158182, 29: 0.02978057574,\n",
        "    30: 0.02787850567, 31: 0.02600306072, 32: 0.02417578673, 33: 0.02241292029,\n",
        "    34: 0.02072619244, 35: 0.01912357457, 36: 0.01760995129, 37: 0.01618771451,\n",
        "    38: 0.01485727833, 39: 0.01361751862, 40: 0.01246614312, 41: 0.01139999905,\n",
        "    42: 0.01041532578, 43: 0.009507959743, 44: 0.008673498479, 45: 0.007907430234,\n",
        "    46: 0.007205234605, 47: 0.006562459279, 48: 0.005974777115, 49: 0.005438027276,\n",
        "    50: 0.0049482435, 51: 0.00450167214, 52: 0.004094782149, 53: 0.003724268808,\n",
        "    54: 0.003387052676, 55: 0.00308027495, 56: 0.002801290255, 57: 0.002547657518,\n",
        "    58: 0.002317129729, 59: 0.002107642896, 60: 0.00191730467, 61: 0.001744382908,\n",
        "    62: 0.001587294367, 63: 0.001444593725, 64: 0.001314963007, 65: 0.001197201524,\n",
        "    66: 0.001090216347, 67: 0.0009930133644, 68: 0.0009046889154, 69: 0.0008244220097,\n",
        "    70: 0.0007514671119, 71: 0.0006851474745, 72: 0.0006248489956, 73: 0.0005700145734,\n",
        "    74: 0.0005201389278, 75: 0.0004747638611, 76: 0.0004334739258, 77: 0.0003958924716\n",
        "}\n",
        "\n",
        "# Transformation en loi semaine\n",
        "log_normal_semaine = {\n",
        "    semaine: sum([proba for jour, proba in log_normal_jour.items() if int(jour/7) == semaine])\n",
        "    for semaine in range(0,12)\n",
        "}"
      ],
      "execution_count": 52,
      "outputs": []
    },
    {
      "cell_type": "code",
      "metadata": {
        "id": "T8W6u04VhsX_"
      },
      "source": [
        "# Implementation de la distribution des décès\n",
        "cls_age90 = [19, 29, 39, 49, 59, 69, 79, 89, 90]\n",
        "def distrib(jour_ou_semaine, nombre, cl_age90, pas='jour'):\n",
        "    items = log_normal_semaine.items() if pas == 'semaine' else log_normal_jour.items()\n",
        "    \n",
        "    return [((jour_ou_semaine - datetime.timedelta(days=(7 if pas=='semaine' else 1)*delai)),\n",
        "             100*proba*nombre/fatality_rate[cl_age90]) for delai, proba in items]"
      ],
      "execution_count": 53,
      "outputs": []
    },
    {
      "cell_type": "code",
      "metadata": {
        "id": "fiGpuEOmhzSx"
      },
      "source": [
        "# Choix si l'étude se fait par semaine ou par jour\n",
        "pas = 'semaine'\n",
        "# Carence à enlever parceque les décès du futur ne sont pas encore connus\n",
        "carence = -9 if pas == 'semaine' else -56"
      ],
      "execution_count": 54,
      "outputs": []
    },
    {
      "cell_type": "code",
      "metadata": {
        "id": "bYZWg40Gh8Cy"
      },
      "source": [
        "# Somme des décès par jour/semaine et par classe d'âge\n",
        "deces = {}\n",
        "for cl_age90 in cls_age90:\n",
        "    deces[cl_age90] = deces_idf.query(f'cl_age90=={cl_age90}').groupby(pas).dc.sum()"
      ],
      "execution_count": 55,
      "outputs": []
    },
    {
      "cell_type": "code",
      "metadata": {
        "id": "USg4tY3JiHmY"
      },
      "source": [
        "# Calcul du nombre théorique d'infections par casse d'âge\n",
        "infections = {}\n",
        "for cl_age90 in cls_age90:\n",
        "    _series = pd.DataFrame(deces[cl_age90]).reset_index().apply(lambda x: distrib(x[0], x[1], cl_age90, pas), axis=1, result_type='reduce')\n",
        "    _distribution = pd.DataFrame([(jour_ou_semaine, _nombre)\n",
        "                                  for _list in _series\n",
        "                                  for (jour_ou_semaine, _nombre) in _list],\n",
        "                                 columns=[pas, 'infections'])\n",
        "    infections[cl_age90] = _distribution.groupby(pas)['infections'].sum()[:carence]"
      ],
      "execution_count": 56,
      "outputs": []
    },
    {
      "cell_type": "code",
      "metadata": {
        "id": "Bz32KGv7iJ60"
      },
      "source": [
        "# Aggrégation\n",
        "infections_idf = pd.DataFrame(\n",
        "    pd.concat([infections[cl_age90] for cl_age90 in cls_age90], axis=1).sum(axis=1)).reset_index()"
      ],
      "execution_count": 57,
      "outputs": []
    },
    {
      "cell_type": "code",
      "metadata": {
        "id": "HYICEdQAiLf_"
      },
      "source": [
        "# Rajout du nouveau dataframe au dictionnaire des sources\n",
        "new_col = \"Nombre théorique d'infections\"\n",
        "infections_idf.columns = [pas, new_col]\n",
        "sources[new_col] = (infections_idf, new_col, None)\n",
        "if pas == 'jour':\n",
        "    infections_idf['semaine'] = pd.to_datetime(infections_idf['jour'].map(anneesemaine).map(premier_jour_anneesemaine))"
      ],
      "execution_count": 58,
      "outputs": []
    },
    {
      "cell_type": "code",
      "metadata": {
        "id": "v8i3Uw36iVCX"
      },
      "source": [
        "# Calcul des jours entre lesquels on a des points sur toutes les séries\n",
        "jour_min = semaine_en_cours - datetime.timedelta(days=365)\n",
        "jour_max = semaine_en_cours\n",
        "for (df, _, _) in sources.values():\n",
        "    if pas in df.columns:\n",
        "        jour_min = df[pas].min() if df[pas].min() > jour_min else jour_min\n",
        "        jour_max = df[pas].max() if df[pas].max() < jour_max else jour_max\n",
        "\n",
        "def crop_serie(_serie):\n",
        "    _filtre = (_serie.index >= jour_min) & (_serie.index <= jour_max)\n",
        "    return _serie[_filtre]"
      ],
      "execution_count": 59,
      "outputs": []
    },
    {
      "cell_type": "code",
      "metadata": {
        "id": "fo7Vzd59iuo1"
      },
      "source": [
        "# Aggrégatio par jour/semaine avec lissage par semaine glissante si l'aggrégation est par jour\n",
        "def agg_serie(df, pas, col, col_ref):\n",
        "    _filtre = (df[pas] >= jour_min) & (df[pas] <= jour_max)\n",
        "    _serie = df.groupby(pas)[col].sum()\n",
        "    if col_ref:\n",
        "        _serie = _serie / df.groupby(pas)[col_ref].sum()\n",
        "    if pas == 'jour' and col != new_col:\n",
        "        _serie = _serie.rolling(7, min_periods=2).mean()\n",
        "    return crop_serie(_serie)"
      ],
      "execution_count": 100,
      "outputs": []
    },
    {
      "cell_type": "code",
      "metadata": {
        "id": "PwL9DsIgjOMY"
      },
      "source": [
        "# Variation d'une semaine à l'autre\n",
        "def increment_wtow(_serie, pas='jour', col=None):\n",
        "    _shift = 1 if pas == 'semaine' else 7\n",
        "    return (_serie / _serie.shift(_shift)) - 1"
      ],
      "execution_count": 99,
      "outputs": []
    },
    {
      "cell_type": "code",
      "metadata": {
        "id": "6QH1mvFsjQu3"
      },
      "source": [
        "# Calcul de l'évolution semaine à semaine par indicateur puis aggrégation\n",
        "_dict = {}\n",
        "for name, (df, col, col_ref) in sources.items():\n",
        "    if pas in df.columns:\n",
        "        _serie = agg_serie(df, pas, col, None)         \n",
        "        _dict[name] = increment_wtow(_serie, pas, col)\n",
        "        if col_ref:\n",
        "            _dict[f'Taux {name}'] = increment_wtow(agg_serie(df, pas, col, col_ref), pas)\n",
        "\n",
        "evolution = pd.DataFrame(_dict)"
      ],
      "execution_count": 63,
      "outputs": []
    },
    {
      "cell_type": "code",
      "metadata": {
        "id": "WYeRE-uajXQQ"
      },
      "source": [
        "# Metriques de mesure d'erreur\n",
        "def rmse(predictions, targets):\n",
        "    return np.sqrt(((predictions - targets) ** 2).mean())\n",
        "\n",
        "def mape(y_true, y_pred): \n",
        "    y_true, y_pred = np.array(y_true), np.array(y_pred)\n",
        "    return np.mean(np.abs((y_true - y_pred) / y_true)) * 100"
      ],
      "execution_count": 64,
      "outputs": []
    },
    {
      "cell_type": "code",
      "metadata": {
        "id": "B87Giw1UzbZL"
      },
      "source": [
        "# Utilitaire pour afficher la courbe\n",
        "def show(_fig, _title=''):\n",
        "  _fig.update_layout(\n",
        "      title=_title,\n",
        "      font=dict(\n",
        "          family=\"Courier New Bold\",\n",
        "          size=30,\n",
        "      ),\n",
        "      #legend=dict(yanchor=\"top\", y=0.99, xanchor=\"right\", x=0.4, bgcolor=\"rgba(0,0,0,0)\")\n",
        "      legend=dict(orientation=\"h\", yanchor=\"top\", y=1.02, xanchor=\"right\", x=0.9, bgcolor=\"rgba(0,0,0,0)\")\n",
        "      )\n",
        "  _fig.update_xaxes(tick0=datetime.date(2020, 1, 6))\n",
        "  _fig.show()"
      ],
      "execution_count": 101,
      "outputs": []
    },
    {
      "cell_type": "code",
      "metadata": {
        "colab": {
          "base_uri": "https://localhost:8080/",
          "height": 853
        },
        "id": "MpXsn9gky4tF",
        "outputId": "8c15e4af-96a0-4832-d5f1-0f3629d4913a"
      },
      "source": [
        "# Calcul de l'erreur entres les séries\n",
        "fig = go.Figure()\n",
        "df = evolution.copy()\n",
        "df = df[df.index < pd.to_datetime('2020-08-01')]\n",
        "range_pas = 1 if pas == 'semaine' else 14\n",
        "_list = []\n",
        "for col in df.columns:\n",
        "    grid_search = [\n",
        "        (_multiplier,\n",
        "         _shift,\n",
        "         rmse((_multiplier/100)*df[col].shift(_shift), df['Nombre théorique d\\'infections'])\n",
        "        )\n",
        "        for _multiplier in range(100, 101, 1)\n",
        "        for _shift in range(-range_pas, 0)\n",
        "    ]\n",
        "    _index = np.argmin([_tuple[2] for _tuple in grid_search])\n",
        "    multiplier, shift, error = grid_search[_index]\n",
        "    _list.append({\"Métrique\": col,\n",
        "                  #\"Multiplicateur\": multiplier/100, \"Retard\": shift, \n",
        "                  \"RMSE\": error})\n",
        "    _serie = (multiplier/100)*df[col].shift(shift)\n",
        "    fig.add_trace(go.Scatter(x=_serie.index, y=_serie, name=col, line=dict(width=4)))\n",
        "show(fig, 'Variation par semaine')\n",
        "pd.DataFrame(_list).sort_values('RMSE')"
      ],
      "execution_count": 102,
      "outputs": [
        {
          "output_type": "display_data",
          "data": {
            "text/html": [
              "<html>\n",
              "<head><meta charset=\"utf-8\" /></head>\n",
              "<body>\n",
              "    <div>\n",
              "            <script src=\"https://cdnjs.cloudflare.com/ajax/libs/mathjax/2.7.5/MathJax.js?config=TeX-AMS-MML_SVG\"></script><script type=\"text/javascript\">if (window.MathJax) {MathJax.Hub.Config({SVG: {font: \"STIX-Web\"}});}</script>\n",
              "                <script type=\"text/javascript\">window.PlotlyConfig = {MathJaxConfig: 'local'};</script>\n",
              "        <script src=\"https://cdn.plot.ly/plotly-latest.min.js\"></script>    \n",
              "            <div id=\"27cbe2ec-3d43-49bb-a575-c933173df458\" class=\"plotly-graph-div\" style=\"height:525px; width:100%;\"></div>\n",
              "            <script type=\"text/javascript\">\n",
              "                \n",
              "                    window.PLOTLYENV=window.PLOTLYENV || {};\n",
              "                    \n",
              "                if (document.getElementById(\"27cbe2ec-3d43-49bb-a575-c933173df458\")) {\n",
              "                    Plotly.newPlot(\n",
              "                        '27cbe2ec-3d43-49bb-a575-c933173df458',\n",
              "                        [{\"line\": {\"width\": 4}, \"name\": \"D\\u00e9c\\u00e8s hospitaliers\", \"type\": \"scatter\", \"x\": [\"2020-03-16T00:00:00\", \"2020-03-23T00:00:00\", \"2020-03-30T00:00:00\", \"2020-04-06T00:00:00\", \"2020-04-13T00:00:00\", \"2020-04-20T00:00:00\", \"2020-04-27T00:00:00\", \"2020-05-04T00:00:00\", \"2020-05-11T00:00:00\", \"2020-05-18T00:00:00\", \"2020-05-25T00:00:00\", \"2020-06-01T00:00:00\", \"2020-06-08T00:00:00\", \"2020-06-15T00:00:00\", \"2020-06-22T00:00:00\", \"2020-06-29T00:00:00\", \"2020-07-06T00:00:00\", \"2020-07-13T00:00:00\", \"2020-07-20T00:00:00\", \"2020-07-27T00:00:00\"], \"y\": [4.90990990990991, 0.9679878048780488, 0.11425251742835019, -0.1626694473409802, -0.3208800332088003, -0.3453545232273839, -0.3305322128851541, -0.29567642956764295, -0.24752475247524752, -0.018421052631578894, -0.3351206434316354, -0.20564516129032262, -0.42131979695431476, -0.26315789473684215, -0.2142857142857143, 0.13636363636363646, -0.33333333333333337, -0.12, 0.20454545454545459, null]}, {\"line\": {\"width\": 4}, \"name\": \"Passages aux urgences\", \"type\": \"scatter\", \"x\": [\"2020-03-16T00:00:00\", \"2020-03-23T00:00:00\", \"2020-03-30T00:00:00\", \"2020-04-06T00:00:00\", \"2020-04-13T00:00:00\", \"2020-04-20T00:00:00\", \"2020-04-27T00:00:00\", \"2020-05-04T00:00:00\", \"2020-05-11T00:00:00\", \"2020-05-18T00:00:00\", \"2020-05-25T00:00:00\", \"2020-06-01T00:00:00\", \"2020-06-08T00:00:00\", \"2020-06-15T00:00:00\", \"2020-06-22T00:00:00\", \"2020-06-29T00:00:00\", \"2020-07-06T00:00:00\", \"2020-07-13T00:00:00\", \"2020-07-20T00:00:00\", \"2020-07-27T00:00:00\"], \"y\": [0.9909787234042553, -0.18389330597589126, -0.3311334590404358, -0.3598277212216131, -0.21981651376146794, -0.16807776732518032, -0.10139464756879002, -0.3894714765100671, -0.2167639986259018, -0.21842105263157896, -0.4803591470258137, -0.12742980561555073, -0.443069306930693, 0.040000000000000036, 0.2008547008547008, 0.19928825622775803, 0.40949554896142426, 0.16421052631578958, 0.039783001808318286, null]}, {\"line\": {\"width\": 4}, \"name\": \"Taux Passages aux urgences\", \"type\": \"scatter\", \"x\": [\"2020-03-16T00:00:00\", \"2020-03-23T00:00:00\", \"2020-03-30T00:00:00\", \"2020-04-06T00:00:00\", \"2020-04-13T00:00:00\", \"2020-04-20T00:00:00\", \"2020-04-27T00:00:00\", \"2020-05-04T00:00:00\", \"2020-05-11T00:00:00\", \"2020-05-18T00:00:00\", \"2020-05-25T00:00:00\", \"2020-06-01T00:00:00\", \"2020-06-08T00:00:00\", \"2020-06-15T00:00:00\", \"2020-06-22T00:00:00\", \"2020-06-29T00:00:00\", \"2020-07-06T00:00:00\", \"2020-07-13T00:00:00\", \"2020-07-20T00:00:00\", \"2020-07-27T00:00:00\"], \"y\": [0.9704740474225968, -0.05623080646141909, -0.28267505962093864, -0.34650010174605306, -0.2515812418659912, -0.18235885114803563, -0.15735144513163168, -0.42211243750369154, -0.2852714744890974, -0.3006100683142714, -0.49080809841617357, -0.12185589002028308, -0.4691666359563996, -0.005111050057695521, 0.16483251611544203, 0.22671004915899506, 0.4101259480790014, 0.1771023984238449, 0.049261034468822684, null]}, {\"line\": {\"width\": 4}, \"name\": \"Actes SOS M\\u00e9decins\", \"type\": \"scatter\", \"x\": [\"2020-03-16T00:00:00\", \"2020-03-23T00:00:00\", \"2020-03-30T00:00:00\", \"2020-04-06T00:00:00\", \"2020-04-13T00:00:00\", \"2020-04-20T00:00:00\", \"2020-04-27T00:00:00\", \"2020-05-04T00:00:00\", \"2020-05-11T00:00:00\", \"2020-05-18T00:00:00\", \"2020-05-25T00:00:00\", \"2020-06-01T00:00:00\", \"2020-06-08T00:00:00\", \"2020-06-15T00:00:00\", \"2020-06-22T00:00:00\", \"2020-06-29T00:00:00\", \"2020-07-06T00:00:00\", \"2020-07-13T00:00:00\", \"2020-07-20T00:00:00\", \"2020-07-27T00:00:00\"], \"y\": [0.39022051773729616, -0.24137931034482762, -0.475, -0.3125541125541126, -0.3564231738035264, -0.12426614481409004, -0.18212290502793294, 0.0, 0.001366120218579292, -0.17735334242837653, -0.19734660033167495, -0.28099173553719003, -0.031609195402298895, 0.3916913946587537, 0.4008528784648189, 0.121765601217656, 0.3595658073270014, -0.2075848303393214, -0.09571788413098237, null]}, {\"line\": {\"width\": 4}, \"name\": \"Taux Actes SOS M\\u00e9decins\", \"type\": \"scatter\", \"x\": [\"2020-03-16T00:00:00\", \"2020-03-23T00:00:00\", \"2020-03-30T00:00:00\", \"2020-04-06T00:00:00\", \"2020-04-13T00:00:00\", \"2020-04-20T00:00:00\", \"2020-04-27T00:00:00\", \"2020-05-04T00:00:00\", \"2020-05-11T00:00:00\", \"2020-05-18T00:00:00\", \"2020-05-25T00:00:00\", \"2020-06-01T00:00:00\", \"2020-06-08T00:00:00\", \"2020-06-15T00:00:00\", \"2020-06-22T00:00:00\", \"2020-06-29T00:00:00\", \"2020-07-06T00:00:00\", \"2020-07-13T00:00:00\", \"2020-07-20T00:00:00\", \"2020-07-27T00:00:00\"], \"y\": [0.6695234514083432, -0.1556739381111093, -0.3694222833562586, -0.3011631683239039, -0.30026002697923526, -0.16748960362981302, -0.19233688430575446, 0.0763499500729703, -0.11931463087714078, -0.21399093319352347, -0.2517293988169348, -0.18083236120467283, -0.05550169385753767, 0.27412686695129285, 0.20475560003165483, 0.1868072627341748, 0.34614484667451517, -0.1468940051382127, -0.05732353298373061, null]}, {\"line\": {\"width\": 4}, \"name\": \"Tests positifs\", \"type\": \"scatter\", \"x\": [\"2020-03-16T00:00:00\", \"2020-03-23T00:00:00\", \"2020-03-30T00:00:00\", \"2020-04-06T00:00:00\", \"2020-04-13T00:00:00\", \"2020-04-20T00:00:00\", \"2020-04-27T00:00:00\", \"2020-05-04T00:00:00\", \"2020-05-11T00:00:00\", \"2020-05-18T00:00:00\", \"2020-05-25T00:00:00\", \"2020-06-01T00:00:00\", \"2020-06-08T00:00:00\", \"2020-06-15T00:00:00\", \"2020-06-22T00:00:00\", \"2020-06-29T00:00:00\", \"2020-07-06T00:00:00\", \"2020-07-13T00:00:00\", \"2020-07-20T00:00:00\", \"2020-07-27T00:00:00\"], \"y\": [1.47678916827853, 0.042821814395418434, -0.07251622566150773, -0.3848741757502355, -0.3824108510172829, -0.665249734325186, -0.3904761904761904, 2.920138888888889, 0.09743135518157664, -0.05488297013720744, -0.27924850555081127, -0.125, 0.029113067027759065, 0.008552631578947478, 0.09262883235485986, 0.16298507462686573, 0.2700205338809034, 0.5501212611156023, 0.5864406779661018, null]}, {\"line\": {\"width\": 4}, \"name\": \"Taux Tests positifs\", \"type\": \"scatter\", \"x\": [\"2020-03-16T00:00:00\", \"2020-03-23T00:00:00\", \"2020-03-30T00:00:00\", \"2020-04-06T00:00:00\", \"2020-04-13T00:00:00\", \"2020-04-20T00:00:00\", \"2020-04-27T00:00:00\", \"2020-05-04T00:00:00\", \"2020-05-11T00:00:00\", \"2020-05-18T00:00:00\", \"2020-05-25T00:00:00\", \"2020-06-01T00:00:00\", \"2020-06-08T00:00:00\", \"2020-06-15T00:00:00\", \"2020-06-22T00:00:00\", \"2020-06-29T00:00:00\", \"2020-07-06T00:00:00\", \"2020-07-13T00:00:00\", \"2020-07-20T00:00:00\", \"2020-07-27T00:00:00\"], \"y\": [0.04116365284168366, -0.17351289847622275, -0.11815849332934447, -0.34802038946582936, -0.43273707628722846, -0.4470785695145244, -0.2456510961540077, -0.31361839327277596, -0.2581720673794009, -0.1613808269440179, -0.12127445989720198, -0.20745848297878866, 0.03156185349275287, -0.08354499169300367, -0.21527342700871233, -0.02467424193042722, 0.27146942461524404, 0.17239500094211335, 0.2992746310008767, null]}, {\"line\": {\"width\": 4}, \"name\": \"Infections respiratoires aigues\", \"type\": \"scatter\", \"x\": [\"2020-03-16T00:00:00\", \"2020-03-23T00:00:00\", \"2020-03-30T00:00:00\", \"2020-04-06T00:00:00\", \"2020-04-13T00:00:00\", \"2020-04-20T00:00:00\", \"2020-04-27T00:00:00\", \"2020-05-04T00:00:00\", \"2020-05-11T00:00:00\", \"2020-05-18T00:00:00\", \"2020-05-25T00:00:00\", \"2020-06-01T00:00:00\", \"2020-06-08T00:00:00\", \"2020-06-15T00:00:00\", \"2020-06-22T00:00:00\", \"2020-06-29T00:00:00\", \"2020-07-06T00:00:00\", \"2020-07-13T00:00:00\", \"2020-07-20T00:00:00\", \"2020-07-27T00:00:00\"], \"y\": [0.0736217561238981, -0.10767470377840827, -0.25751938807597585, -0.4300337167026935, -0.4971580217129071, -0.21784021340702786, -0.3215232113063107, -0.10104151598437727, -0.29559900233325287, -0.3195888063963449, -0.5510323988584858, -0.4475602916432978, -0.04737732656514382, -0.07744227353463595, 0.11051212938005395, 0.2063106796116505, -0.06956021845357863, -0.043558850787766445, -0.06524547803617575, null]}, {\"line\": {\"width\": 4}, \"name\": \"Nombre th\\u00e9orique d'infections\", \"type\": \"scatter\", \"x\": [\"2020-03-16T00:00:00\", \"2020-03-23T00:00:00\", \"2020-03-30T00:00:00\", \"2020-04-06T00:00:00\", \"2020-04-13T00:00:00\", \"2020-04-20T00:00:00\", \"2020-04-27T00:00:00\", \"2020-05-04T00:00:00\", \"2020-05-11T00:00:00\", \"2020-05-18T00:00:00\", \"2020-05-25T00:00:00\", \"2020-06-01T00:00:00\", \"2020-06-08T00:00:00\", \"2020-06-15T00:00:00\", \"2020-06-22T00:00:00\", \"2020-06-29T00:00:00\", \"2020-07-06T00:00:00\", \"2020-07-13T00:00:00\", \"2020-07-20T00:00:00\", \"2020-07-27T00:00:00\"], \"y\": [-0.07765769650633225, -0.26201134059855935, -0.35391088404973914, -0.2739782338256481, -0.2091799344869375, -0.2421223241913586, -0.18966850428442217, -0.2126373006499126, -0.28749871106155245, -0.23222337567029638, -0.27748029183649503, -0.3312087250289061, -0.1805336556208571, 0.050028793279099926, 0.05983529032601642, 0.013337305425346502, 0.08722329650242622, 0.07527928927025629, 0.061192856035847676, null]}],\n",
              "                        {\"font\": {\"family\": \"Courier New Bold\", \"size\": 30}, \"legend\": {\"bgcolor\": \"rgba(0,0,0,0)\", \"orientation\": \"h\", \"x\": 0.9, \"xanchor\": \"right\", \"y\": 1.02, \"yanchor\": \"top\"}, \"template\": {\"data\": {\"bar\": [{\"error_x\": {\"color\": \"#2a3f5f\"}, \"error_y\": {\"color\": \"#2a3f5f\"}, \"marker\": {\"line\": {\"color\": \"#E5ECF6\", \"width\": 0.5}}, \"type\": \"bar\"}], \"barpolar\": [{\"marker\": {\"line\": {\"color\": \"#E5ECF6\", \"width\": 0.5}}, \"type\": \"barpolar\"}], \"carpet\": [{\"aaxis\": {\"endlinecolor\": \"#2a3f5f\", \"gridcolor\": \"white\", \"linecolor\": \"white\", \"minorgridcolor\": \"white\", \"startlinecolor\": \"#2a3f5f\"}, \"baxis\": {\"endlinecolor\": \"#2a3f5f\", \"gridcolor\": \"white\", \"linecolor\": \"white\", \"minorgridcolor\": \"white\", \"startlinecolor\": \"#2a3f5f\"}, \"type\": \"carpet\"}], \"choropleth\": [{\"colorbar\": {\"outlinewidth\": 0, \"ticks\": \"\"}, \"type\": \"choropleth\"}], \"contour\": [{\"colorbar\": {\"outlinewidth\": 0, \"ticks\": \"\"}, \"colorscale\": [[0.0, \"#0d0887\"], [0.1111111111111111, \"#46039f\"], [0.2222222222222222, \"#7201a8\"], [0.3333333333333333, \"#9c179e\"], [0.4444444444444444, \"#bd3786\"], [0.5555555555555556, \"#d8576b\"], [0.6666666666666666, \"#ed7953\"], [0.7777777777777778, \"#fb9f3a\"], [0.8888888888888888, \"#fdca26\"], [1.0, \"#f0f921\"]], \"type\": \"contour\"}], \"contourcarpet\": [{\"colorbar\": {\"outlinewidth\": 0, \"ticks\": \"\"}, \"type\": \"contourcarpet\"}], \"heatmap\": [{\"colorbar\": {\"outlinewidth\": 0, \"ticks\": \"\"}, \"colorscale\": [[0.0, \"#0d0887\"], [0.1111111111111111, \"#46039f\"], [0.2222222222222222, \"#7201a8\"], [0.3333333333333333, \"#9c179e\"], [0.4444444444444444, \"#bd3786\"], [0.5555555555555556, \"#d8576b\"], [0.6666666666666666, \"#ed7953\"], [0.7777777777777778, \"#fb9f3a\"], [0.8888888888888888, \"#fdca26\"], [1.0, \"#f0f921\"]], \"type\": \"heatmap\"}], \"heatmapgl\": [{\"colorbar\": {\"outlinewidth\": 0, \"ticks\": \"\"}, \"colorscale\": [[0.0, \"#0d0887\"], [0.1111111111111111, \"#46039f\"], [0.2222222222222222, \"#7201a8\"], [0.3333333333333333, \"#9c179e\"], [0.4444444444444444, \"#bd3786\"], [0.5555555555555556, \"#d8576b\"], [0.6666666666666666, \"#ed7953\"], [0.7777777777777778, \"#fb9f3a\"], [0.8888888888888888, \"#fdca26\"], [1.0, \"#f0f921\"]], \"type\": \"heatmapgl\"}], \"histogram\": [{\"marker\": {\"colorbar\": {\"outlinewidth\": 0, \"ticks\": \"\"}}, \"type\": \"histogram\"}], \"histogram2d\": [{\"colorbar\": {\"outlinewidth\": 0, \"ticks\": \"\"}, \"colorscale\": [[0.0, \"#0d0887\"], [0.1111111111111111, \"#46039f\"], [0.2222222222222222, \"#7201a8\"], [0.3333333333333333, \"#9c179e\"], [0.4444444444444444, \"#bd3786\"], [0.5555555555555556, \"#d8576b\"], [0.6666666666666666, \"#ed7953\"], [0.7777777777777778, \"#fb9f3a\"], [0.8888888888888888, \"#fdca26\"], [1.0, \"#f0f921\"]], \"type\": \"histogram2d\"}], \"histogram2dcontour\": [{\"colorbar\": {\"outlinewidth\": 0, \"ticks\": \"\"}, \"colorscale\": [[0.0, \"#0d0887\"], [0.1111111111111111, \"#46039f\"], [0.2222222222222222, \"#7201a8\"], [0.3333333333333333, \"#9c179e\"], [0.4444444444444444, \"#bd3786\"], [0.5555555555555556, \"#d8576b\"], [0.6666666666666666, \"#ed7953\"], [0.7777777777777778, \"#fb9f3a\"], [0.8888888888888888, \"#fdca26\"], [1.0, \"#f0f921\"]], \"type\": \"histogram2dcontour\"}], \"mesh3d\": [{\"colorbar\": {\"outlinewidth\": 0, \"ticks\": \"\"}, \"type\": \"mesh3d\"}], \"parcoords\": [{\"line\": {\"colorbar\": {\"outlinewidth\": 0, \"ticks\": \"\"}}, \"type\": \"parcoords\"}], \"pie\": [{\"automargin\": true, \"type\": \"pie\"}], \"scatter\": [{\"marker\": {\"colorbar\": {\"outlinewidth\": 0, \"ticks\": \"\"}}, \"type\": \"scatter\"}], \"scatter3d\": [{\"line\": {\"colorbar\": {\"outlinewidth\": 0, \"ticks\": \"\"}}, \"marker\": {\"colorbar\": {\"outlinewidth\": 0, \"ticks\": \"\"}}, \"type\": \"scatter3d\"}], \"scattercarpet\": [{\"marker\": {\"colorbar\": {\"outlinewidth\": 0, \"ticks\": \"\"}}, \"type\": \"scattercarpet\"}], \"scattergeo\": [{\"marker\": {\"colorbar\": {\"outlinewidth\": 0, \"ticks\": \"\"}}, \"type\": \"scattergeo\"}], \"scattergl\": [{\"marker\": {\"colorbar\": {\"outlinewidth\": 0, \"ticks\": \"\"}}, \"type\": \"scattergl\"}], \"scattermapbox\": [{\"marker\": {\"colorbar\": {\"outlinewidth\": 0, \"ticks\": \"\"}}, \"type\": \"scattermapbox\"}], \"scatterpolar\": [{\"marker\": {\"colorbar\": {\"outlinewidth\": 0, \"ticks\": \"\"}}, \"type\": \"scatterpolar\"}], \"scatterpolargl\": [{\"marker\": {\"colorbar\": {\"outlinewidth\": 0, \"ticks\": \"\"}}, \"type\": \"scatterpolargl\"}], \"scatterternary\": [{\"marker\": {\"colorbar\": {\"outlinewidth\": 0, \"ticks\": \"\"}}, \"type\": \"scatterternary\"}], \"surface\": [{\"colorbar\": {\"outlinewidth\": 0, \"ticks\": \"\"}, \"colorscale\": [[0.0, \"#0d0887\"], [0.1111111111111111, \"#46039f\"], [0.2222222222222222, \"#7201a8\"], [0.3333333333333333, \"#9c179e\"], [0.4444444444444444, \"#bd3786\"], [0.5555555555555556, \"#d8576b\"], [0.6666666666666666, \"#ed7953\"], [0.7777777777777778, \"#fb9f3a\"], [0.8888888888888888, \"#fdca26\"], [1.0, \"#f0f921\"]], \"type\": \"surface\"}], \"table\": [{\"cells\": {\"fill\": {\"color\": \"#EBF0F8\"}, \"line\": {\"color\": \"white\"}}, \"header\": {\"fill\": {\"color\": \"#C8D4E3\"}, \"line\": {\"color\": \"white\"}}, \"type\": \"table\"}]}, \"layout\": {\"annotationdefaults\": {\"arrowcolor\": \"#2a3f5f\", \"arrowhead\": 0, \"arrowwidth\": 1}, \"coloraxis\": {\"colorbar\": {\"outlinewidth\": 0, \"ticks\": \"\"}}, \"colorscale\": {\"diverging\": [[0, \"#8e0152\"], [0.1, \"#c51b7d\"], [0.2, \"#de77ae\"], [0.3, \"#f1b6da\"], [0.4, \"#fde0ef\"], [0.5, \"#f7f7f7\"], [0.6, \"#e6f5d0\"], [0.7, \"#b8e186\"], [0.8, \"#7fbc41\"], [0.9, \"#4d9221\"], [1, \"#276419\"]], \"sequential\": [[0.0, \"#0d0887\"], [0.1111111111111111, \"#46039f\"], [0.2222222222222222, \"#7201a8\"], [0.3333333333333333, \"#9c179e\"], [0.4444444444444444, \"#bd3786\"], [0.5555555555555556, \"#d8576b\"], [0.6666666666666666, \"#ed7953\"], [0.7777777777777778, \"#fb9f3a\"], [0.8888888888888888, \"#fdca26\"], [1.0, \"#f0f921\"]], \"sequentialminus\": [[0.0, \"#0d0887\"], [0.1111111111111111, \"#46039f\"], [0.2222222222222222, \"#7201a8\"], [0.3333333333333333, \"#9c179e\"], [0.4444444444444444, \"#bd3786\"], [0.5555555555555556, \"#d8576b\"], [0.6666666666666666, \"#ed7953\"], [0.7777777777777778, \"#fb9f3a\"], [0.8888888888888888, \"#fdca26\"], [1.0, \"#f0f921\"]]}, \"colorway\": [\"#636efa\", \"#EF553B\", \"#00cc96\", \"#ab63fa\", \"#FFA15A\", \"#19d3f3\", \"#FF6692\", \"#B6E880\", \"#FF97FF\", \"#FECB52\"], \"font\": {\"color\": \"#2a3f5f\"}, \"geo\": {\"bgcolor\": \"white\", \"lakecolor\": \"white\", \"landcolor\": \"#E5ECF6\", \"showlakes\": true, \"showland\": true, \"subunitcolor\": \"white\"}, \"hoverlabel\": {\"align\": \"left\"}, \"hovermode\": \"closest\", \"mapbox\": {\"style\": \"light\"}, \"paper_bgcolor\": \"white\", \"plot_bgcolor\": \"#E5ECF6\", \"polar\": {\"angularaxis\": {\"gridcolor\": \"white\", \"linecolor\": \"white\", \"ticks\": \"\"}, \"bgcolor\": \"#E5ECF6\", \"radialaxis\": {\"gridcolor\": \"white\", \"linecolor\": \"white\", \"ticks\": \"\"}}, \"scene\": {\"xaxis\": {\"backgroundcolor\": \"#E5ECF6\", \"gridcolor\": \"white\", \"gridwidth\": 2, \"linecolor\": \"white\", \"showbackground\": true, \"ticks\": \"\", \"zerolinecolor\": \"white\"}, \"yaxis\": {\"backgroundcolor\": \"#E5ECF6\", \"gridcolor\": \"white\", \"gridwidth\": 2, \"linecolor\": \"white\", \"showbackground\": true, \"ticks\": \"\", \"zerolinecolor\": \"white\"}, \"zaxis\": {\"backgroundcolor\": \"#E5ECF6\", \"gridcolor\": \"white\", \"gridwidth\": 2, \"linecolor\": \"white\", \"showbackground\": true, \"ticks\": \"\", \"zerolinecolor\": \"white\"}}, \"shapedefaults\": {\"line\": {\"color\": \"#2a3f5f\"}}, \"ternary\": {\"aaxis\": {\"gridcolor\": \"white\", \"linecolor\": \"white\", \"ticks\": \"\"}, \"baxis\": {\"gridcolor\": \"white\", \"linecolor\": \"white\", \"ticks\": \"\"}, \"bgcolor\": \"#E5ECF6\", \"caxis\": {\"gridcolor\": \"white\", \"linecolor\": \"white\", \"ticks\": \"\"}}, \"title\": {\"x\": 0.05}, \"xaxis\": {\"automargin\": true, \"gridcolor\": \"white\", \"linecolor\": \"white\", \"ticks\": \"\", \"title\": {\"standoff\": 15}, \"zerolinecolor\": \"white\", \"zerolinewidth\": 2}, \"yaxis\": {\"automargin\": true, \"gridcolor\": \"white\", \"linecolor\": \"white\", \"ticks\": \"\", \"title\": {\"standoff\": 15}, \"zerolinecolor\": \"white\", \"zerolinewidth\": 2}}}, \"title\": {\"text\": \"Variation par semaine\"}, \"xaxis\": {\"tick0\": \"2020-01-06\"}},\n",
              "                        {\"responsive\": true}\n",
              "                    ).then(function(){\n",
              "                            \n",
              "var gd = document.getElementById('27cbe2ec-3d43-49bb-a575-c933173df458');\n",
              "var x = new MutationObserver(function (mutations, observer) {{\n",
              "        var display = window.getComputedStyle(gd).display;\n",
              "        if (!display || display === 'none') {{\n",
              "            console.log([gd, 'removed!']);\n",
              "            Plotly.purge(gd);\n",
              "            observer.disconnect();\n",
              "        }}\n",
              "}});\n",
              "\n",
              "// Listen for the removal of the full notebook cells\n",
              "var notebookContainer = gd.closest('#notebook-container');\n",
              "if (notebookContainer) {{\n",
              "    x.observe(notebookContainer, {childList: true});\n",
              "}}\n",
              "\n",
              "// Listen for the clearing of the current output cell\n",
              "var outputEl = gd.closest('.output');\n",
              "if (outputEl) {{\n",
              "    x.observe(outputEl, {childList: true});\n",
              "}}\n",
              "\n",
              "                        })\n",
              "                };\n",
              "                \n",
              "            </script>\n",
              "        </div>\n",
              "</body>\n",
              "</html>"
            ]
          },
          "metadata": {
            "tags": []
          }
        },
        {
          "output_type": "execute_result",
          "data": {
            "text/html": [
              "<div>\n",
              "<style scoped>\n",
              "    .dataframe tbody tr th:only-of-type {\n",
              "        vertical-align: middle;\n",
              "    }\n",
              "\n",
              "    .dataframe tbody tr th {\n",
              "        vertical-align: top;\n",
              "    }\n",
              "\n",
              "    .dataframe thead th {\n",
              "        text-align: right;\n",
              "    }\n",
              "</style>\n",
              "<table border=\"1\" class=\"dataframe\">\n",
              "  <thead>\n",
              "    <tr style=\"text-align: right;\">\n",
              "      <th></th>\n",
              "      <th>Métrique</th>\n",
              "      <th>RMSE</th>\n",
              "    </tr>\n",
              "  </thead>\n",
              "  <tbody>\n",
              "    <tr>\n",
              "      <th>8</th>\n",
              "      <td>Nombre théorique d'infections</td>\n",
              "      <td>0.092766</td>\n",
              "    </tr>\n",
              "    <tr>\n",
              "      <th>7</th>\n",
              "      <td>Infections respiratoires aigues</td>\n",
              "      <td>0.143229</td>\n",
              "    </tr>\n",
              "    <tr>\n",
              "      <th>2</th>\n",
              "      <td>Taux Passages aux urgences</td>\n",
              "      <td>0.152195</td>\n",
              "    </tr>\n",
              "    <tr>\n",
              "      <th>1</th>\n",
              "      <td>Passages aux urgences</td>\n",
              "      <td>0.155777</td>\n",
              "    </tr>\n",
              "    <tr>\n",
              "      <th>6</th>\n",
              "      <td>Taux Tests positifs</td>\n",
              "      <td>0.167478</td>\n",
              "    </tr>\n",
              "    <tr>\n",
              "      <th>4</th>\n",
              "      <td>Taux Actes SOS Médecins</td>\n",
              "      <td>0.186467</td>\n",
              "    </tr>\n",
              "    <tr>\n",
              "      <th>3</th>\n",
              "      <td>Actes SOS Médecins</td>\n",
              "      <td>0.231752</td>\n",
              "    </tr>\n",
              "    <tr>\n",
              "      <th>0</th>\n",
              "      <td>Décès hospitaliers</td>\n",
              "      <td>0.304702</td>\n",
              "    </tr>\n",
              "    <tr>\n",
              "      <th>5</th>\n",
              "      <td>Tests positifs</td>\n",
              "      <td>0.776719</td>\n",
              "    </tr>\n",
              "  </tbody>\n",
              "</table>\n",
              "</div>"
            ],
            "text/plain": [
              "                          Métrique      RMSE\n",
              "8    Nombre théorique d'infections  0.092766\n",
              "7  Infections respiratoires aigues  0.143229\n",
              "2       Taux Passages aux urgences  0.152195\n",
              "1            Passages aux urgences  0.155777\n",
              "6              Taux Tests positifs  0.167478\n",
              "4          Taux Actes SOS Médecins  0.186467\n",
              "3               Actes SOS Médecins  0.231752\n",
              "0               Décès hospitaliers  0.304702\n",
              "5                   Tests positifs  0.776719"
            ]
          },
          "metadata": {
            "tags": []
          },
          "execution_count": 102
        }
      ]
    },
    {
      "cell_type": "code",
      "metadata": {
        "id": "ECHOyB6Fy_Pl"
      },
      "source": [
        "fig = go.Figure()\n",
        "for col in evolution.columns:\n",
        "    fig.add_trace(go.Scatter(x=evolution[col].index, y=evolution[col], name=col, line=dict(width=4)))"
      ],
      "execution_count": 89,
      "outputs": []
    },
    {
      "cell_type": "code",
      "metadata": {
        "colab": {
          "base_uri": "https://localhost:8080/",
          "height": 542
        },
        "id": "_DlfLENNzF9H",
        "outputId": "09c352be-12ef-4846-9ed9-709ffe220c04"
      },
      "source": [
        "# Affichage de toutes les courbes d'indicateurs bruts + taux\n",
        "base = pd.Series({infections_idf[pas].min(): 0, deces_idf[pas].max(): 0})\n",
        "\n",
        "fig = go.Figure()\n",
        "fig = make_subplots(specs=[[{\"secondary_y\": True}]])\n",
        "\n",
        "for name, (df, col, col_ref) in sources.items():\n",
        "    if pas in df.columns:\n",
        "        _filtre = df[pas] < semaine_en_cours\n",
        "        _serie = df[_filtre].groupby(pas)[col].sum()\n",
        "        fig.add_trace(go.Scatter(x=_serie.index, y=_serie, name=name, line=dict(width=4)))\n",
        "        if col_ref:\n",
        "            _taux = _serie / df[_filtre].groupby(pas)[col_ref].sum()\n",
        "            fig.add_trace(go.Scatter(x=_taux.index,\n",
        "                                     y=_taux,\n",
        "                                     name='Taux ' + name + ' (échelle de droite)',\n",
        "                                     line=dict(width=4)),\n",
        "                          secondary_y=True)\n",
        "fig.add_trace(go.Scatter(x=base.index, y=base, name='', line_color='white'))\n",
        "show(fig, 'Indicateur par semaine')"
      ],
      "execution_count": 103,
      "outputs": [
        {
          "output_type": "display_data",
          "data": {
            "text/html": [
              "<html>\n",
              "<head><meta charset=\"utf-8\" /></head>\n",
              "<body>\n",
              "    <div>\n",
              "            <script src=\"https://cdnjs.cloudflare.com/ajax/libs/mathjax/2.7.5/MathJax.js?config=TeX-AMS-MML_SVG\"></script><script type=\"text/javascript\">if (window.MathJax) {MathJax.Hub.Config({SVG: {font: \"STIX-Web\"}});}</script>\n",
              "                <script type=\"text/javascript\">window.PlotlyConfig = {MathJaxConfig: 'local'};</script>\n",
              "        <script src=\"https://cdn.plot.ly/plotly-latest.min.js\"></script>    \n",
              "            <div id=\"2b54e92f-9d9c-4a10-a445-9481e4bd7b54\" class=\"plotly-graph-div\" style=\"height:525px; width:100%;\"></div>\n",
              "            <script type=\"text/javascript\">\n",
              "                \n",
              "                    window.PLOTLYENV=window.PLOTLYENV || {};\n",
              "                    \n",
              "                if (document.getElementById(\"2b54e92f-9d9c-4a10-a445-9481e4bd7b54\")) {\n",
              "                    Plotly.newPlot(\n",
              "                        '2b54e92f-9d9c-4a10-a445-9481e4bd7b54',\n",
              "                        [{\"line\": {\"width\": 4}, \"name\": \"D\\u00e9c\\u00e8s hospitaliers\", \"type\": \"scatter\", \"x\": [\"2020-03-16T00:00:00\", \"2020-03-23T00:00:00\", \"2020-03-30T00:00:00\", \"2020-04-06T00:00:00\", \"2020-04-13T00:00:00\", \"2020-04-20T00:00:00\", \"2020-04-27T00:00:00\", \"2020-05-04T00:00:00\", \"2020-05-11T00:00:00\", \"2020-05-18T00:00:00\", \"2020-05-25T00:00:00\", \"2020-06-01T00:00:00\", \"2020-06-08T00:00:00\", \"2020-06-15T00:00:00\", \"2020-06-22T00:00:00\", \"2020-06-29T00:00:00\", \"2020-07-06T00:00:00\", \"2020-07-13T00:00:00\", \"2020-07-20T00:00:00\", \"2020-07-27T00:00:00\", \"2020-08-03T00:00:00\", \"2020-08-10T00:00:00\", \"2020-08-17T00:00:00\", \"2020-08-24T00:00:00\", \"2020-08-31T00:00:00\", \"2020-09-07T00:00:00\", \"2020-09-14T00:00:00\", \"2020-09-21T00:00:00\", \"2020-09-28T00:00:00\", \"2020-10-05T00:00:00\", \"2020-10-12T00:00:00\", \"2020-10-19T00:00:00\", \"2020-10-26T00:00:00\", \"2020-11-02T00:00:00\", \"2020-11-09T00:00:00\", \"2020-11-16T00:00:00\", \"2020-11-23T00:00:00\", \"2020-11-30T00:00:00\", \"2020-12-07T00:00:00\", \"2020-12-14T00:00:00\", \"2020-12-21T00:00:00\", \"2020-12-28T00:00:00\", \"2021-01-04T00:00:00\", \"2021-01-11T00:00:00\", \"2021-01-18T00:00:00\", \"2021-01-25T00:00:00\"], \"y\": [222.0, 1312.0, 2582.0, 2877.0, 2409.0, 1636.0, 1071.0, 717.0, 505.0, 380.0, 373.0, 248.0, 197.0, 114.0, 84.0, 66.0, 75.0, 50.0, 44.0, 53.0, 66.0, 48.0, 97.0, 61.0, 90.0, 77.0, 318.0, 168.0, 206.0, 251.0, 353.0, 534.0, 671.0, 894.0, 1076.0, 854.0, 733.0, 607.0, 643.0, 531.0, 473.0, 488.0, 575.0, 528.0, 585.0, 622.0]}, {\"line\": {\"width\": 4}, \"name\": \"Passages aux urgences\", \"type\": \"scatter\", \"x\": [\"2020-02-24T00:00:00\", \"2020-03-02T00:00:00\", \"2020-03-09T00:00:00\", \"2020-03-16T00:00:00\", \"2020-03-23T00:00:00\", \"2020-03-30T00:00:00\", \"2020-04-06T00:00:00\", \"2020-04-13T00:00:00\", \"2020-04-20T00:00:00\", \"2020-04-27T00:00:00\", \"2020-05-04T00:00:00\", \"2020-05-11T00:00:00\", \"2020-05-18T00:00:00\", \"2020-05-25T00:00:00\", \"2020-06-01T00:00:00\", \"2020-06-08T00:00:00\", \"2020-06-15T00:00:00\", \"2020-06-22T00:00:00\", \"2020-06-29T00:00:00\", \"2020-07-06T00:00:00\", \"2020-07-13T00:00:00\", \"2020-07-20T00:00:00\", \"2020-07-27T00:00:00\", \"2020-08-03T00:00:00\", \"2020-08-10T00:00:00\", \"2020-08-17T00:00:00\", \"2020-08-24T00:00:00\", \"2020-08-31T00:00:00\", \"2020-09-07T00:00:00\", \"2020-09-14T00:00:00\", \"2020-09-21T00:00:00\", \"2020-09-28T00:00:00\", \"2020-10-05T00:00:00\", \"2020-10-12T00:00:00\", \"2020-10-19T00:00:00\", \"2020-10-26T00:00:00\", \"2020-11-02T00:00:00\", \"2020-11-09T00:00:00\", \"2020-11-16T00:00:00\", \"2020-11-23T00:00:00\", \"2020-11-30T00:00:00\", \"2020-12-07T00:00:00\", \"2020-12-14T00:00:00\", \"2020-12-21T00:00:00\", \"2020-12-28T00:00:00\", \"2021-01-04T00:00:00\", \"2021-01-11T00:00:00\", \"2021-01-18T00:00:00\", \"2021-01-25T00:00:00\"], \"y\": [10.0, 529.0, 4224.0, 11750.0, 23394.0, 19092.0, 12770.0, 8175.0, 6378.0, 5306.0, 4768.0, 2911.0, 2280.0, 1782.0, 926.0, 808.0, 450.0, 468.0, 562.0, 674.0, 950.0, 1106.0, 1150.0, 1414.0, 1464.0, 1534.0, 1752.0, 2086.0, 3190.0, 4610.0, 3452.0, 3290.0, 4028.0, 4908.0, 6392.0, 6916.0, 5673.0, 4310.0, 2748.0, 2086.0, 1782.0, 1646.0, 1770.0, 1916.0, 1792.0, 1828.0, 1932.0, 2538.0, 2596.0]}, {\"line\": {\"width\": 4}, \"name\": \"Taux Passages aux urgences (\\u00e9chelle de droite)\", \"type\": \"scatter\", \"x\": [\"2020-02-24T00:00:00\", \"2020-03-02T00:00:00\", \"2020-03-09T00:00:00\", \"2020-03-16T00:00:00\", \"2020-03-23T00:00:00\", \"2020-03-30T00:00:00\", \"2020-04-06T00:00:00\", \"2020-04-13T00:00:00\", \"2020-04-20T00:00:00\", \"2020-04-27T00:00:00\", \"2020-05-04T00:00:00\", \"2020-05-11T00:00:00\", \"2020-05-18T00:00:00\", \"2020-05-25T00:00:00\", \"2020-06-01T00:00:00\", \"2020-06-08T00:00:00\", \"2020-06-15T00:00:00\", \"2020-06-22T00:00:00\", \"2020-06-29T00:00:00\", \"2020-07-06T00:00:00\", \"2020-07-13T00:00:00\", \"2020-07-20T00:00:00\", \"2020-07-27T00:00:00\", \"2020-08-03T00:00:00\", \"2020-08-10T00:00:00\", \"2020-08-17T00:00:00\", \"2020-08-24T00:00:00\", \"2020-08-31T00:00:00\", \"2020-09-07T00:00:00\", \"2020-09-14T00:00:00\", \"2020-09-21T00:00:00\", \"2020-09-28T00:00:00\", \"2020-10-05T00:00:00\", \"2020-10-12T00:00:00\", \"2020-10-19T00:00:00\", \"2020-10-26T00:00:00\", \"2020-11-02T00:00:00\", \"2020-11-09T00:00:00\", \"2020-11-16T00:00:00\", \"2020-11-23T00:00:00\", \"2020-11-30T00:00:00\", \"2020-12-07T00:00:00\", \"2020-12-14T00:00:00\", \"2020-12-21T00:00:00\", \"2020-12-28T00:00:00\", \"2021-01-04T00:00:00\", \"2021-01-11T00:00:00\", \"2021-01-18T00:00:00\", \"2021-01-25T00:00:00\"], \"xaxis\": \"x\", \"y\": [9.395317373820888e-05, 0.00520285222522744, 0.04138255349165295, 0.1677229644855544, 0.33049374867556686, 0.31190981865708217, 0.2237406920718353, 0.14621451950421205, 0.10942968910850319, 0.08947421672118984, 0.07539531941808982, 0.043570017362150514, 0.031140734265734264, 0.021779516010755316, 0.011089953173091893, 0.009738577058901517, 0.005169561621174525, 0.00514313973295236, 0.0059908963958682, 0.007349092812281926, 0.010363146469439626, 0.012198484564394985, 0.012799394532989047, 0.01626670961507489, 0.01580396178550224, 0.01688274526204574, 0.019192428192713013, 0.02187912986931258, 0.029157983254725604, 0.0409464764713197, 0.0342178563286183, 0.03495574751112953, 0.04187240766344065, 0.053507767784137364, 0.07202010072898944, 0.08620109434009299, 0.07251137583721048, 0.053858842347295814, 0.035026001835423676, 0.02583921714356497, 0.021724024430384375, 0.019460405287176942, 0.020505097312326227, 0.024154711177227, 0.021953789233822556, 0.02174171602559528, 0.02290592210563756, 0.028396567349541827, 0.02892575796405451], \"yaxis\": \"y2\"}, {\"line\": {\"width\": 4}, \"name\": \"Actes SOS M\\u00e9decins\", \"type\": \"scatter\", \"x\": [\"2020-02-24T00:00:00\", \"2020-03-02T00:00:00\", \"2020-03-09T00:00:00\", \"2020-03-16T00:00:00\", \"2020-03-23T00:00:00\", \"2020-03-30T00:00:00\", \"2020-04-06T00:00:00\", \"2020-04-13T00:00:00\", \"2020-04-20T00:00:00\", \"2020-04-27T00:00:00\", \"2020-05-04T00:00:00\", \"2020-05-11T00:00:00\", \"2020-05-18T00:00:00\", \"2020-05-25T00:00:00\", \"2020-06-01T00:00:00\", \"2020-06-08T00:00:00\", \"2020-06-15T00:00:00\", \"2020-06-22T00:00:00\", \"2020-06-29T00:00:00\", \"2020-07-06T00:00:00\", \"2020-07-13T00:00:00\", \"2020-07-20T00:00:00\", \"2020-07-27T00:00:00\", \"2020-08-03T00:00:00\", \"2020-08-10T00:00:00\", \"2020-08-17T00:00:00\", \"2020-08-24T00:00:00\", \"2020-08-31T00:00:00\", \"2020-09-07T00:00:00\", \"2020-09-14T00:00:00\", \"2020-09-21T00:00:00\", \"2020-09-28T00:00:00\", \"2020-10-05T00:00:00\", \"2020-10-12T00:00:00\", \"2020-10-19T00:00:00\", \"2020-10-26T00:00:00\", \"2020-11-02T00:00:00\", \"2020-11-09T00:00:00\", \"2020-11-16T00:00:00\", \"2020-11-23T00:00:00\", \"2020-11-30T00:00:00\", \"2020-12-07T00:00:00\", \"2020-12-14T00:00:00\", \"2020-12-21T00:00:00\", \"2020-12-28T00:00:00\", \"2021-01-04T00:00:00\", \"2021-01-11T00:00:00\", \"2021-01-18T00:00:00\", \"2021-01-25T00:00:00\"], \"y\": [0.0, 130.0, 1147.0, 4172.0, 5800.0, 4400.0, 2310.0, 1588.0, 1022.0, 895.0, 732.0, 732.0, 733.0, 603.0, 484.0, 348.0, 337.0, 469.0, 657.0, 737.0, 1002.0, 794.0, 718.0, 660.0, 657.0, 837.0, 1275.0, 1487.0, 2903.0, 2965.0, 2235.0, 2233.0, 2720.0, 3047.0, 3115.0, 2968.0, 2253.0, 1448.0, 887.0, 761.0, 635.0, 783.0, 697.0, 682.0, 685.0, 870.0, 857.0, 904.0, 927.0]}, {\"line\": {\"width\": 4}, \"name\": \"Taux Actes SOS M\\u00e9decins (\\u00e9chelle de droite)\", \"type\": \"scatter\", \"x\": [\"2020-02-24T00:00:00\", \"2020-03-02T00:00:00\", \"2020-03-09T00:00:00\", \"2020-03-16T00:00:00\", \"2020-03-23T00:00:00\", \"2020-03-30T00:00:00\", \"2020-04-06T00:00:00\", \"2020-04-13T00:00:00\", \"2020-04-20T00:00:00\", \"2020-04-27T00:00:00\", \"2020-05-04T00:00:00\", \"2020-05-11T00:00:00\", \"2020-05-18T00:00:00\", \"2020-05-25T00:00:00\", \"2020-06-01T00:00:00\", \"2020-06-08T00:00:00\", \"2020-06-15T00:00:00\", \"2020-06-22T00:00:00\", \"2020-06-29T00:00:00\", \"2020-07-06T00:00:00\", \"2020-07-13T00:00:00\", \"2020-07-20T00:00:00\", \"2020-07-27T00:00:00\", \"2020-08-03T00:00:00\", \"2020-08-10T00:00:00\", \"2020-08-17T00:00:00\", \"2020-08-24T00:00:00\", \"2020-08-31T00:00:00\", \"2020-09-07T00:00:00\", \"2020-09-14T00:00:00\", \"2020-09-21T00:00:00\", \"2020-09-28T00:00:00\", \"2020-10-05T00:00:00\", \"2020-10-12T00:00:00\", \"2020-10-19T00:00:00\", \"2020-10-26T00:00:00\", \"2020-11-02T00:00:00\", \"2020-11-09T00:00:00\", \"2020-11-16T00:00:00\", \"2020-11-23T00:00:00\", \"2020-11-30T00:00:00\", \"2020-12-07T00:00:00\", \"2020-12-14T00:00:00\", \"2020-12-21T00:00:00\", \"2020-12-28T00:00:00\", \"2021-01-04T00:00:00\", \"2021-01-11T00:00:00\", \"2021-01-18T00:00:00\", \"2021-01-25T00:00:00\"], \"xaxis\": \"x\", \"y\": [0.0, 0.0042437893774687424, 0.03814940464311847, 0.17873361322937195, 0.298399958841385, 0.25194686211635364, 0.15887207702888584, 0.11102565895266728, 0.07768909160015203, 0.06467697644168233, 0.05223720830657247, 0.05622551655273062, 0.049516989799364995, 0.0389208029432647, 0.02912329261688429, 0.02385685884691849, 0.02253276277079433, 0.028709598432908913, 0.03458804948670703, 0.04104934833463295, 0.05525836872001324, 0.047141245621326364, 0.044438942873058114, 0.042258932001536686, 0.04255181347150259, 0.05167623634006297, 0.07222977566281441, 0.07021105812361302, 0.1112303153377524, 0.11965777472860083, 0.09940402063689735, 0.10027842644153044, 0.12079225508482103, 0.13389286812848794, 0.14686468646864687, 0.14801516058248554, 0.11332997987927565, 0.07180402657939106, 0.04683210137275607, 0.039438225538971805, 0.03136731871171705, 0.03611123921966518, 0.03160281115393335, 0.03209411764705882, 0.033455433455433455, 0.04084507042253521, 0.03762732701088865, 0.03711001642036125, 0.037669145434597096], \"yaxis\": \"y2\"}, {\"line\": {\"width\": 4}, \"name\": \"Tests positifs\", \"type\": \"scatter\", \"x\": [\"2020-03-09T00:00:00\", \"2020-03-16T00:00:00\", \"2020-03-23T00:00:00\", \"2020-03-30T00:00:00\", \"2020-04-06T00:00:00\", \"2020-04-13T00:00:00\", \"2020-04-20T00:00:00\", \"2020-04-27T00:00:00\", \"2020-05-04T00:00:00\", \"2020-05-11T00:00:00\", \"2020-05-18T00:00:00\", \"2020-05-25T00:00:00\", \"2020-06-01T00:00:00\", \"2020-06-08T00:00:00\", \"2020-06-15T00:00:00\", \"2020-06-22T00:00:00\", \"2020-06-29T00:00:00\", \"2020-07-06T00:00:00\", \"2020-07-13T00:00:00\", \"2020-07-20T00:00:00\", \"2020-07-27T00:00:00\", \"2020-08-03T00:00:00\", \"2020-08-10T00:00:00\", \"2020-08-17T00:00:00\", \"2020-08-24T00:00:00\", \"2020-08-31T00:00:00\", \"2020-09-07T00:00:00\", \"2020-09-14T00:00:00\", \"2020-09-21T00:00:00\", \"2020-09-28T00:00:00\", \"2020-10-05T00:00:00\", \"2020-10-12T00:00:00\", \"2020-10-19T00:00:00\", \"2020-10-26T00:00:00\", \"2020-11-02T00:00:00\", \"2020-11-09T00:00:00\", \"2020-11-16T00:00:00\", \"2020-11-23T00:00:00\", \"2020-11-30T00:00:00\", \"2020-12-07T00:00:00\", \"2020-12-14T00:00:00\", \"2020-12-21T00:00:00\", \"2020-12-28T00:00:00\", \"2021-01-04T00:00:00\", \"2021-01-11T00:00:00\", \"2021-01-18T00:00:00\", \"2021-01-25T00:00:00\"], \"y\": [356, 3102, 7683, 8012, 7431, 4571, 2823, 945, 576, 2258, 2478, 2342, 1688, 1477, 1520, 1533, 1675, 1948, 2474, 3835, 6084, 8758, 11163, 16309, 24913, 29330, 34761, 41394, 43985, 50495, 75938, 92846, 121358, 128776, 93059, 51326, 38136, 28817, 25656, 29044, 34182, 30117, 33536, 45784, 48035, 52451, 55938]}, {\"line\": {\"width\": 4}, \"name\": \"Taux Tests positifs (\\u00e9chelle de droite)\", \"type\": \"scatter\", \"x\": [\"2020-03-09T00:00:00\", \"2020-03-16T00:00:00\", \"2020-03-23T00:00:00\", \"2020-03-30T00:00:00\", \"2020-04-06T00:00:00\", \"2020-04-13T00:00:00\", \"2020-04-20T00:00:00\", \"2020-04-27T00:00:00\", \"2020-05-04T00:00:00\", \"2020-05-11T00:00:00\", \"2020-05-18T00:00:00\", \"2020-05-25T00:00:00\", \"2020-06-01T00:00:00\", \"2020-06-08T00:00:00\", \"2020-06-15T00:00:00\", \"2020-06-22T00:00:00\", \"2020-06-29T00:00:00\", \"2020-07-06T00:00:00\", \"2020-07-13T00:00:00\", \"2020-07-20T00:00:00\", \"2020-07-27T00:00:00\", \"2020-08-03T00:00:00\", \"2020-08-10T00:00:00\", \"2020-08-17T00:00:00\", \"2020-08-24T00:00:00\", \"2020-08-31T00:00:00\", \"2020-09-07T00:00:00\", \"2020-09-14T00:00:00\", \"2020-09-21T00:00:00\", \"2020-09-28T00:00:00\", \"2020-10-05T00:00:00\", \"2020-10-12T00:00:00\", \"2020-10-19T00:00:00\", \"2020-10-26T00:00:00\", \"2020-11-02T00:00:00\", \"2020-11-09T00:00:00\", \"2020-11-16T00:00:00\", \"2020-11-23T00:00:00\", \"2020-11-30T00:00:00\", \"2020-12-07T00:00:00\", \"2020-12-14T00:00:00\", \"2020-12-21T00:00:00\", \"2020-12-28T00:00:00\", \"2021-01-04T00:00:00\", \"2021-01-11T00:00:00\", \"2021-01-18T00:00:00\", \"2021-01-25T00:00:00\"], \"xaxis\": \"x\", \"y\": [0.2701062215477997, 0.43414975507347797, 0.45202094487262456, 0.3735894805558146, 0.3294467104096471, 0.21479253794464545, 0.121843843066166, 0.0673700720039923, 0.05082053996823716, 0.03488228387814373, 0.02587665253440822, 0.021700656949862403, 0.019068921498853378, 0.015112911972659647, 0.015589903486189601, 0.014287445128941163, 0.011211737852835064, 0.010935096720593684, 0.013903641135445293, 0.01630055936208919, 0.02117890325028632, 0.029473131595950892, 0.039401929328547074, 0.04722482828914602, 0.05753513238877149, 0.06071470711829742, 0.06696694324734095, 0.07812488204075162, 0.0923457090789993, 0.10764298215507667, 0.13537778063016326, 0.13681306860546333, 0.16668154592264892, 0.17545442035432593, 0.1547787152862672, 0.11673861522155454, 0.08600850702980167, 0.0656917500626895, 0.05867111837817442, 0.0549547026724288, 0.03511302177229233, 0.023571685175517755, 0.04529278375856094, 0.05990976373171983, 0.061380384600148996, 0.06599668827508455, 0.06439825655690712], \"yaxis\": \"y2\"}, {\"line\": {\"width\": 4}, \"name\": \"Infections respiratoires aigues\", \"type\": \"scatter\", \"x\": [\"2020-03-16T00:00:00\", \"2020-03-23T00:00:00\", \"2020-03-30T00:00:00\", \"2020-04-06T00:00:00\", \"2020-04-13T00:00:00\", \"2020-04-20T00:00:00\", \"2020-04-27T00:00:00\", \"2020-05-04T00:00:00\", \"2020-05-11T00:00:00\", \"2020-05-18T00:00:00\", \"2020-05-25T00:00:00\", \"2020-06-01T00:00:00\", \"2020-06-08T00:00:00\", \"2020-06-15T00:00:00\", \"2020-06-22T00:00:00\", \"2020-06-29T00:00:00\", \"2020-07-06T00:00:00\", \"2020-07-13T00:00:00\", \"2020-07-20T00:00:00\", \"2020-07-27T00:00:00\", \"2020-08-03T00:00:00\", \"2020-08-10T00:00:00\", \"2020-08-17T00:00:00\", \"2020-08-24T00:00:00\", \"2020-08-31T00:00:00\", \"2020-09-07T00:00:00\", \"2020-09-14T00:00:00\", \"2020-09-21T00:00:00\", \"2020-09-28T00:00:00\", \"2020-10-05T00:00:00\", \"2020-10-12T00:00:00\", \"2020-10-19T00:00:00\", \"2020-10-26T00:00:00\", \"2020-11-02T00:00:00\", \"2020-11-09T00:00:00\", \"2020-11-16T00:00:00\", \"2020-11-23T00:00:00\", \"2020-11-30T00:00:00\", \"2020-12-07T00:00:00\", \"2020-12-14T00:00:00\", \"2020-12-21T00:00:00\", \"2020-12-28T00:00:00\", \"2021-01-04T00:00:00\", \"2021-01-11T00:00:00\", \"2021-01-18T00:00:00\", \"2021-01-25T00:00:00\"], \"y\": [85199.0, 91471.5, 81622.33333333333, 60603.0, 34541.666666666664, 17369.0, 13585.333333333334, 9217.333333333334, 8286.0, 5836.666666666667, 3971.3333333333335, 1783.0, 985.0, 938.3333333333334, 865.6666666666666, 961.3333333333334, 1159.6666666666667, 1079.0, 1032.0, 964.6666666666666, 858.3333333333334, 691.0, 848.0, 1981.3333333333333, 2229.6666666666665, 4622.666666666667, 10891.666666666666, 16021.0, 17964.666666666668, 16799.0, 16813.666666666668, 17966.0, 18516.666666666668, 17316.666666666668, 16651.333333333332, 12375.666666666666, 10282.333333333334, 6137.666666666667, 5264.0, 4779.0, 4857.0, 5035.333333333333, 7229.666666666667, 9576.333333333334, 11058.666666666666, 11815.666666666666]}, {\"line\": {\"width\": 4}, \"name\": \"Nombre th\\u00e9orique d'infections\", \"type\": \"scatter\", \"x\": [\"2019-12-30T00:00:00\", \"2020-01-06T00:00:00\", \"2020-01-13T00:00:00\", \"2020-01-20T00:00:00\", \"2020-01-27T00:00:00\", \"2020-02-03T00:00:00\", \"2020-02-10T00:00:00\", \"2020-02-17T00:00:00\", \"2020-02-24T00:00:00\", \"2020-03-02T00:00:00\", \"2020-03-09T00:00:00\", \"2020-03-16T00:00:00\", \"2020-03-23T00:00:00\", \"2020-03-30T00:00:00\", \"2020-04-06T00:00:00\", \"2020-04-13T00:00:00\", \"2020-04-20T00:00:00\", \"2020-04-27T00:00:00\", \"2020-05-04T00:00:00\", \"2020-05-11T00:00:00\", \"2020-05-18T00:00:00\", \"2020-05-25T00:00:00\", \"2020-06-01T00:00:00\", \"2020-06-08T00:00:00\", \"2020-06-15T00:00:00\", \"2020-06-22T00:00:00\", \"2020-06-29T00:00:00\", \"2020-07-06T00:00:00\", \"2020-07-13T00:00:00\", \"2020-07-20T00:00:00\", \"2020-07-27T00:00:00\", \"2020-08-03T00:00:00\", \"2020-08-10T00:00:00\", \"2020-08-17T00:00:00\", \"2020-08-24T00:00:00\", \"2020-08-31T00:00:00\", \"2020-09-07T00:00:00\", \"2020-09-14T00:00:00\", \"2020-09-21T00:00:00\", \"2020-09-28T00:00:00\", \"2020-10-05T00:00:00\", \"2020-10-12T00:00:00\", \"2020-10-19T00:00:00\", \"2020-10-26T00:00:00\", \"2020-11-02T00:00:00\", \"2020-11-09T00:00:00\", \"2020-11-16T00:00:00\", \"2020-11-23T00:00:00\", \"2020-11-30T00:00:00\"], \"y\": [2.383099814616333, 43.293362640437806, 270.65655981957065, 815.0955409331661, 1950.8210385648886, 4072.729096276325, 7985.661174573271, 15252.937910038101, 27796.631451364796, 46066.233904146124, 64935.21187685147, 73856.74227767784, 68121.19780093154, 50272.67144192983, 32480.62584837437, 23581.641344885065, 18648.83515326755, 14133.5358424969, 11452.849239000243, 9017.546292068826, 6425.0133561611565, 4932.975065866673, 3564.171704967835, 2383.686938781336, 1953.351221867451, 2051.075026347735, 2173.801696029693, 2202.7943531837773, 2394.929338185396, 2575.217916616478, 2732.8028558489254, 2881.261045572748, 3099.522182434927, 3178.9908589533384, 3784.8553564860936, 4875.56992552792, 6040.233360199149, 7813.218826550801, 10303.486850837666, 13314.244348105347, 17346.487766479557, 21276.823761758158, 24445.66372417171, 24156.575318552375, 19670.077002868446, 16195.83614231446, 14833.381854613053, 14037.518145612303, 12525.36859803541]}, {\"line\": {\"color\": \"white\"}, \"name\": \"\", \"type\": \"scatter\", \"x\": [\"2019-12-30T00:00:00\", \"2021-02-01T00:00:00\"], \"y\": [0, 0]}],\n",
              "                        {\"font\": {\"family\": \"Courier New Bold\", \"size\": 30}, \"legend\": {\"bgcolor\": \"rgba(0,0,0,0)\", \"orientation\": \"h\", \"x\": 0.9, \"xanchor\": \"right\", \"y\": 1.02, \"yanchor\": \"top\"}, \"template\": {\"data\": {\"bar\": [{\"error_x\": {\"color\": \"#2a3f5f\"}, \"error_y\": {\"color\": \"#2a3f5f\"}, \"marker\": {\"line\": {\"color\": \"#E5ECF6\", \"width\": 0.5}}, \"type\": \"bar\"}], \"barpolar\": [{\"marker\": {\"line\": {\"color\": \"#E5ECF6\", \"width\": 0.5}}, \"type\": \"barpolar\"}], \"carpet\": [{\"aaxis\": {\"endlinecolor\": \"#2a3f5f\", \"gridcolor\": \"white\", \"linecolor\": \"white\", \"minorgridcolor\": \"white\", \"startlinecolor\": \"#2a3f5f\"}, \"baxis\": {\"endlinecolor\": \"#2a3f5f\", \"gridcolor\": \"white\", \"linecolor\": \"white\", \"minorgridcolor\": \"white\", \"startlinecolor\": \"#2a3f5f\"}, \"type\": \"carpet\"}], \"choropleth\": [{\"colorbar\": {\"outlinewidth\": 0, \"ticks\": \"\"}, \"type\": \"choropleth\"}], \"contour\": [{\"colorbar\": {\"outlinewidth\": 0, \"ticks\": \"\"}, \"colorscale\": [[0.0, \"#0d0887\"], [0.1111111111111111, \"#46039f\"], [0.2222222222222222, \"#7201a8\"], [0.3333333333333333, \"#9c179e\"], [0.4444444444444444, \"#bd3786\"], [0.5555555555555556, \"#d8576b\"], [0.6666666666666666, \"#ed7953\"], [0.7777777777777778, \"#fb9f3a\"], [0.8888888888888888, \"#fdca26\"], [1.0, \"#f0f921\"]], \"type\": \"contour\"}], \"contourcarpet\": [{\"colorbar\": {\"outlinewidth\": 0, \"ticks\": \"\"}, \"type\": \"contourcarpet\"}], \"heatmap\": [{\"colorbar\": {\"outlinewidth\": 0, \"ticks\": \"\"}, \"colorscale\": [[0.0, \"#0d0887\"], [0.1111111111111111, \"#46039f\"], [0.2222222222222222, \"#7201a8\"], [0.3333333333333333, \"#9c179e\"], [0.4444444444444444, \"#bd3786\"], [0.5555555555555556, \"#d8576b\"], [0.6666666666666666, \"#ed7953\"], [0.7777777777777778, \"#fb9f3a\"], [0.8888888888888888, \"#fdca26\"], [1.0, \"#f0f921\"]], \"type\": \"heatmap\"}], \"heatmapgl\": [{\"colorbar\": {\"outlinewidth\": 0, \"ticks\": \"\"}, \"colorscale\": [[0.0, \"#0d0887\"], [0.1111111111111111, \"#46039f\"], [0.2222222222222222, \"#7201a8\"], [0.3333333333333333, \"#9c179e\"], [0.4444444444444444, \"#bd3786\"], [0.5555555555555556, \"#d8576b\"], [0.6666666666666666, \"#ed7953\"], [0.7777777777777778, \"#fb9f3a\"], [0.8888888888888888, \"#fdca26\"], [1.0, \"#f0f921\"]], \"type\": \"heatmapgl\"}], \"histogram\": [{\"marker\": {\"colorbar\": {\"outlinewidth\": 0, \"ticks\": \"\"}}, \"type\": \"histogram\"}], \"histogram2d\": [{\"colorbar\": {\"outlinewidth\": 0, \"ticks\": \"\"}, \"colorscale\": [[0.0, \"#0d0887\"], [0.1111111111111111, \"#46039f\"], [0.2222222222222222, \"#7201a8\"], [0.3333333333333333, \"#9c179e\"], [0.4444444444444444, \"#bd3786\"], [0.5555555555555556, \"#d8576b\"], [0.6666666666666666, \"#ed7953\"], [0.7777777777777778, \"#fb9f3a\"], [0.8888888888888888, \"#fdca26\"], [1.0, \"#f0f921\"]], \"type\": \"histogram2d\"}], \"histogram2dcontour\": [{\"colorbar\": {\"outlinewidth\": 0, \"ticks\": \"\"}, \"colorscale\": [[0.0, \"#0d0887\"], [0.1111111111111111, \"#46039f\"], [0.2222222222222222, \"#7201a8\"], [0.3333333333333333, \"#9c179e\"], [0.4444444444444444, \"#bd3786\"], [0.5555555555555556, \"#d8576b\"], [0.6666666666666666, \"#ed7953\"], [0.7777777777777778, \"#fb9f3a\"], [0.8888888888888888, \"#fdca26\"], [1.0, \"#f0f921\"]], \"type\": \"histogram2dcontour\"}], \"mesh3d\": [{\"colorbar\": {\"outlinewidth\": 0, \"ticks\": \"\"}, \"type\": \"mesh3d\"}], \"parcoords\": [{\"line\": {\"colorbar\": {\"outlinewidth\": 0, \"ticks\": \"\"}}, \"type\": \"parcoords\"}], \"pie\": [{\"automargin\": true, \"type\": \"pie\"}], \"scatter\": [{\"marker\": {\"colorbar\": {\"outlinewidth\": 0, \"ticks\": \"\"}}, \"type\": \"scatter\"}], \"scatter3d\": [{\"line\": {\"colorbar\": {\"outlinewidth\": 0, \"ticks\": \"\"}}, \"marker\": {\"colorbar\": {\"outlinewidth\": 0, \"ticks\": \"\"}}, \"type\": \"scatter3d\"}], \"scattercarpet\": [{\"marker\": {\"colorbar\": {\"outlinewidth\": 0, \"ticks\": \"\"}}, \"type\": \"scattercarpet\"}], \"scattergeo\": [{\"marker\": {\"colorbar\": {\"outlinewidth\": 0, \"ticks\": \"\"}}, \"type\": \"scattergeo\"}], \"scattergl\": [{\"marker\": {\"colorbar\": {\"outlinewidth\": 0, \"ticks\": \"\"}}, \"type\": \"scattergl\"}], \"scattermapbox\": [{\"marker\": {\"colorbar\": {\"outlinewidth\": 0, \"ticks\": \"\"}}, \"type\": \"scattermapbox\"}], \"scatterpolar\": [{\"marker\": {\"colorbar\": {\"outlinewidth\": 0, \"ticks\": \"\"}}, \"type\": \"scatterpolar\"}], \"scatterpolargl\": [{\"marker\": {\"colorbar\": {\"outlinewidth\": 0, \"ticks\": \"\"}}, \"type\": \"scatterpolargl\"}], \"scatterternary\": [{\"marker\": {\"colorbar\": {\"outlinewidth\": 0, \"ticks\": \"\"}}, \"type\": \"scatterternary\"}], \"surface\": [{\"colorbar\": {\"outlinewidth\": 0, \"ticks\": \"\"}, \"colorscale\": [[0.0, \"#0d0887\"], [0.1111111111111111, \"#46039f\"], [0.2222222222222222, \"#7201a8\"], [0.3333333333333333, \"#9c179e\"], [0.4444444444444444, \"#bd3786\"], [0.5555555555555556, \"#d8576b\"], [0.6666666666666666, \"#ed7953\"], [0.7777777777777778, \"#fb9f3a\"], [0.8888888888888888, \"#fdca26\"], [1.0, \"#f0f921\"]], \"type\": \"surface\"}], \"table\": [{\"cells\": {\"fill\": {\"color\": \"#EBF0F8\"}, \"line\": {\"color\": \"white\"}}, \"header\": {\"fill\": {\"color\": \"#C8D4E3\"}, \"line\": {\"color\": \"white\"}}, \"type\": \"table\"}]}, \"layout\": {\"annotationdefaults\": {\"arrowcolor\": \"#2a3f5f\", \"arrowhead\": 0, \"arrowwidth\": 1}, \"coloraxis\": {\"colorbar\": {\"outlinewidth\": 0, \"ticks\": \"\"}}, \"colorscale\": {\"diverging\": [[0, \"#8e0152\"], [0.1, \"#c51b7d\"], [0.2, \"#de77ae\"], [0.3, \"#f1b6da\"], [0.4, \"#fde0ef\"], [0.5, \"#f7f7f7\"], [0.6, \"#e6f5d0\"], [0.7, \"#b8e186\"], [0.8, \"#7fbc41\"], [0.9, \"#4d9221\"], [1, \"#276419\"]], \"sequential\": [[0.0, \"#0d0887\"], [0.1111111111111111, \"#46039f\"], [0.2222222222222222, \"#7201a8\"], [0.3333333333333333, \"#9c179e\"], [0.4444444444444444, \"#bd3786\"], [0.5555555555555556, \"#d8576b\"], [0.6666666666666666, \"#ed7953\"], [0.7777777777777778, \"#fb9f3a\"], [0.8888888888888888, \"#fdca26\"], [1.0, \"#f0f921\"]], \"sequentialminus\": [[0.0, \"#0d0887\"], [0.1111111111111111, \"#46039f\"], [0.2222222222222222, \"#7201a8\"], [0.3333333333333333, \"#9c179e\"], [0.4444444444444444, \"#bd3786\"], [0.5555555555555556, \"#d8576b\"], [0.6666666666666666, \"#ed7953\"], [0.7777777777777778, \"#fb9f3a\"], [0.8888888888888888, \"#fdca26\"], [1.0, \"#f0f921\"]]}, \"colorway\": [\"#636efa\", \"#EF553B\", \"#00cc96\", \"#ab63fa\", \"#FFA15A\", \"#19d3f3\", \"#FF6692\", \"#B6E880\", \"#FF97FF\", \"#FECB52\"], \"font\": {\"color\": \"#2a3f5f\"}, \"geo\": {\"bgcolor\": \"white\", \"lakecolor\": \"white\", \"landcolor\": \"#E5ECF6\", \"showlakes\": true, \"showland\": true, \"subunitcolor\": \"white\"}, \"hoverlabel\": {\"align\": \"left\"}, \"hovermode\": \"closest\", \"mapbox\": {\"style\": \"light\"}, \"paper_bgcolor\": \"white\", \"plot_bgcolor\": \"#E5ECF6\", \"polar\": {\"angularaxis\": {\"gridcolor\": \"white\", \"linecolor\": \"white\", \"ticks\": \"\"}, \"bgcolor\": \"#E5ECF6\", \"radialaxis\": {\"gridcolor\": \"white\", \"linecolor\": \"white\", \"ticks\": \"\"}}, \"scene\": {\"xaxis\": {\"backgroundcolor\": \"#E5ECF6\", \"gridcolor\": \"white\", \"gridwidth\": 2, \"linecolor\": \"white\", \"showbackground\": true, \"ticks\": \"\", \"zerolinecolor\": \"white\"}, \"yaxis\": {\"backgroundcolor\": \"#E5ECF6\", \"gridcolor\": \"white\", \"gridwidth\": 2, \"linecolor\": \"white\", \"showbackground\": true, \"ticks\": \"\", \"zerolinecolor\": \"white\"}, \"zaxis\": {\"backgroundcolor\": \"#E5ECF6\", \"gridcolor\": \"white\", \"gridwidth\": 2, \"linecolor\": \"white\", \"showbackground\": true, \"ticks\": \"\", \"zerolinecolor\": \"white\"}}, \"shapedefaults\": {\"line\": {\"color\": \"#2a3f5f\"}}, \"ternary\": {\"aaxis\": {\"gridcolor\": \"white\", \"linecolor\": \"white\", \"ticks\": \"\"}, \"baxis\": {\"gridcolor\": \"white\", \"linecolor\": \"white\", \"ticks\": \"\"}, \"bgcolor\": \"#E5ECF6\", \"caxis\": {\"gridcolor\": \"white\", \"linecolor\": \"white\", \"ticks\": \"\"}}, \"title\": {\"x\": 0.05}, \"xaxis\": {\"automargin\": true, \"gridcolor\": \"white\", \"linecolor\": \"white\", \"ticks\": \"\", \"title\": {\"standoff\": 15}, \"zerolinecolor\": \"white\", \"zerolinewidth\": 2}, \"yaxis\": {\"automargin\": true, \"gridcolor\": \"white\", \"linecolor\": \"white\", \"ticks\": \"\", \"title\": {\"standoff\": 15}, \"zerolinecolor\": \"white\", \"zerolinewidth\": 2}}}, \"title\": {\"text\": \"Indicateur par semaine\"}, \"xaxis\": {\"anchor\": \"y\", \"domain\": [0.0, 0.94], \"tick0\": \"2020-01-06\"}, \"yaxis\": {\"anchor\": \"x\", \"domain\": [0.0, 1.0]}, \"yaxis2\": {\"anchor\": \"x\", \"overlaying\": \"y\", \"side\": \"right\"}},\n",
              "                        {\"responsive\": true}\n",
              "                    ).then(function(){\n",
              "                            \n",
              "var gd = document.getElementById('2b54e92f-9d9c-4a10-a445-9481e4bd7b54');\n",
              "var x = new MutationObserver(function (mutations, observer) {{\n",
              "        var display = window.getComputedStyle(gd).display;\n",
              "        if (!display || display === 'none') {{\n",
              "            console.log([gd, 'removed!']);\n",
              "            Plotly.purge(gd);\n",
              "            observer.disconnect();\n",
              "        }}\n",
              "}});\n",
              "\n",
              "// Listen for the removal of the full notebook cells\n",
              "var notebookContainer = gd.closest('#notebook-container');\n",
              "if (notebookContainer) {{\n",
              "    x.observe(notebookContainer, {childList: true});\n",
              "}}\n",
              "\n",
              "// Listen for the clearing of the current output cell\n",
              "var outputEl = gd.closest('.output');\n",
              "if (outputEl) {{\n",
              "    x.observe(outputEl, {childList: true});\n",
              "}}\n",
              "\n",
              "                        })\n",
              "                };\n",
              "                \n",
              "            </script>\n",
              "        </div>\n",
              "</body>\n",
              "</html>"
            ]
          },
          "metadata": {
            "tags": []
          }
        }
      ]
    },
    {
      "cell_type": "code",
      "metadata": {
        "id": "HHbXGNgW1zIj"
      },
      "source": [
        ""
      ],
      "execution_count": null,
      "outputs": []
    }
  ]
}
