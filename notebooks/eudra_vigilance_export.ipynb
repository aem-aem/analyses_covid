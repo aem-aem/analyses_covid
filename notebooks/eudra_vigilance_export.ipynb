{
 "cells": [
  {
   "cell_type": "code",
   "execution_count": 33,
   "metadata": {
    "collapsed": true
   },
   "outputs": [],
   "source": [
    "import pandas as pd"
   ]
  },
  {
   "cell_type": "code",
   "execution_count": 61,
   "metadata": {},
   "outputs": [],
   "source": [
    "az_2021 = pd.read_excel('az_2021.xlsx')"
   ]
  },
  {
   "cell_type": "code",
   "execution_count": 34,
   "metadata": {},
   "outputs": [],
   "source": [
    "janssen_2021 = pd.read_excel('janssen_2021.xlsx')"
   ]
  },
  {
   "cell_type": "code",
   "execution_count": 35,
   "metadata": {
    "collapsed": true
   },
   "outputs": [],
   "source": [
    "moderna_2021 = pd.read_excel('moderna_2021.xlsx')"
   ]
  },
  {
   "cell_type": "code",
   "execution_count": 27,
   "metadata": {
    "collapsed": true
   },
   "outputs": [],
   "source": [
    "pfizer_2021 = pd.read_excel('pfizer_2021.xlsx')"
   ]
  },
  {
   "cell_type": "code",
   "execution_count": 36,
   "metadata": {
    "collapsed": true
   },
   "outputs": [],
   "source": [
    "pfizer_2020 = pd.read_excel('pfizer_2020.xlsx')"
   ]
  },
  {
   "cell_type": "code",
   "execution_count": 29,
   "metadata": {
    "collapsed": true
   },
   "outputs": [],
   "source": [
    "all_2020_2021 = pd.concat([az_2021, janssen_2021, moderna_2021, pfizer_2020, pfizer_2021])"
   ]
  },
  {
   "cell_type": "code",
   "execution_count": 36,
   "metadata": {},
   "outputs": [],
   "source": [
    "columns = [\n",
    "    'EU Local Number', 'EV Gateway Receipt Date',\n",
    "   'Primary Source Qualification',\n",
    "   'Primary Source Country for Regulatory Purposes',\n",
    "   'Patient Age Group',\n",
    "   'Parent Child Report',\n",
    "   'Patient Sex',\n",
    "   'Reaction List PT (Duration – Outcome - Seriousness Criteria)',\n",
    "   'Suspect/interacting Drug List (Drug Char - Indication PT - Action taken - [Duration - Dose - Route])',\n",
    "   'Concomitant/Not Administered Drug List (Drug Char - Indication PT - Action taken - [Duration - Dose - Route])'\n",
    "]"
   ]
  },
  {
   "cell_type": "code",
   "execution_count": 38,
   "metadata": {},
   "outputs": [],
   "source": [
    "all_2020_2021[columns].to_csv('eudra_vigilance_2021_06_05.csv', sep='\\t')"
   ]
  },
  {
   "cell_type": "code",
   "execution_count": 1,
   "metadata": {},
   "outputs": [],
   "source": [
    "import pandas as pd\n",
    "all_2020_2021 = pd.read_csv('eudra_vigilance_2021_06_05.csv', sep='\\t')#.sample(10000)"
   ]
  },
  {
   "cell_type": "code",
   "execution_count": 2,
   "metadata": {
    "collapsed": true
   },
   "outputs": [],
   "source": [
    "all_2020_2021['reaction_list'] = all_2020_2021['Reaction List PT (Duration – Outcome - Seriousness Criteria)'].map(\n",
    "    lambda x: x.split('<BR><BR>'))"
   ]
  },
  {
   "cell_type": "code",
   "execution_count": 3,
   "metadata": {
    "collapsed": true
   },
   "outputs": [],
   "source": [
    "def get_vaccine(_string):\n",
    "    _dict = {'TOZINAMERAN': 'pfizer',\n",
    "             'COMIRNATY': 'pfizer',\n",
    "             'ASTRAZENECA': 'az',\n",
    "            'CHADOX1': 'az', 'MODERNA': 'moderna', 'JANSSEN': 'janssen', 'AD26.COV2.S': 'janssen'}\n",
    "    for key, value in _dict.items():\n",
    "        if key in _string:\n",
    "            return value\n",
    "    return None"
   ]
  },
  {
   "cell_type": "code",
   "execution_count": 4,
   "metadata": {
    "collapsed": true
   },
   "outputs": [],
   "source": [
    "all_2020_2021['vaccine'] = all_2020_2021['Suspect/interacting Drug List (Drug Char - Indication PT - Action taken - [Duration - Dose - Route])'].map(\n",
    "    get_vaccine)"
   ]
  },
  {
   "cell_type": "code",
   "execution_count": 5,
   "metadata": {},
   "outputs": [],
   "source": [
    "all_2020_2021 = all_2020_2021[[\n",
    "    'EU Local Number', 'EV Gateway Receipt Date',\n",
    "    'Primary Source Qualification',\n",
    "    'Primary Source Country for Regulatory Purposes', 'Patient Age Group',\n",
    "    'Patient Sex',\n",
    "    'reaction_list', 'vaccine']]"
   ]
  },
  {
   "cell_type": "code",
   "execution_count": 6,
   "metadata": {
    "collapsed": true
   },
   "outputs": [],
   "source": [
    "all_2020_2021.columns = [\n",
    "    'EU Local Number', 'report_date', 'is_primary_source_professional', 'is_eee', 'age_group', 'sex',\n",
    "    'reaction_list', 'vaccine'\n",
    "]"
   ]
  },
  {
   "cell_type": "code",
   "execution_count": 7,
   "metadata": {
    "collapsed": true
   },
   "outputs": [],
   "source": [
    "# Performing a Flatmap Operation on a selected column\n",
    "# containing rows of lists this example uses\n",
    "# Pythons itertools\n",
    "import pandas as pd\n",
    "from itertools import chain\n",
    "\n",
    "\n",
    "def flatmap(f, items):\n",
    "        return list(chain.from_iterable(list(map(f, items))))\n",
    "\n",
    "    \n",
    "def create_dict(df, headers_ls, f_var, x):\n",
    "    temp_dict = dict({})\n",
    "    for h in headers_ls:\n",
    "        temp_dict[h] = df[h]\n",
    "    temp_dict[f_var] = x\n",
    "    return temp_dict\n",
    "    \n",
    "    \n",
    "def flatmap_df(df, flatten_col):\n",
    "    headers_ls = df.columns\n",
    "    rec_dict = df[headers_ls].to_dict(orient='records')\n",
    "    return pd.DataFrame(flatmap(lambda rec_dict: [create_dict(rec_dict, \n",
    "                                        headers_ls, flatten_col, \n",
    "                                        col_ls) for col_ls in rec_dict[flatten_col]], rec_dict))"
   ]
  },
  {
   "cell_type": "code",
   "execution_count": 8,
   "metadata": {},
   "outputs": [],
   "source": [
    "eudra_vigilance = flatmap_df(all_2020_2021, 'reaction_list')"
   ]
  },
  {
   "cell_type": "code",
   "execution_count": 9,
   "metadata": {},
   "outputs": [],
   "source": [
    "import re\n",
    "prog = re.compile(r'(.+)\\(([\\d\\w\\s\\/,\\.]+)\\-\\ ([\\d\\w\\s\\/,]+)\\ \\-([\\d\\w\\s\\/,]+)\\)')\n",
    "def parse_reaction_list(reaction_list):\n",
    "    result = prog.match(reaction_list)\n",
    "    if result:\n",
    "        return {'reaction': result.group(1).strip(),\n",
    "                'duration': result.group(2).strip(),\n",
    "                'outcome': result.group(3).strip(),\n",
    "                'seriousness': result.group(4).strip()}\n",
    "    else:\n",
    "        return {'reaction': None,\n",
    "                'duration': None,\n",
    "                'outcome': None,\n",
    "                'seriousness': None}"
   ]
  },
  {
   "cell_type": "code",
   "execution_count": 10,
   "metadata": {},
   "outputs": [],
   "source": [
    "eudra_vigilance[['reaction', 'duration', 'outcome', 'seriousness']] = pd.DataFrame(eudra_vigilance['reaction_list'].apply(parse_reaction_list).to_list())"
   ]
  },
  {
   "cell_type": "code",
   "execution_count": 11,
   "metadata": {},
   "outputs": [],
   "source": [
    "eudra_vigilance['is_primary_source_professional'] = eudra_vigilance['is_primary_source_professional'].map(\n",
    "    {'Non Healthcare Professional': 0, 'Healthcare Professional': 1}\n",
    ")"
   ]
  },
  {
   "cell_type": "code",
   "execution_count": 12,
   "metadata": {
    "collapsed": true
   },
   "outputs": [],
   "source": [
    "eudra_vigilance['is_eee'] = eudra_vigilance['is_eee'].map(\n",
    "    {'European Economic Area': 1, 'Non European Economic Area': 0}\n",
    ").fillna(-1)"
   ]
  },
  {
   "cell_type": "code",
   "execution_count": 13,
   "metadata": {
    "collapsed": true
   },
   "outputs": [],
   "source": [
    "eudra_vigilance['sex'] = eudra_vigilance['sex'].map(\n",
    "    {'Female': 2, 'Male': 1}\n",
    ").fillna(0)"
   ]
  },
  {
   "cell_type": "code",
   "execution_count": 14,
   "metadata": {
    "collapsed": true
   },
   "outputs": [],
   "source": [
    "eudra_vigilance['age_group'] = eudra_vigilance['age_group'].map(\n",
    "    {'18-64 Years': '18-64y',\n",
    "     'More than 85 Years': '85+y',\n",
    "     'Not Specified': '',\n",
    "     '65-85 Years': '65-85y',\n",
    "     '2 Months - 2 Years': '02m-2y',\n",
    "     '12-17 Years': '12-17y',\n",
    "     '3-11 Years': '3-11y',\n",
    "     '0-1 Month': '00m-01m'}\n",
    ").fillna(0)"
   ]
  },
  {
   "cell_type": "code",
   "execution_count": 15,
   "metadata": {},
   "outputs": [],
   "source": [
    "eudra_vigilance.drop(columns=['reaction_list'], inplace=True)"
   ]
  },
  {
   "cell_type": "code",
   "execution_count": 16,
   "metadata": {},
   "outputs": [],
   "source": [
    "eudra_vigilance['EU Local Number'] = eudra_vigilance['EU Local Number'].map(lambda x: x[6:]).astype(int)"
   ]
  },
  {
   "cell_type": "code",
   "execution_count": 17,
   "metadata": {},
   "outputs": [
    {
     "data": {
      "text/plain": [
       "                                       1082748\n",
       "Other Medically Important Condition     549811\n",
       "Caused/Prolonged Hospitalisation        114094\n",
       "Disabling                                91656\n",
       "Life Threatening                         36041\n",
       "Results in Death                         18368\n",
       "Congenital Anomaly                         399\n",
       "Name: seriousness, dtype: int64"
      ]
     },
     "execution_count": 17,
     "metadata": {},
     "output_type": "execute_result"
    }
   ],
   "source": [
    "flatmap_df(pd.DataFrame(eudra_vigilance.seriousness.map(lambda x: x.split(','))), 'seriousness').seriousness.map(\n",
    "    lambda x: x.strip()).value_counts()"
   ]
  },
  {
   "cell_type": "code",
   "execution_count": 18,
   "metadata": {
    "collapsed": true
   },
   "outputs": [],
   "source": [
    "_dict = {\n",
    "    'medically_important': 'Other Medically Important Condition',\n",
    "    'prolonged_hospit': 'Caused/Prolonged Hospitalisation',\n",
    "    'disabling': 'Disabling',\n",
    "    'life_threat': 'Life Threatening',\n",
    "    'fatal': 'Results in Death'\n",
    "}\n",
    "for key, value in _dict.items():\n",
    "    eudra_vigilance[key] = eudra_vigilance['seriousness'].map(lambda x:\n",
    "                                                             1 if value in x else 0)"
   ]
  },
  {
   "cell_type": "code",
   "execution_count": 20,
   "metadata": {},
   "outputs": [],
   "source": [
    "eudra_vigilance.drop(columns=['seriousness'], inplace=True)"
   ]
  },
  {
   "cell_type": "code",
   "execution_count": 21,
   "metadata": {
    "collapsed": true
   },
   "outputs": [],
   "source": [
    "eudra_vigilance.to_csv('eudra_vigilance_2021_06_05_clean.csv', sep='\\t', index=False)"
   ]
  },
  {
   "cell_type": "code",
   "execution_count": 22,
   "metadata": {},
   "outputs": [],
   "source": [
    "import pandas as pd\n",
    "eudra_vigilance = pd.read_csv('eudra_vigilance_2021_06_05_clean.csv', sep='\\t')"
   ]
  },
  {
   "cell_type": "code",
   "execution_count": 60,
   "metadata": {},
   "outputs": [
    {
     "data": {
      "text/plain": [
       "8175"
      ]
     },
     "execution_count": 60,
     "metadata": {},
     "output_type": "execute_result"
    }
   ],
   "source": [
    "len(eudra_vigilance.query('fatal==1 or outcome==\"Fatal\"')['EU Local Number'].unique())"
   ]
  },
  {
   "cell_type": "code",
   "execution_count": null,
   "metadata": {
    "collapsed": true
   },
   "outputs": [],
   "source": []
  }
 ],
 "metadata": {
  "kernelspec": {
   "display_name": "Python 3",
   "language": "python",
   "name": "python3"
  },
  "language_info": {
   "codemirror_mode": {
    "name": "ipython",
    "version": 3
   },
   "file_extension": ".py",
   "mimetype": "text/x-python",
   "name": "python",
   "nbconvert_exporter": "python",
   "pygments_lexer": "ipython3",
   "version": "3.6.8"
  }
 },
 "nbformat": 4,
 "nbformat_minor": 2
}
