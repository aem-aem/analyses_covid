{
 "cells": [
  {
   "cell_type": "code",
   "execution_count": 1,
   "metadata": {
    "collapsed": true
   },
   "outputs": [],
   "source": [
    "import pandas as pd\n",
    "import numpy as np\n",
    "import matplotlib.pyplot as plt\n",
    "import datetime\n",
    "import plotly.graph_objects as go\n",
    "from plotly.subplots import make_subplots\n",
    "import requests\n",
    "import json\n",
    "import numpy as np\n"
   ]
  },
  {
   "cell_type": "code",
   "execution_count": 2,
   "metadata": {
    "collapsed": true
   },
   "outputs": [],
   "source": [
    "regions = {\n",
    "    0: \"France\",\n",
    "    11: \"Île-de-France\",\n",
    "    24: \"Centre-Val de Loire\",\n",
    "    27: \"Bourgogne-Franche-Comté\",\n",
    "    28: \"Normandie\",\n",
    "    32: \"Hauts-de-France\",\n",
    "    44: \"Grand Est\",\n",
    "    52: \"Pays de la Loire\",\n",
    "    53: \"Bretagne\",\n",
    "    75: \"Nouvelle-Aquitaine\",\n",
    "    76: \"Occitanie\",\n",
    "    84: \"Auvergne-Rhône-Alpes\",\n",
    "    93: \"Provence-Alpes-Côte d’Azur\",\n",
    "    94: \"Corse\"\n",
    "}"
   ]
  },
  {
   "cell_type": "code",
   "execution_count": 3,
   "metadata": {
    "collapsed": true
   },
   "outputs": [],
   "source": [
    "code_cl_age90 = {\n",
    "    0: \"tous âges\",\n",
    "    9: \"0 à 9 ans\",\n",
    "    19: \"10 à 19 ans\",\n",
    "    29: \"20 à 29 ans\",\n",
    "    39: \"30 à 39 ans\",\n",
    "    49: \"40 à 49 ans\",\n",
    "    59: \"50 à 59 ans\",\n",
    "    69: \"60 à 69 ans\",\n",
    "    79: \"70 à 79 ans\",\n",
    "    89: \"80 à 89 ans\",\n",
    "    90: \"90 ans et plus\"\n",
    "    \n",
    "}\n",
    "\n",
    "code_cl_ageA = {\n",
    "    '0': \"tous âges\",\n",
    "    'A': \"moins de 15 ans\",\n",
    "    'B': \"15-44 ans\",\n",
    "    'C': \"45-64 ans\",\n",
    "    'D': \"65-74 ans\",\n",
    "    'E': \"75 ans et plus\"\n",
    "}"
   ]
  },
  {
   "cell_type": "code",
   "execution_count": 20,
   "metadata": {},
   "outputs": [],
   "source": [
    "#dep_region = pd.read_csv('https://www.insee.fr/fr/statistiques/fichier/3363419/depts2018-txt.zip',\n",
    "dep_region = pd.read_csv('depts2018-txt.zip',\n",
    "                         sep='\\t', encoding='latin1').rename(columns={'DEP': 'dep', 'REGION': 'reg'})[['dep', 'reg']]\n",
    "dep_region.dep=dep_region.dep.map(lambda x: x.strip())"
   ]
  },
  {
   "cell_type": "code",
   "execution_count": 21,
   "metadata": {
    "collapsed": true
   },
   "outputs": [],
   "source": [
    "def anneesemaine(_date):\n",
    "    _iso = _date.isocalendar()\n",
    "    _annee = str(_iso[0])\n",
    "    _jour = str(_iso[1])\n",
    "    if _iso[1]<10:\n",
    "        return _annee + \"0\" + _jour\n",
    "    return _annee + _jour"
   ]
  },
  {
   "cell_type": "code",
   "execution_count": 6,
   "metadata": {
    "collapsed": true
   },
   "outputs": [],
   "source": [
    "def premier_jour_anneesemaine(_anneesemaine):\n",
    "    return datetime.datetime.strptime(str(_anneesemaine) + '-1', \"%G%V-%w\").date()"
   ]
  },
  {
   "cell_type": "code",
   "execution_count": 7,
   "metadata": {
    "collapsed": true
   },
   "outputs": [],
   "source": [
    "deces_cumul = pd.read_csv('https://www.data.gouv.fr/fr/datasets/r/08c18e08-6780-452d-9b8c-ae244ad529b3', sep=';')"
   ]
  },
  {
   "cell_type": "code",
   "execution_count": 8,
   "metadata": {},
   "outputs": [],
   "source": [
    "# Deces\n",
    "deces_idf_cumul = deces_cumul.query('reg==11')[['jour', 'cl_age90', 'dc']]"
   ]
  },
  {
   "cell_type": "code",
   "execution_count": 9,
   "metadata": {
    "collapsed": true
   },
   "outputs": [],
   "source": [
    "def diff_deces(_deces_idf_cumul, _cl_age90):\n",
    "    _df = _deces_idf_cumul.query(f'cl_age90=={_cl_age90}').groupby('jour').sum().diff().fillna(0).reset_index()\n",
    "    _df['cl_age90'] = _cl_age90\n",
    "    return _df"
   ]
  },
  {
   "cell_type": "code",
   "execution_count": 10,
   "metadata": {},
   "outputs": [],
   "source": [
    "deces_idf = pd.concat([diff_deces(deces_idf_cumul, cl_age90)\n",
    "                       for cl_age90 in deces_idf_cumul.cl_age90.unique()])"
   ]
  },
  {
   "cell_type": "code",
   "execution_count": 11,
   "metadata": {
    "collapsed": true
   },
   "outputs": [],
   "source": [
    "urgences_sos = pd.read_csv('https://www.data.gouv.fr/fr/datasets/r/d2af5160-a21d-47b7-8f30-3c20dade63b1', sep=';')"
   ]
  },
  {
   "cell_type": "code",
   "execution_count": 12,
   "metadata": {},
   "outputs": [],
   "source": [
    "# Admissions aux urgences\n",
    "urgences_idf = urgences_sos.query('reg==11')[['date_de_passage', 'sursaud_cl_age_corona',\n",
    "                                              'nbre_pass_corona', 'nbre_pass_tot']]\n",
    "urgences_idf.columns = ['jour', 'cl_ageA', 'passages_urgence_covid', 'passages_urgence']"
   ]
  },
  {
   "cell_type": "code",
   "execution_count": 13,
   "metadata": {},
   "outputs": [],
   "source": [
    "# SOS Médecins\n",
    "sos_medecins_idf = urgences_sos.query('reg==11')[['date_de_passage', 'sursaud_cl_age_corona',\n",
    "                                                  'nbre_acte_corona', 'nbre_acte_tot']]\n",
    "\n",
    "sos_medecins_idf.columns = ['jour', 'cl_ageA', 'actes_sos_covid', 'actes_sos']"
   ]
  },
  {
   "cell_type": "code",
   "execution_count": 14,
   "metadata": {},
   "outputs": [],
   "source": [
    "_response = requests.get('https://www.sentiweb.fr/datasets/incidence-REG-25.json')"
   ]
  },
  {
   "cell_type": "code",
   "execution_count": 15,
   "metadata": {
    "collapsed": true
   },
   "outputs": [],
   "source": [
    "_data = json.loads(_response.text)['data']"
   ]
  },
  {
   "cell_type": "code",
   "execution_count": 16,
   "metadata": {},
   "outputs": [],
   "source": [
    "# IRAs\n",
    "ira_sentinelles_idf = pd.DataFrame(\n",
    "    [(str(d['week']), d['inc_low'], d['inc'], d['inc_up']) for d in _data if d['geo_insee']=='11'])\n",
    "ira_sentinelles_idf.columns=['semaine_str', 'iras_bas', 'iras_moy', 'iras_haut']"
   ]
  },
  {
   "cell_type": "code",
   "execution_count": 22,
   "metadata": {},
   "outputs": [],
   "source": [
    "tests_ = pd.read_csv('https://www.data.gouv.fr/fr/datasets/r/001aca18-df6a-45c8-89e6-f82d689e6c01',\n",
    "                     sep=';', dtype={'dep': str})\n",
    "tests_old_ = pd.read_csv('https://www.data.gouv.fr/fr/datasets/r/b4ea7b4b-b7d1-4885-a099-71852291ff20'\n",
    "                         , sep=';').merge(dep_region, on='dep')\n",
    "jour_changement_format = '2020-05-13'"
   ]
  },
  {
   "cell_type": "code",
   "execution_count": 23,
   "metadata": {},
   "outputs": [],
   "source": [
    "# tests\n",
    "tests_idf = pd.concat([\n",
    "    tests_old_.query(f'jour < \"{jour_changement_format}\" and reg==11')[\n",
    "        ['jour', 'clage_covid', 'nb_test', 'nb_pos']].rename(columns={'clage_covid': 'cl_age'}),\n",
    "    tests_.query(f'jour >= \"{jour_changement_format}\" and reg==11')[['jour', 'cl_age90', 'T', 'P']].rename(\n",
    "        columns={'cl_age90': 'cl_age', 'T': 'nb_test', 'P': 'nb_pos'})\n",
    "])"
   ]
  },
  {
   "cell_type": "code",
   "execution_count": 37,
   "metadata": {},
   "outputs": [],
   "source": [
    "sources = {\n",
    "    'Décès hospitaliers': (deces_idf, 'dc', None),\n",
    "    'Passages aux urgences': (urgences_idf, 'passages_urgence_covid', 'passages_urgence'),\n",
    "    'Actes SOS Médecins': (sos_medecins_idf, 'actes_sos_covid', 'actes_sos'),\n",
    "    'Tests positifs': (tests_idf, 'nb_pos', 'nb_test'),\n",
    "    'IRAs': (ira_sentinelles_idf, 'iras_lisse', None)\n",
    "}"
   ]
  },
  {
   "cell_type": "code",
   "execution_count": 38,
   "metadata": {},
   "outputs": [],
   "source": [
    "for df, col, col_ref in sources.values():\n",
    "    if 'jour' in df.columns:\n",
    "        df['jour'] = pd.to_datetime(df['jour'])\n",
    "        df['semaine'] = pd.to_datetime(df['jour'].map(anneesemaine).map(premier_jour_anneesemaine))\n",
    "    if 'semaine_str' in df.columns:\n",
    "        df['semaine'] = pd.to_datetime(df['semaine_str'].map(premier_jour_anneesemaine))"
   ]
  },
  {
   "cell_type": "code",
   "execution_count": 26,
   "metadata": {},
   "outputs": [],
   "source": [
    "iras_liss = ira_sentinelles_idf.groupby('semaine')['iras_moy'].sum().rolling(2, min_periods=1).mean()\n",
    "iras_liss = iras_liss.reset_index().rename(columns={'iras_moy': 'iras_lisse'})\n",
    "iras_liss['semaine'] = pd.to_datetime(iras_liss['semaine'])"
   ]
  },
  {
   "cell_type": "code",
   "execution_count": 27,
   "metadata": {},
   "outputs": [],
   "source": [
    "ira_sentinelles_idf = ira_sentinelles_idf.merge(iras_liss, on='semaine')"
   ]
  },
  {
   "cell_type": "code",
   "execution_count": 28,
   "metadata": {
    "collapsed": true
   },
   "outputs": [],
   "source": [
    "semaine_en_cours = pd.to_datetime(premier_jour_anneesemaine(anneesemaine(datetime.datetime.today())))"
   ]
  },
  {
   "cell_type": "code",
   "execution_count": 29,
   "metadata": {
    "collapsed": true
   },
   "outputs": [],
   "source": [
    "fatality_rate = {\n",
    "    19: 0.015,\n",
    "    29: 0.035,\n",
    "    39: 0.0804,\n",
    "    49: 0.2021,\n",
    "    59: 0.4892,\n",
    "    69: 1.1984,\n",
    "    79: 2.8161,\n",
    "    89: 7.0167,\n",
    "    90: 17.37,\n",
    "}"
   ]
  },
  {
   "cell_type": "code",
   "execution_count": 30,
   "metadata": {
    "collapsed": true
   },
   "outputs": [],
   "source": [
    "log_normal_jour = {\n",
    "    2: 0.000000006947995734, 3: 0.0000009943909898, 4: 0.00001971596617, 5: 0.0001432401693,\n",
    "    6: 0.0005779783016, 7: 0.001603883984, 8: 0.003455634494, 9: 0.006224227032,\n",
    "    10: 0.009829795751, 11: 0.01405605467, 12: 0.01861268174, 13: 0.02319674114,\n",
    "    14: 0.02753802951, 15: 0.0314247717, 16: 0.03471251885, 17: 0.0373213738,\n",
    "    18: 0.03922655123, 19: 0.04044616224, 20: 0.04102881393, 21: 0.04104250453,\n",
    "    22: 0.04056548696, 23: 0.03967925097, 24: 0.03846347553, 25: 0.03699266,\n",
    "    26: 0.03533409831, 27: 0.03354687242, 28: 0.03168158182, 29: 0.02978057574,\n",
    "    30: 0.02787850567, 31: 0.02600306072, 32: 0.02417578673, 33: 0.02241292029,\n",
    "    34: 0.02072619244, 35: 0.01912357457, 36: 0.01760995129, 37: 0.01618771451,\n",
    "    38: 0.01485727833, 39: 0.01361751862, 40: 0.01246614312, 41: 0.01139999905,\n",
    "    42: 0.01041532578, 43: 0.009507959743, 44: 0.008673498479, 45: 0.007907430234,\n",
    "    46: 0.007205234605, 47: 0.006562459279, 48: 0.005974777115, 49: 0.005438027276,\n",
    "    50: 0.0049482435, 51: 0.00450167214, 52: 0.004094782149, 53: 0.003724268808,\n",
    "    54: 0.003387052676, 55: 0.00308027495, 56: 0.002801290255, 57: 0.002547657518,\n",
    "    58: 0.002317129729, 59: 0.002107642896, 60: 0.00191730467, 61: 0.001744382908,\n",
    "    62: 0.001587294367, 63: 0.001444593725, 64: 0.001314963007, 65: 0.001197201524,\n",
    "    66: 0.001090216347, 67: 0.0009930133644, 68: 0.0009046889154, 69: 0.0008244220097,\n",
    "    70: 0.0007514671119, 71: 0.0006851474745, 72: 0.0006248489956, 73: 0.0005700145734,\n",
    "    74: 0.0005201389278, 75: 0.0004747638611, 76: 0.0004334739258, 77: 0.0003958924716\n",
    "}"
   ]
  },
  {
   "cell_type": "code",
   "execution_count": 31,
   "metadata": {},
   "outputs": [],
   "source": [
    "log_normal_semaine = {\n",
    "    semaine: sum([proba for jour, proba in log_normal_jour.items() if int(jour/7) == semaine])\n",
    "    for semaine in range(0,12)\n",
    "}"
   ]
  },
  {
   "cell_type": "code",
   "execution_count": 32,
   "metadata": {
    "collapsed": true
   },
   "outputs": [],
   "source": [
    "cls_age90 = [19, 29, 39, 49, 59, 69, 79, 89, 90]"
   ]
  },
  {
   "cell_type": "code",
   "execution_count": 33,
   "metadata": {
    "collapsed": true
   },
   "outputs": [],
   "source": [
    "def distrib(jour_ou_semaine, nombre, cl_age90, pas='jour'):\n",
    "    items = log_normal_semaine.items() if pas == 'semaine' else log_normal_jour.items()\n",
    "    \n",
    "    return [((jour_ou_semaine - datetime.timedelta(days=(7 if pas=='semaine' else 1)*delai)),\n",
    "             100*proba*nombre/fatality_rate[cl_age90]) for delai, proba in items]"
   ]
  },
  {
   "cell_type": "code",
   "execution_count": 161,
   "metadata": {
    "collapsed": true
   },
   "outputs": [],
   "source": [
    "pas = 'jour'\n",
    "carence = -9 if pas == 'semaine' else -56"
   ]
  },
  {
   "cell_type": "code",
   "execution_count": 162,
   "metadata": {},
   "outputs": [],
   "source": [
    "deces = {}\n",
    "for cl_age90 in cls_age90:\n",
    "    deces[cl_age90] = deces_idf.query(f'cl_age90=={cl_age90}').groupby(pas).dc.sum()"
   ]
  },
  {
   "cell_type": "code",
   "execution_count": 163,
   "metadata": {},
   "outputs": [],
   "source": [
    "infections = {}\n",
    "for cl_age90 in cls_age90:\n",
    "    _series = pd.DataFrame(deces[cl_age90]).reset_index().apply(lambda x: distrib(x[0], x[1], cl_age90, pas), axis=1, result_type='reduce')\n",
    "    _distribution = pd.DataFrame([(jour_ou_semaine, _nombre)\n",
    "                                  for _list in _series\n",
    "                                  for (jour_ou_semaine, _nombre) in _list],\n",
    "                                 columns=[pas, 'infections'])\n",
    "    infections[cl_age90] = _distribution.groupby(pas)['infections'].sum()[:carence]"
   ]
  },
  {
   "cell_type": "code",
   "execution_count": 164,
   "metadata": {},
   "outputs": [],
   "source": [
    "infections_idf = pd.DataFrame(\n",
    "    pd.concat([infections[cl_age90] for cl_age90 in cls_age90], axis=1).sum(axis=1)).reset_index()"
   ]
  },
  {
   "cell_type": "code",
   "execution_count": 165,
   "metadata": {},
   "outputs": [],
   "source": [
    "new_col = \"Nombre théorique d'infections\"\n",
    "infections_idf.columns = [pas, new_col]\n",
    "sources[new_col] = (infections_idf, new_col, None)\n",
    "if pas == 'jour':\n",
    "    infections_idf['semaine'] = pd.to_datetime(infections_idf['jour'].map(anneesemaine).map(premier_jour_anneesemaine))"
   ]
  },
  {
   "cell_type": "code",
   "execution_count": 166,
   "metadata": {},
   "outputs": [],
   "source": [
    "base = pd.Series([0,0])\n",
    "base.index = [infections_idf[pas].min(), deces_idf[pas].max()]"
   ]
  },
  {
   "cell_type": "code",
   "execution_count": 167,
   "metadata": {},
   "outputs": [],
   "source": [
    "jour_min = semaine_en_cours - datetime.timedelta(days=365)\n",
    "jour_max = semaine_en_cours\n",
    "for (df, _, _) in sources.values():\n",
    "    if pas in df.columns:\n",
    "        jour_min = df[pas].min() if df[pas].min() > jour_min else jour_min\n",
    "        jour_max = df[pas].max() if df[pas].max() < jour_max else jour_max\n",
    "\n",
    "def crop_serie(_serie):\n",
    "    _filtre = (_serie.index >= jour_min) & (_serie.index <= jour_max)\n",
    "    return _serie[_filtre]"
   ]
  },
  {
   "cell_type": "code",
   "execution_count": 168,
   "metadata": {},
   "outputs": [],
   "source": [
    "def norm_serie(_serie, pas=None, col=None):\n",
    "    _max = _serie.max()\n",
    "    if col == 'nb_pos':\n",
    "        _max = 331764\n",
    "        if pas == 'jour':\n",
    "            _max = _max / 7\n",
    "        \n",
    "    return _serie / _max"
   ]
  },
  {
   "cell_type": "code",
   "execution_count": 169,
   "metadata": {},
   "outputs": [],
   "source": [
    "def agg_serie(df, pas, col, col_ref):\n",
    "    _filtre = (df[pas] >= jour_min) & (df[pas] <= jour_max)\n",
    "    _serie = df.groupby(pas)[col].sum()\n",
    "    if col_ref:\n",
    "        _serie = _serie / df.groupby(pas)[col_ref].sum()\n",
    "    if pas == 'jour' and col != new_col:\n",
    "        _serie = _serie.rolling(7, min_periods=2).mean()\n",
    "    return crop_serie(_serie)"
   ]
  },
  {
   "cell_type": "code",
   "execution_count": 170,
   "metadata": {
    "collapsed": true
   },
   "outputs": [],
   "source": [
    "def increment_wtow(_serie, pas='jour', col=None):\n",
    "    _shift = 1 if pas == 'semaine' else 7\n",
    "    return (_serie / _serie.shift(_shift)) - 1"
   ]
  },
  {
   "cell_type": "code",
   "execution_count": 171,
   "metadata": {},
   "outputs": [],
   "source": [
    "_dict = {}\n",
    "for name, (df, col, col_ref) in sources.items():\n",
    "    if pas in df.columns:\n",
    "        _serie = agg_serie(df, pas, col, None)         \n",
    "        _dict[name] = increment_wtow(_serie, pas, col)\n",
    "        if col_ref:\n",
    "            _dict[f'Taux {name}'] = increment_wtow(agg_serie(df, pas, col, col_ref), pas)"
   ]
  },
  {
   "cell_type": "code",
   "execution_count": 172,
   "metadata": {},
   "outputs": [],
   "source": [
    "norm = pd.DataFrame(_dict)"
   ]
  },
  {
   "cell_type": "code",
   "execution_count": 52,
   "metadata": {
    "collapsed": true
   },
   "outputs": [],
   "source": [
    "def rmse(predictions, targets):\n",
    "    return np.sqrt(((predictions - targets) ** 2).mean())# / predictions.count()"
   ]
  },
  {
   "cell_type": "code",
   "execution_count": 53,
   "metadata": {
    "collapsed": true
   },
   "outputs": [],
   "source": [
    "def mape(y_true, y_pred): \n",
    "    y_true, y_pred = np.array(y_true), np.array(y_pred)\n",
    "    return np.mean(np.abs((y_true - y_pred) / y_true)) * 100"
   ]
  },
  {
   "cell_type": "code",
   "execution_count": 108,
   "metadata": {
    "scrolled": true
   },
   "outputs": [
    {
     "data": {
      "text/html": [
       "<div>\n",
       "<style scoped>\n",
       "    .dataframe tbody tr th:only-of-type {\n",
       "        vertical-align: middle;\n",
       "    }\n",
       "\n",
       "    .dataframe tbody tr th {\n",
       "        vertical-align: top;\n",
       "    }\n",
       "\n",
       "    .dataframe thead th {\n",
       "        text-align: right;\n",
       "    }\n",
       "</style>\n",
       "<table border=\"1\" class=\"dataframe\">\n",
       "  <thead>\n",
       "    <tr style=\"text-align: right;\">\n",
       "      <th></th>\n",
       "      <th>Métrique</th>\n",
       "      <th>RMSE</th>\n",
       "    </tr>\n",
       "  </thead>\n",
       "  <tbody>\n",
       "    <tr>\n",
       "      <th>8</th>\n",
       "      <td>Nombre théorique d'infections</td>\n",
       "      <td>0.088493</td>\n",
       "    </tr>\n",
       "    <tr>\n",
       "      <th>2</th>\n",
       "      <td>Taux Passages aux urgences</td>\n",
       "      <td>0.161206</td>\n",
       "    </tr>\n",
       "    <tr>\n",
       "      <th>6</th>\n",
       "      <td>Taux Tests positifs</td>\n",
       "      <td>0.165328</td>\n",
       "    </tr>\n",
       "    <tr>\n",
       "      <th>1</th>\n",
       "      <td>Passages aux urgences</td>\n",
       "      <td>0.177289</td>\n",
       "    </tr>\n",
       "    <tr>\n",
       "      <th>4</th>\n",
       "      <td>Taux Actes SOS Médecins</td>\n",
       "      <td>0.203575</td>\n",
       "    </tr>\n",
       "    <tr>\n",
       "      <th>3</th>\n",
       "      <td>Actes SOS Médecins</td>\n",
       "      <td>0.259319</td>\n",
       "    </tr>\n",
       "    <tr>\n",
       "      <th>7</th>\n",
       "      <td>IRAs</td>\n",
       "      <td>0.497456</td>\n",
       "    </tr>\n",
       "    <tr>\n",
       "      <th>5</th>\n",
       "      <td>Tests positifs</td>\n",
       "      <td>0.572203</td>\n",
       "    </tr>\n",
       "    <tr>\n",
       "      <th>0</th>\n",
       "      <td>Décès hospitaliers</td>\n",
       "      <td>0.588798</td>\n",
       "    </tr>\n",
       "  </tbody>\n",
       "</table>\n",
       "</div>"
      ],
      "text/plain": [
       "                        Métrique      RMSE\n",
       "8  Nombre théorique d'infections  0.088493\n",
       "2     Taux Passages aux urgences  0.161206\n",
       "6            Taux Tests positifs  0.165328\n",
       "1          Passages aux urgences  0.177289\n",
       "4        Taux Actes SOS Médecins  0.203575\n",
       "3             Actes SOS Médecins  0.259319\n",
       "7                           IRAs  0.497456\n",
       "5                 Tests positifs  0.572203\n",
       "0             Décès hospitaliers  0.588798"
      ]
     },
     "execution_count": 108,
     "metadata": {},
     "output_type": "execute_result"
    }
   ],
   "source": [
    "fig = go.Figure()\n",
    "df = norm.copy()\n",
    "df = df[df.index > pd.to_datetime('2020-08-01')]\n",
    "range_pas = 1 if pas == 'semaine' else 14\n",
    "_list = []\n",
    "for col in df.columns:\n",
    "    grid_search = [\n",
    "        (_multiplier,\n",
    "         _shift,\n",
    "         rmse((_multiplier/100)*df[col].shift(_shift), df['Nombre théorique d\\'infections'])\n",
    "        )\n",
    "        for _multiplier in range(100, 101, 1)\n",
    "        for _shift in range(-range_pas, 0)\n",
    "    ]\n",
    "    _index = np.argmin([_tuple[2] for _tuple in grid_search])\n",
    "    multiplier, shift, error = grid_search[_index]\n",
    "    _list.append({\"Métrique\": col,\n",
    "                  #\"Multiplicateur\": multiplier/100, \"Retard\": shift, \n",
    "                  \"RMSE\": error})\n",
    "    _serie = (multiplier/100)*df[col].shift(shift)\n",
    "    fig.add_trace(go.Scatter(x=_serie.index, y=_serie, name=col, line=dict(width=4)))\n",
    "pd.DataFrame(_list).sort_values('RMSE')"
   ]
  },
  {
   "cell_type": "code",
   "execution_count": 109,
   "metadata": {},
   "outputs": [],
   "source": [
    "fig = go.Figure()\n",
    "for col in norm.columns:\n",
    "    fig.add_trace(go.Scatter(x=norm[col].index, y=norm[col], name=col, line=dict(width=4)))\n",
    "fig.write_html('figure.html', auto_open=True)"
   ]
  },
  {
   "cell_type": "code",
   "execution_count": 181,
   "metadata": {},
   "outputs": [
    {
     "data": {
      "application/vnd.plotly.v1+json": {
       "config": {
        "plotlyServerURL": "https://plot.ly"
       },
       "data": [
        {
         "line": {
          "width": 4
         },
         "name": "Décès hospitaliers",
         "type": "scatter",
         "x": [
          "2020-03-16T00:00:00",
          "2020-03-23T00:00:00",
          "2020-03-30T00:00:00",
          "2020-04-06T00:00:00",
          "2020-04-13T00:00:00",
          "2020-04-20T00:00:00",
          "2020-04-27T00:00:00",
          "2020-05-04T00:00:00",
          "2020-05-11T00:00:00",
          "2020-05-18T00:00:00",
          "2020-05-25T00:00:00",
          "2020-06-01T00:00:00",
          "2020-06-08T00:00:00",
          "2020-06-15T00:00:00",
          "2020-06-22T00:00:00",
          "2020-06-29T00:00:00",
          "2020-07-06T00:00:00",
          "2020-07-13T00:00:00",
          "2020-07-20T00:00:00",
          "2020-07-27T00:00:00",
          "2020-08-03T00:00:00",
          "2020-08-10T00:00:00",
          "2020-08-17T00:00:00",
          "2020-08-24T00:00:00",
          "2020-08-31T00:00:00",
          "2020-09-07T00:00:00",
          "2020-09-14T00:00:00",
          "2020-09-21T00:00:00",
          "2020-09-28T00:00:00",
          "2020-10-05T00:00:00",
          "2020-10-12T00:00:00",
          "2020-10-19T00:00:00",
          "2020-10-26T00:00:00",
          "2020-11-02T00:00:00",
          "2020-11-09T00:00:00",
          "2020-11-16T00:00:00",
          "2020-11-23T00:00:00",
          "2020-11-30T00:00:00",
          "2020-12-07T00:00:00",
          "2020-12-14T00:00:00",
          "2020-12-21T00:00:00",
          "2020-12-28T00:00:00",
          "2021-01-04T00:00:00",
          "2021-01-11T00:00:00",
          "2021-01-18T00:00:00",
          "2021-01-25T00:00:00"
         ],
         "y": [
          222,
          1312,
          2582,
          2877,
          2409,
          1636,
          1071,
          717,
          505,
          380,
          373,
          248,
          197,
          114,
          84,
          66,
          75,
          50,
          44,
          53,
          66,
          48,
          97,
          61,
          90,
          77,
          318,
          168,
          206,
          251,
          353,
          534,
          671,
          894,
          1076,
          854,
          733,
          607,
          643,
          531,
          473,
          488,
          575,
          528,
          585,
          622
         ]
        },
        {
         "line": {
          "width": 4
         },
         "name": "Passages aux urgences",
         "type": "scatter",
         "x": [
          "2020-02-24T00:00:00",
          "2020-03-02T00:00:00",
          "2020-03-09T00:00:00",
          "2020-03-16T00:00:00",
          "2020-03-23T00:00:00",
          "2020-03-30T00:00:00",
          "2020-04-06T00:00:00",
          "2020-04-13T00:00:00",
          "2020-04-20T00:00:00",
          "2020-04-27T00:00:00",
          "2020-05-04T00:00:00",
          "2020-05-11T00:00:00",
          "2020-05-18T00:00:00",
          "2020-05-25T00:00:00",
          "2020-06-01T00:00:00",
          "2020-06-08T00:00:00",
          "2020-06-15T00:00:00",
          "2020-06-22T00:00:00",
          "2020-06-29T00:00:00",
          "2020-07-06T00:00:00",
          "2020-07-13T00:00:00",
          "2020-07-20T00:00:00",
          "2020-07-27T00:00:00",
          "2020-08-03T00:00:00",
          "2020-08-10T00:00:00",
          "2020-08-17T00:00:00",
          "2020-08-24T00:00:00",
          "2020-08-31T00:00:00",
          "2020-09-07T00:00:00",
          "2020-09-14T00:00:00",
          "2020-09-21T00:00:00",
          "2020-09-28T00:00:00",
          "2020-10-05T00:00:00",
          "2020-10-12T00:00:00",
          "2020-10-19T00:00:00",
          "2020-10-26T00:00:00",
          "2020-11-02T00:00:00",
          "2020-11-09T00:00:00",
          "2020-11-16T00:00:00",
          "2020-11-23T00:00:00",
          "2020-11-30T00:00:00",
          "2020-12-07T00:00:00",
          "2020-12-14T00:00:00",
          "2020-12-21T00:00:00",
          "2020-12-28T00:00:00",
          "2021-01-04T00:00:00",
          "2021-01-11T00:00:00",
          "2021-01-18T00:00:00",
          "2021-01-25T00:00:00"
         ],
         "y": [
          10,
          529,
          4224,
          11750,
          23394,
          19092,
          12770,
          8175,
          6378,
          5306,
          4768,
          2911,
          2280,
          1782,
          926,
          808,
          450,
          468,
          562,
          674,
          950,
          1106,
          1150,
          1414,
          1464,
          1534,
          1752,
          2086,
          3190,
          4610,
          3452,
          3290,
          4028,
          4908,
          6392,
          6916,
          5673,
          4310,
          2748,
          2086,
          1782,
          1646,
          1770,
          1916,
          1792,
          1828,
          1932,
          2538,
          2586
         ]
        },
        {
         "line": {
          "width": 4
         },
         "name": "Taux Passages aux urgences (échelle de droite)",
         "type": "scatter",
         "x": [
          "2020-02-24T00:00:00",
          "2020-03-02T00:00:00",
          "2020-03-09T00:00:00",
          "2020-03-16T00:00:00",
          "2020-03-23T00:00:00",
          "2020-03-30T00:00:00",
          "2020-04-06T00:00:00",
          "2020-04-13T00:00:00",
          "2020-04-20T00:00:00",
          "2020-04-27T00:00:00",
          "2020-05-04T00:00:00",
          "2020-05-11T00:00:00",
          "2020-05-18T00:00:00",
          "2020-05-25T00:00:00",
          "2020-06-01T00:00:00",
          "2020-06-08T00:00:00",
          "2020-06-15T00:00:00",
          "2020-06-22T00:00:00",
          "2020-06-29T00:00:00",
          "2020-07-06T00:00:00",
          "2020-07-13T00:00:00",
          "2020-07-20T00:00:00",
          "2020-07-27T00:00:00",
          "2020-08-03T00:00:00",
          "2020-08-10T00:00:00",
          "2020-08-17T00:00:00",
          "2020-08-24T00:00:00",
          "2020-08-31T00:00:00",
          "2020-09-07T00:00:00",
          "2020-09-14T00:00:00",
          "2020-09-21T00:00:00",
          "2020-09-28T00:00:00",
          "2020-10-05T00:00:00",
          "2020-10-12T00:00:00",
          "2020-10-19T00:00:00",
          "2020-10-26T00:00:00",
          "2020-11-02T00:00:00",
          "2020-11-09T00:00:00",
          "2020-11-16T00:00:00",
          "2020-11-23T00:00:00",
          "2020-11-30T00:00:00",
          "2020-12-07T00:00:00",
          "2020-12-14T00:00:00",
          "2020-12-21T00:00:00",
          "2020-12-28T00:00:00",
          "2021-01-04T00:00:00",
          "2021-01-11T00:00:00",
          "2021-01-18T00:00:00",
          "2021-01-25T00:00:00"
         ],
         "xaxis": "x",
         "y": [
          9.395317373820888e-05,
          0.00520285222522744,
          0.04138255349165295,
          0.1677229644855544,
          0.33049374867556686,
          0.31190981865708217,
          0.2237406920718353,
          0.14621451950421205,
          0.10942968910850319,
          0.08947421672118984,
          0.07539531941808982,
          0.043570017362150514,
          0.031140734265734264,
          0.021779516010755316,
          0.011089953173091893,
          0.009738577058901517,
          0.005169561621174525,
          0.00514313973295236,
          0.0059908963958682,
          0.007349092812281926,
          0.010363146469439626,
          0.012198484564394985,
          0.012799394532989047,
          0.01626670961507489,
          0.01580396178550224,
          0.01688274526204574,
          0.019192428192713013,
          0.02187912986931258,
          0.029157983254725604,
          0.0409464764713197,
          0.0342178563286183,
          0.03495574751112953,
          0.04187240766344065,
          0.053507767784137364,
          0.07202010072898944,
          0.08620109434009299,
          0.07251137583721048,
          0.053858842347295814,
          0.035026001835423676,
          0.02583921714356497,
          0.021724024430384375,
          0.019460405287176942,
          0.020505097312326227,
          0.024154711177227,
          0.021953789233822556,
          0.02174171602559528,
          0.02290592210563756,
          0.028396567349541827,
          0.02883489624566529
         ],
         "yaxis": "y2"
        },
        {
         "line": {
          "width": 4
         },
         "name": "Actes SOS Médecins",
         "type": "scatter",
         "x": [
          "2020-02-24T00:00:00",
          "2020-03-02T00:00:00",
          "2020-03-09T00:00:00",
          "2020-03-16T00:00:00",
          "2020-03-23T00:00:00",
          "2020-03-30T00:00:00",
          "2020-04-06T00:00:00",
          "2020-04-13T00:00:00",
          "2020-04-20T00:00:00",
          "2020-04-27T00:00:00",
          "2020-05-04T00:00:00",
          "2020-05-11T00:00:00",
          "2020-05-18T00:00:00",
          "2020-05-25T00:00:00",
          "2020-06-01T00:00:00",
          "2020-06-08T00:00:00",
          "2020-06-15T00:00:00",
          "2020-06-22T00:00:00",
          "2020-06-29T00:00:00",
          "2020-07-06T00:00:00",
          "2020-07-13T00:00:00",
          "2020-07-20T00:00:00",
          "2020-07-27T00:00:00",
          "2020-08-03T00:00:00",
          "2020-08-10T00:00:00",
          "2020-08-17T00:00:00",
          "2020-08-24T00:00:00",
          "2020-08-31T00:00:00",
          "2020-09-07T00:00:00",
          "2020-09-14T00:00:00",
          "2020-09-21T00:00:00",
          "2020-09-28T00:00:00",
          "2020-10-05T00:00:00",
          "2020-10-12T00:00:00",
          "2020-10-19T00:00:00",
          "2020-10-26T00:00:00",
          "2020-11-02T00:00:00",
          "2020-11-09T00:00:00",
          "2020-11-16T00:00:00",
          "2020-11-23T00:00:00",
          "2020-11-30T00:00:00",
          "2020-12-07T00:00:00",
          "2020-12-14T00:00:00",
          "2020-12-21T00:00:00",
          "2020-12-28T00:00:00",
          "2021-01-04T00:00:00",
          "2021-01-11T00:00:00",
          "2021-01-18T00:00:00",
          "2021-01-25T00:00:00"
         ],
         "y": [
          0,
          130,
          1147,
          4172,
          5800,
          4400,
          2310,
          1588,
          1022,
          895,
          732,
          732,
          733,
          603,
          484,
          348,
          337,
          469,
          657,
          737,
          1002,
          794,
          718,
          660,
          657,
          837,
          1275,
          1487,
          2903,
          2965,
          2235,
          2233,
          2720,
          3047,
          3115,
          2968,
          2253,
          1448,
          887,
          761,
          635,
          783,
          697,
          682,
          685,
          870,
          857,
          904,
          927
         ]
        },
        {
         "line": {
          "width": 4
         },
         "name": "Taux Actes SOS Médecins (échelle de droite)",
         "type": "scatter",
         "x": [
          "2020-02-24T00:00:00",
          "2020-03-02T00:00:00",
          "2020-03-09T00:00:00",
          "2020-03-16T00:00:00",
          "2020-03-23T00:00:00",
          "2020-03-30T00:00:00",
          "2020-04-06T00:00:00",
          "2020-04-13T00:00:00",
          "2020-04-20T00:00:00",
          "2020-04-27T00:00:00",
          "2020-05-04T00:00:00",
          "2020-05-11T00:00:00",
          "2020-05-18T00:00:00",
          "2020-05-25T00:00:00",
          "2020-06-01T00:00:00",
          "2020-06-08T00:00:00",
          "2020-06-15T00:00:00",
          "2020-06-22T00:00:00",
          "2020-06-29T00:00:00",
          "2020-07-06T00:00:00",
          "2020-07-13T00:00:00",
          "2020-07-20T00:00:00",
          "2020-07-27T00:00:00",
          "2020-08-03T00:00:00",
          "2020-08-10T00:00:00",
          "2020-08-17T00:00:00",
          "2020-08-24T00:00:00",
          "2020-08-31T00:00:00",
          "2020-09-07T00:00:00",
          "2020-09-14T00:00:00",
          "2020-09-21T00:00:00",
          "2020-09-28T00:00:00",
          "2020-10-05T00:00:00",
          "2020-10-12T00:00:00",
          "2020-10-19T00:00:00",
          "2020-10-26T00:00:00",
          "2020-11-02T00:00:00",
          "2020-11-09T00:00:00",
          "2020-11-16T00:00:00",
          "2020-11-23T00:00:00",
          "2020-11-30T00:00:00",
          "2020-12-07T00:00:00",
          "2020-12-14T00:00:00",
          "2020-12-21T00:00:00",
          "2020-12-28T00:00:00",
          "2021-01-04T00:00:00",
          "2021-01-11T00:00:00",
          "2021-01-18T00:00:00",
          "2021-01-25T00:00:00"
         ],
         "xaxis": "x",
         "y": [
          0,
          0.0042437893774687424,
          0.03814940464311847,
          0.17873361322937195,
          0.298399958841385,
          0.25194686211635364,
          0.15887207702888584,
          0.11102565895266728,
          0.07768909160015203,
          0.06467697644168233,
          0.05223720830657247,
          0.05622551655273062,
          0.049516989799364995,
          0.0389208029432647,
          0.02912329261688429,
          0.02385685884691849,
          0.02253276277079433,
          0.028709598432908913,
          0.03458804948670703,
          0.04104934833463295,
          0.05525836872001324,
          0.047141245621326364,
          0.044438942873058114,
          0.042258932001536686,
          0.04255181347150259,
          0.05167623634006297,
          0.07222977566281441,
          0.07021105812361302,
          0.1112303153377524,
          0.11965777472860083,
          0.09940402063689735,
          0.10027842644153044,
          0.12079225508482103,
          0.13389286812848794,
          0.14686468646864687,
          0.14801516058248554,
          0.11332997987927565,
          0.07180402657939106,
          0.04683210137275607,
          0.039438225538971805,
          0.03136731871171705,
          0.03611123921966518,
          0.03160281115393335,
          0.03209411764705882,
          0.033455433455433455,
          0.04084507042253521,
          0.03762732701088865,
          0.03711001642036125,
          0.03763549997970038
         ],
         "yaxis": "y2"
        },
        {
         "line": {
          "width": 4
         },
         "name": "Tests positifs",
         "type": "scatter",
         "x": [
          "2020-03-09T00:00:00",
          "2020-03-16T00:00:00",
          "2020-03-23T00:00:00",
          "2020-03-30T00:00:00",
          "2020-04-06T00:00:00",
          "2020-04-13T00:00:00",
          "2020-04-20T00:00:00",
          "2020-04-27T00:00:00",
          "2020-05-04T00:00:00",
          "2020-05-11T00:00:00",
          "2020-05-18T00:00:00",
          "2020-05-25T00:00:00",
          "2020-06-01T00:00:00",
          "2020-06-08T00:00:00",
          "2020-06-15T00:00:00",
          "2020-06-22T00:00:00",
          "2020-06-29T00:00:00",
          "2020-07-06T00:00:00",
          "2020-07-13T00:00:00",
          "2020-07-20T00:00:00",
          "2020-07-27T00:00:00",
          "2020-08-03T00:00:00",
          "2020-08-10T00:00:00",
          "2020-08-17T00:00:00",
          "2020-08-24T00:00:00",
          "2020-08-31T00:00:00",
          "2020-09-07T00:00:00",
          "2020-09-14T00:00:00",
          "2020-09-21T00:00:00",
          "2020-09-28T00:00:00",
          "2020-10-05T00:00:00",
          "2020-10-12T00:00:00",
          "2020-10-19T00:00:00",
          "2020-10-26T00:00:00",
          "2020-11-02T00:00:00",
          "2020-11-09T00:00:00",
          "2020-11-16T00:00:00",
          "2020-11-23T00:00:00",
          "2020-11-30T00:00:00",
          "2020-12-07T00:00:00",
          "2020-12-14T00:00:00",
          "2020-12-21T00:00:00",
          "2020-12-28T00:00:00",
          "2021-01-04T00:00:00",
          "2021-01-11T00:00:00",
          "2021-01-18T00:00:00",
          "2021-01-25T00:00:00"
         ],
         "y": [
          356,
          3102,
          7683,
          8012,
          7431,
          4571,
          2823,
          945,
          576,
          2258,
          2478,
          2342,
          1688,
          1477,
          1520,
          1533,
          1675,
          1948,
          2474,
          3835,
          6084,
          8758,
          11163,
          16309,
          24913,
          29330,
          34761,
          41394,
          43985,
          50495,
          75938,
          92846,
          121358,
          128776,
          93059,
          51326,
          38136,
          28817,
          25656,
          29044,
          34182,
          30117,
          33536,
          45786,
          48031,
          52419,
          54184
         ]
        },
        {
         "line": {
          "width": 4
         },
         "name": "Taux Tests positifs (échelle de droite)",
         "type": "scatter",
         "x": [
          "2020-03-09T00:00:00",
          "2020-03-16T00:00:00",
          "2020-03-23T00:00:00",
          "2020-03-30T00:00:00",
          "2020-04-06T00:00:00",
          "2020-04-13T00:00:00",
          "2020-04-20T00:00:00",
          "2020-04-27T00:00:00",
          "2020-05-04T00:00:00",
          "2020-05-11T00:00:00",
          "2020-05-18T00:00:00",
          "2020-05-25T00:00:00",
          "2020-06-01T00:00:00",
          "2020-06-08T00:00:00",
          "2020-06-15T00:00:00",
          "2020-06-22T00:00:00",
          "2020-06-29T00:00:00",
          "2020-07-06T00:00:00",
          "2020-07-13T00:00:00",
          "2020-07-20T00:00:00",
          "2020-07-27T00:00:00",
          "2020-08-03T00:00:00",
          "2020-08-10T00:00:00",
          "2020-08-17T00:00:00",
          "2020-08-24T00:00:00",
          "2020-08-31T00:00:00",
          "2020-09-07T00:00:00",
          "2020-09-14T00:00:00",
          "2020-09-21T00:00:00",
          "2020-09-28T00:00:00",
          "2020-10-05T00:00:00",
          "2020-10-12T00:00:00",
          "2020-10-19T00:00:00",
          "2020-10-26T00:00:00",
          "2020-11-02T00:00:00",
          "2020-11-09T00:00:00",
          "2020-11-16T00:00:00",
          "2020-11-23T00:00:00",
          "2020-11-30T00:00:00",
          "2020-12-07T00:00:00",
          "2020-12-14T00:00:00",
          "2020-12-21T00:00:00",
          "2020-12-28T00:00:00",
          "2021-01-04T00:00:00",
          "2021-01-11T00:00:00",
          "2021-01-18T00:00:00",
          "2021-01-25T00:00:00"
         ],
         "xaxis": "x",
         "y": [
          0.2701062215477997,
          0.43414975507347797,
          0.45202094487262456,
          0.3735894805558146,
          0.3294467104096471,
          0.21479253794464545,
          0.121843843066166,
          0.0673700720039923,
          0.05082053996823716,
          0.03488228387814373,
          0.02587665253440822,
          0.021700656949862403,
          0.019068921498853378,
          0.015112911972659647,
          0.015589903486189601,
          0.014287445128941163,
          0.011211737852835064,
          0.010935096720593684,
          0.013903641135445293,
          0.01630055936208919,
          0.02117890325028632,
          0.029473131595950892,
          0.039401929328547074,
          0.04722482828914602,
          0.05753513238877149,
          0.06071470711829742,
          0.06696694324734095,
          0.07812488204075162,
          0.0923457090789993,
          0.10764298215507667,
          0.13537778063016326,
          0.13681306860546333,
          0.16668154592264892,
          0.17545442035432593,
          0.1547787152862672,
          0.11673861522155454,
          0.08600850702980167,
          0.0656917500626895,
          0.05867111837817442,
          0.0549547026724288,
          0.03511302177229233,
          0.023571685175517755,
          0.04529278375856094,
          0.05992837808830228,
          0.06139237513117346,
          0.06598797540698816,
          0.06437356245366586
         ],
         "yaxis": "y2"
        },
        {
         "line": {
          "width": 4
         },
         "name": "IRAs",
         "type": "scatter",
         "x": [
          "2020-03-16T00:00:00",
          "2020-03-23T00:00:00",
          "2020-03-30T00:00:00",
          "2020-04-06T00:00:00",
          "2020-04-13T00:00:00",
          "2020-04-20T00:00:00",
          "2020-04-27T00:00:00",
          "2020-05-04T00:00:00",
          "2020-05-11T00:00:00",
          "2020-05-18T00:00:00",
          "2020-05-25T00:00:00",
          "2020-06-01T00:00:00",
          "2020-06-08T00:00:00",
          "2020-06-15T00:00:00",
          "2020-06-22T00:00:00",
          "2020-06-29T00:00:00",
          "2020-07-06T00:00:00",
          "2020-07-13T00:00:00",
          "2020-07-20T00:00:00",
          "2020-07-27T00:00:00",
          "2020-08-03T00:00:00",
          "2020-08-10T00:00:00",
          "2020-08-17T00:00:00",
          "2020-08-24T00:00:00",
          "2020-08-31T00:00:00",
          "2020-09-07T00:00:00",
          "2020-09-14T00:00:00",
          "2020-09-21T00:00:00",
          "2020-09-28T00:00:00",
          "2020-10-05T00:00:00",
          "2020-10-12T00:00:00",
          "2020-10-19T00:00:00",
          "2020-10-26T00:00:00",
          "2020-11-02T00:00:00",
          "2020-11-09T00:00:00",
          "2020-11-16T00:00:00",
          "2020-11-23T00:00:00",
          "2020-11-30T00:00:00",
          "2020-12-07T00:00:00",
          "2020-12-14T00:00:00",
          "2020-12-21T00:00:00",
          "2020-12-28T00:00:00",
          "2021-01-04T00:00:00",
          "2021-01-11T00:00:00",
          "2021-01-18T00:00:00"
         ],
         "y": [
          85199,
          91471.5,
          79834,
          42032.5,
          20850.5,
          14983,
          10598,
          8623,
          7034,
          5527,
          2151,
          953.5,
          1047.5,
          884,
          774.5,
          1082,
          1325,
          951,
          890.5,
          1153.5,
          690.5,
          480,
          1138,
          2626,
          2552.5,
          5100,
          15619,
          19650,
          15709.5,
          16786,
          17923.5,
          17460,
          19340.5,
          16949.5,
          14662,
          11929,
          7396,
          5305,
          4401.5,
          5358,
          4694.5,
          4786,
          8917,
          11506,
          10529.5
         ]
        },
        {
         "line": {
          "width": 4
         },
         "name": "Nombre théorique d'infections",
         "type": "scatter",
         "x": [
          "2019-12-30T00:00:00",
          "2020-01-06T00:00:00",
          "2020-01-13T00:00:00",
          "2020-01-20T00:00:00",
          "2020-01-27T00:00:00",
          "2020-02-03T00:00:00",
          "2020-02-10T00:00:00",
          "2020-02-17T00:00:00",
          "2020-02-24T00:00:00",
          "2020-03-02T00:00:00",
          "2020-03-09T00:00:00",
          "2020-03-16T00:00:00",
          "2020-03-23T00:00:00",
          "2020-03-30T00:00:00",
          "2020-04-06T00:00:00",
          "2020-04-13T00:00:00",
          "2020-04-20T00:00:00",
          "2020-04-27T00:00:00",
          "2020-05-04T00:00:00",
          "2020-05-11T00:00:00",
          "2020-05-18T00:00:00",
          "2020-05-25T00:00:00",
          "2020-06-01T00:00:00",
          "2020-06-08T00:00:00",
          "2020-06-15T00:00:00",
          "2020-06-22T00:00:00",
          "2020-06-29T00:00:00",
          "2020-07-06T00:00:00",
          "2020-07-13T00:00:00",
          "2020-07-20T00:00:00",
          "2020-07-27T00:00:00",
          "2020-08-03T00:00:00",
          "2020-08-10T00:00:00",
          "2020-08-17T00:00:00",
          "2020-08-24T00:00:00",
          "2020-08-31T00:00:00",
          "2020-09-07T00:00:00",
          "2020-09-14T00:00:00",
          "2020-09-21T00:00:00",
          "2020-09-28T00:00:00",
          "2020-10-05T00:00:00",
          "2020-10-12T00:00:00",
          "2020-10-19T00:00:00",
          "2020-10-26T00:00:00",
          "2020-11-02T00:00:00",
          "2020-11-09T00:00:00",
          "2020-11-16T00:00:00",
          "2020-11-23T00:00:00",
          "2020-11-30T00:00:00"
         ],
         "y": [
          5.892879322201853,
          103.67305914961267,
          439.6612148732054,
          1181.1213754091127,
          2654.7752857247156,
          5355.474702719989,
          10415.92482457816,
          19650.927940105925,
          34845.92855019297,
          54839.43503207025,
          71174.14709639437,
          73955.2968756728,
          62231.96152411692,
          42554.525215984475,
          27754.32161693642,
          20963.035307212525,
          16065.965933097319,
          12462.918503620964,
          10035.096306578082,
          7522.169752290603,
          5669.549272964556,
          4312.167526145955,
          2982.767945471987,
          2091.243196609949,
          1982.013989508413,
          2107.425283682499,
          2134.9794911832855,
          2297.9468360014653,
          2488.3721558381717,
          2619.9923415148915,
          2749.2024135564325,
          2947.0913055029496,
          2990.1047869720346,
          3281.955964108923,
          4256.427448756171,
          5460.096322889443,
          6844.396469978787,
          8911.830913127907,
          11598.699411467325,
          15165.69672783956,
          19202.054063946416,
          22874.337258818112,
          24813.85001048182,
          22612.461583186316,
          18115.481449200255,
          15565.707250308491,
          14286.97219008365,
          13112.35051386837,
          11820.861467397304
         ]
        },
        {
         "line": {
          "color": "white"
         },
         "name": "",
         "type": "scatter",
         "x": [
          "2020-01-01T00:00:00",
          "2021-02-02T00:00:00"
         ],
         "y": [
          0,
          0
         ]
        }
       ],
       "layout": {
        "template": {
         "data": {
          "bar": [
           {
            "error_x": {
             "color": "#2a3f5f"
            },
            "error_y": {
             "color": "#2a3f5f"
            },
            "marker": {
             "line": {
              "color": "#E5ECF6",
              "width": 0.5
             }
            },
            "type": "bar"
           }
          ],
          "barpolar": [
           {
            "marker": {
             "line": {
              "color": "#E5ECF6",
              "width": 0.5
             }
            },
            "type": "barpolar"
           }
          ],
          "carpet": [
           {
            "aaxis": {
             "endlinecolor": "#2a3f5f",
             "gridcolor": "white",
             "linecolor": "white",
             "minorgridcolor": "white",
             "startlinecolor": "#2a3f5f"
            },
            "baxis": {
             "endlinecolor": "#2a3f5f",
             "gridcolor": "white",
             "linecolor": "white",
             "minorgridcolor": "white",
             "startlinecolor": "#2a3f5f"
            },
            "type": "carpet"
           }
          ],
          "choropleth": [
           {
            "colorbar": {
             "outlinewidth": 0,
             "ticks": ""
            },
            "type": "choropleth"
           }
          ],
          "contour": [
           {
            "colorbar": {
             "outlinewidth": 0,
             "ticks": ""
            },
            "colorscale": [
             [
              0,
              "#0d0887"
             ],
             [
              0.1111111111111111,
              "#46039f"
             ],
             [
              0.2222222222222222,
              "#7201a8"
             ],
             [
              0.3333333333333333,
              "#9c179e"
             ],
             [
              0.4444444444444444,
              "#bd3786"
             ],
             [
              0.5555555555555556,
              "#d8576b"
             ],
             [
              0.6666666666666666,
              "#ed7953"
             ],
             [
              0.7777777777777778,
              "#fb9f3a"
             ],
             [
              0.8888888888888888,
              "#fdca26"
             ],
             [
              1,
              "#f0f921"
             ]
            ],
            "type": "contour"
           }
          ],
          "contourcarpet": [
           {
            "colorbar": {
             "outlinewidth": 0,
             "ticks": ""
            },
            "type": "contourcarpet"
           }
          ],
          "heatmap": [
           {
            "colorbar": {
             "outlinewidth": 0,
             "ticks": ""
            },
            "colorscale": [
             [
              0,
              "#0d0887"
             ],
             [
              0.1111111111111111,
              "#46039f"
             ],
             [
              0.2222222222222222,
              "#7201a8"
             ],
             [
              0.3333333333333333,
              "#9c179e"
             ],
             [
              0.4444444444444444,
              "#bd3786"
             ],
             [
              0.5555555555555556,
              "#d8576b"
             ],
             [
              0.6666666666666666,
              "#ed7953"
             ],
             [
              0.7777777777777778,
              "#fb9f3a"
             ],
             [
              0.8888888888888888,
              "#fdca26"
             ],
             [
              1,
              "#f0f921"
             ]
            ],
            "type": "heatmap"
           }
          ],
          "heatmapgl": [
           {
            "colorbar": {
             "outlinewidth": 0,
             "ticks": ""
            },
            "colorscale": [
             [
              0,
              "#0d0887"
             ],
             [
              0.1111111111111111,
              "#46039f"
             ],
             [
              0.2222222222222222,
              "#7201a8"
             ],
             [
              0.3333333333333333,
              "#9c179e"
             ],
             [
              0.4444444444444444,
              "#bd3786"
             ],
             [
              0.5555555555555556,
              "#d8576b"
             ],
             [
              0.6666666666666666,
              "#ed7953"
             ],
             [
              0.7777777777777778,
              "#fb9f3a"
             ],
             [
              0.8888888888888888,
              "#fdca26"
             ],
             [
              1,
              "#f0f921"
             ]
            ],
            "type": "heatmapgl"
           }
          ],
          "histogram": [
           {
            "marker": {
             "colorbar": {
              "outlinewidth": 0,
              "ticks": ""
             }
            },
            "type": "histogram"
           }
          ],
          "histogram2d": [
           {
            "colorbar": {
             "outlinewidth": 0,
             "ticks": ""
            },
            "colorscale": [
             [
              0,
              "#0d0887"
             ],
             [
              0.1111111111111111,
              "#46039f"
             ],
             [
              0.2222222222222222,
              "#7201a8"
             ],
             [
              0.3333333333333333,
              "#9c179e"
             ],
             [
              0.4444444444444444,
              "#bd3786"
             ],
             [
              0.5555555555555556,
              "#d8576b"
             ],
             [
              0.6666666666666666,
              "#ed7953"
             ],
             [
              0.7777777777777778,
              "#fb9f3a"
             ],
             [
              0.8888888888888888,
              "#fdca26"
             ],
             [
              1,
              "#f0f921"
             ]
            ],
            "type": "histogram2d"
           }
          ],
          "histogram2dcontour": [
           {
            "colorbar": {
             "outlinewidth": 0,
             "ticks": ""
            },
            "colorscale": [
             [
              0,
              "#0d0887"
             ],
             [
              0.1111111111111111,
              "#46039f"
             ],
             [
              0.2222222222222222,
              "#7201a8"
             ],
             [
              0.3333333333333333,
              "#9c179e"
             ],
             [
              0.4444444444444444,
              "#bd3786"
             ],
             [
              0.5555555555555556,
              "#d8576b"
             ],
             [
              0.6666666666666666,
              "#ed7953"
             ],
             [
              0.7777777777777778,
              "#fb9f3a"
             ],
             [
              0.8888888888888888,
              "#fdca26"
             ],
             [
              1,
              "#f0f921"
             ]
            ],
            "type": "histogram2dcontour"
           }
          ],
          "mesh3d": [
           {
            "colorbar": {
             "outlinewidth": 0,
             "ticks": ""
            },
            "type": "mesh3d"
           }
          ],
          "parcoords": [
           {
            "line": {
             "colorbar": {
              "outlinewidth": 0,
              "ticks": ""
             }
            },
            "type": "parcoords"
           }
          ],
          "pie": [
           {
            "automargin": true,
            "type": "pie"
           }
          ],
          "scatter": [
           {
            "marker": {
             "colorbar": {
              "outlinewidth": 0,
              "ticks": ""
             }
            },
            "type": "scatter"
           }
          ],
          "scatter3d": [
           {
            "line": {
             "colorbar": {
              "outlinewidth": 0,
              "ticks": ""
             }
            },
            "marker": {
             "colorbar": {
              "outlinewidth": 0,
              "ticks": ""
             }
            },
            "type": "scatter3d"
           }
          ],
          "scattercarpet": [
           {
            "marker": {
             "colorbar": {
              "outlinewidth": 0,
              "ticks": ""
             }
            },
            "type": "scattercarpet"
           }
          ],
          "scattergeo": [
           {
            "marker": {
             "colorbar": {
              "outlinewidth": 0,
              "ticks": ""
             }
            },
            "type": "scattergeo"
           }
          ],
          "scattergl": [
           {
            "marker": {
             "colorbar": {
              "outlinewidth": 0,
              "ticks": ""
             }
            },
            "type": "scattergl"
           }
          ],
          "scattermapbox": [
           {
            "marker": {
             "colorbar": {
              "outlinewidth": 0,
              "ticks": ""
             }
            },
            "type": "scattermapbox"
           }
          ],
          "scatterpolar": [
           {
            "marker": {
             "colorbar": {
              "outlinewidth": 0,
              "ticks": ""
             }
            },
            "type": "scatterpolar"
           }
          ],
          "scatterpolargl": [
           {
            "marker": {
             "colorbar": {
              "outlinewidth": 0,
              "ticks": ""
             }
            },
            "type": "scatterpolargl"
           }
          ],
          "scatterternary": [
           {
            "marker": {
             "colorbar": {
              "outlinewidth": 0,
              "ticks": ""
             }
            },
            "type": "scatterternary"
           }
          ],
          "surface": [
           {
            "colorbar": {
             "outlinewidth": 0,
             "ticks": ""
            },
            "colorscale": [
             [
              0,
              "#0d0887"
             ],
             [
              0.1111111111111111,
              "#46039f"
             ],
             [
              0.2222222222222222,
              "#7201a8"
             ],
             [
              0.3333333333333333,
              "#9c179e"
             ],
             [
              0.4444444444444444,
              "#bd3786"
             ],
             [
              0.5555555555555556,
              "#d8576b"
             ],
             [
              0.6666666666666666,
              "#ed7953"
             ],
             [
              0.7777777777777778,
              "#fb9f3a"
             ],
             [
              0.8888888888888888,
              "#fdca26"
             ],
             [
              1,
              "#f0f921"
             ]
            ],
            "type": "surface"
           }
          ],
          "table": [
           {
            "cells": {
             "fill": {
              "color": "#EBF0F8"
             },
             "line": {
              "color": "white"
             }
            },
            "header": {
             "fill": {
              "color": "#C8D4E3"
             },
             "line": {
              "color": "white"
             }
            },
            "type": "table"
           }
          ]
         },
         "layout": {
          "annotationdefaults": {
           "arrowcolor": "#2a3f5f",
           "arrowhead": 0,
           "arrowwidth": 1
          },
          "coloraxis": {
           "colorbar": {
            "outlinewidth": 0,
            "ticks": ""
           }
          },
          "colorscale": {
           "diverging": [
            [
             0,
             "#8e0152"
            ],
            [
             0.1,
             "#c51b7d"
            ],
            [
             0.2,
             "#de77ae"
            ],
            [
             0.3,
             "#f1b6da"
            ],
            [
             0.4,
             "#fde0ef"
            ],
            [
             0.5,
             "#f7f7f7"
            ],
            [
             0.6,
             "#e6f5d0"
            ],
            [
             0.7,
             "#b8e186"
            ],
            [
             0.8,
             "#7fbc41"
            ],
            [
             0.9,
             "#4d9221"
            ],
            [
             1,
             "#276419"
            ]
           ],
           "sequential": [
            [
             0,
             "#0d0887"
            ],
            [
             0.1111111111111111,
             "#46039f"
            ],
            [
             0.2222222222222222,
             "#7201a8"
            ],
            [
             0.3333333333333333,
             "#9c179e"
            ],
            [
             0.4444444444444444,
             "#bd3786"
            ],
            [
             0.5555555555555556,
             "#d8576b"
            ],
            [
             0.6666666666666666,
             "#ed7953"
            ],
            [
             0.7777777777777778,
             "#fb9f3a"
            ],
            [
             0.8888888888888888,
             "#fdca26"
            ],
            [
             1,
             "#f0f921"
            ]
           ],
           "sequentialminus": [
            [
             0,
             "#0d0887"
            ],
            [
             0.1111111111111111,
             "#46039f"
            ],
            [
             0.2222222222222222,
             "#7201a8"
            ],
            [
             0.3333333333333333,
             "#9c179e"
            ],
            [
             0.4444444444444444,
             "#bd3786"
            ],
            [
             0.5555555555555556,
             "#d8576b"
            ],
            [
             0.6666666666666666,
             "#ed7953"
            ],
            [
             0.7777777777777778,
             "#fb9f3a"
            ],
            [
             0.8888888888888888,
             "#fdca26"
            ],
            [
             1,
             "#f0f921"
            ]
           ]
          },
          "colorway": [
           "#636efa",
           "#EF553B",
           "#00cc96",
           "#ab63fa",
           "#FFA15A",
           "#19d3f3",
           "#FF6692",
           "#B6E880",
           "#FF97FF",
           "#FECB52"
          ],
          "font": {
           "color": "#2a3f5f"
          },
          "geo": {
           "bgcolor": "white",
           "lakecolor": "white",
           "landcolor": "#E5ECF6",
           "showlakes": true,
           "showland": true,
           "subunitcolor": "white"
          },
          "hoverlabel": {
           "align": "left"
          },
          "hovermode": "closest",
          "mapbox": {
           "style": "light"
          },
          "paper_bgcolor": "white",
          "plot_bgcolor": "#E5ECF6",
          "polar": {
           "angularaxis": {
            "gridcolor": "white",
            "linecolor": "white",
            "ticks": ""
           },
           "bgcolor": "#E5ECF6",
           "radialaxis": {
            "gridcolor": "white",
            "linecolor": "white",
            "ticks": ""
           }
          },
          "scene": {
           "xaxis": {
            "backgroundcolor": "#E5ECF6",
            "gridcolor": "white",
            "gridwidth": 2,
            "linecolor": "white",
            "showbackground": true,
            "ticks": "",
            "zerolinecolor": "white"
           },
           "yaxis": {
            "backgroundcolor": "#E5ECF6",
            "gridcolor": "white",
            "gridwidth": 2,
            "linecolor": "white",
            "showbackground": true,
            "ticks": "",
            "zerolinecolor": "white"
           },
           "zaxis": {
            "backgroundcolor": "#E5ECF6",
            "gridcolor": "white",
            "gridwidth": 2,
            "linecolor": "white",
            "showbackground": true,
            "ticks": "",
            "zerolinecolor": "white"
           }
          },
          "shapedefaults": {
           "line": {
            "color": "#2a3f5f"
           }
          },
          "ternary": {
           "aaxis": {
            "gridcolor": "white",
            "linecolor": "white",
            "ticks": ""
           },
           "baxis": {
            "gridcolor": "white",
            "linecolor": "white",
            "ticks": ""
           },
           "bgcolor": "#E5ECF6",
           "caxis": {
            "gridcolor": "white",
            "linecolor": "white",
            "ticks": ""
           }
          },
          "title": {
           "x": 0.05
          },
          "xaxis": {
           "automargin": true,
           "gridcolor": "white",
           "linecolor": "white",
           "ticks": "",
           "title": {
            "standoff": 15
           },
           "zerolinecolor": "white",
           "zerolinewidth": 2
          },
          "yaxis": {
           "automargin": true,
           "gridcolor": "white",
           "linecolor": "white",
           "ticks": "",
           "title": {
            "standoff": 15
           },
           "zerolinecolor": "white",
           "zerolinewidth": 2
          }
         }
        },
        "xaxis": {
         "anchor": "y",
         "domain": [
          0,
          0.94
         ]
        },
        "yaxis": {
         "anchor": "x",
         "domain": [
          0,
          1
         ]
        },
        "yaxis2": {
         "anchor": "x",
         "overlaying": "y",
         "side": "right"
        }
       }
      },
      "text/html": [
       "<div>                            <div id=\"b254cf4e-7205-4812-9bed-aa60f7286c2d\" class=\"plotly-graph-div\" style=\"height:525px; width:100%;\"></div>            <script type=\"text/javascript\">                require([\"plotly\"], function(Plotly) {                    window.PLOTLYENV=window.PLOTLYENV || {};                                    if (document.getElementById(\"b254cf4e-7205-4812-9bed-aa60f7286c2d\")) {                    Plotly.newPlot(                        \"b254cf4e-7205-4812-9bed-aa60f7286c2d\",                        [{\"line\": {\"width\": 4}, \"name\": \"D\\u00e9c\\u00e8s hospitaliers\", \"type\": \"scatter\", \"x\": [\"2020-03-16T00:00:00\", \"2020-03-23T00:00:00\", \"2020-03-30T00:00:00\", \"2020-04-06T00:00:00\", \"2020-04-13T00:00:00\", \"2020-04-20T00:00:00\", \"2020-04-27T00:00:00\", \"2020-05-04T00:00:00\", \"2020-05-11T00:00:00\", \"2020-05-18T00:00:00\", \"2020-05-25T00:00:00\", \"2020-06-01T00:00:00\", \"2020-06-08T00:00:00\", \"2020-06-15T00:00:00\", \"2020-06-22T00:00:00\", \"2020-06-29T00:00:00\", \"2020-07-06T00:00:00\", \"2020-07-13T00:00:00\", \"2020-07-20T00:00:00\", \"2020-07-27T00:00:00\", \"2020-08-03T00:00:00\", \"2020-08-10T00:00:00\", \"2020-08-17T00:00:00\", \"2020-08-24T00:00:00\", \"2020-08-31T00:00:00\", \"2020-09-07T00:00:00\", \"2020-09-14T00:00:00\", \"2020-09-21T00:00:00\", \"2020-09-28T00:00:00\", \"2020-10-05T00:00:00\", \"2020-10-12T00:00:00\", \"2020-10-19T00:00:00\", \"2020-10-26T00:00:00\", \"2020-11-02T00:00:00\", \"2020-11-09T00:00:00\", \"2020-11-16T00:00:00\", \"2020-11-23T00:00:00\", \"2020-11-30T00:00:00\", \"2020-12-07T00:00:00\", \"2020-12-14T00:00:00\", \"2020-12-21T00:00:00\", \"2020-12-28T00:00:00\", \"2021-01-04T00:00:00\", \"2021-01-11T00:00:00\", \"2021-01-18T00:00:00\", \"2021-01-25T00:00:00\"], \"y\": [222.0, 1312.0, 2582.0, 2877.0, 2409.0, 1636.0, 1071.0, 717.0, 505.0, 380.0, 373.0, 248.0, 197.0, 114.0, 84.0, 66.0, 75.0, 50.0, 44.0, 53.0, 66.0, 48.0, 97.0, 61.0, 90.0, 77.0, 318.0, 168.0, 206.0, 251.0, 353.0, 534.0, 671.0, 894.0, 1076.0, 854.0, 733.0, 607.0, 643.0, 531.0, 473.0, 488.0, 575.0, 528.0, 585.0, 622.0]}, {\"line\": {\"width\": 4}, \"name\": \"Passages aux urgences\", \"type\": \"scatter\", \"x\": [\"2020-02-24T00:00:00\", \"2020-03-02T00:00:00\", \"2020-03-09T00:00:00\", \"2020-03-16T00:00:00\", \"2020-03-23T00:00:00\", \"2020-03-30T00:00:00\", \"2020-04-06T00:00:00\", \"2020-04-13T00:00:00\", \"2020-04-20T00:00:00\", \"2020-04-27T00:00:00\", \"2020-05-04T00:00:00\", \"2020-05-11T00:00:00\", \"2020-05-18T00:00:00\", \"2020-05-25T00:00:00\", \"2020-06-01T00:00:00\", \"2020-06-08T00:00:00\", \"2020-06-15T00:00:00\", \"2020-06-22T00:00:00\", \"2020-06-29T00:00:00\", \"2020-07-06T00:00:00\", \"2020-07-13T00:00:00\", \"2020-07-20T00:00:00\", \"2020-07-27T00:00:00\", \"2020-08-03T00:00:00\", \"2020-08-10T00:00:00\", \"2020-08-17T00:00:00\", \"2020-08-24T00:00:00\", \"2020-08-31T00:00:00\", \"2020-09-07T00:00:00\", \"2020-09-14T00:00:00\", \"2020-09-21T00:00:00\", \"2020-09-28T00:00:00\", \"2020-10-05T00:00:00\", \"2020-10-12T00:00:00\", \"2020-10-19T00:00:00\", \"2020-10-26T00:00:00\", \"2020-11-02T00:00:00\", \"2020-11-09T00:00:00\", \"2020-11-16T00:00:00\", \"2020-11-23T00:00:00\", \"2020-11-30T00:00:00\", \"2020-12-07T00:00:00\", \"2020-12-14T00:00:00\", \"2020-12-21T00:00:00\", \"2020-12-28T00:00:00\", \"2021-01-04T00:00:00\", \"2021-01-11T00:00:00\", \"2021-01-18T00:00:00\", \"2021-01-25T00:00:00\"], \"y\": [10.0, 529.0, 4224.0, 11750.0, 23394.0, 19092.0, 12770.0, 8175.0, 6378.0, 5306.0, 4768.0, 2911.0, 2280.0, 1782.0, 926.0, 808.0, 450.0, 468.0, 562.0, 674.0, 950.0, 1106.0, 1150.0, 1414.0, 1464.0, 1534.0, 1752.0, 2086.0, 3190.0, 4610.0, 3452.0, 3290.0, 4028.0, 4908.0, 6392.0, 6916.0, 5673.0, 4310.0, 2748.0, 2086.0, 1782.0, 1646.0, 1770.0, 1916.0, 1792.0, 1828.0, 1932.0, 2538.0, 2586.0]}, {\"line\": {\"width\": 4}, \"name\": \"Taux Passages aux urgences (\\u00e9chelle de droite)\", \"type\": \"scatter\", \"x\": [\"2020-02-24T00:00:00\", \"2020-03-02T00:00:00\", \"2020-03-09T00:00:00\", \"2020-03-16T00:00:00\", \"2020-03-23T00:00:00\", \"2020-03-30T00:00:00\", \"2020-04-06T00:00:00\", \"2020-04-13T00:00:00\", \"2020-04-20T00:00:00\", \"2020-04-27T00:00:00\", \"2020-05-04T00:00:00\", \"2020-05-11T00:00:00\", \"2020-05-18T00:00:00\", \"2020-05-25T00:00:00\", \"2020-06-01T00:00:00\", \"2020-06-08T00:00:00\", \"2020-06-15T00:00:00\", \"2020-06-22T00:00:00\", \"2020-06-29T00:00:00\", \"2020-07-06T00:00:00\", \"2020-07-13T00:00:00\", \"2020-07-20T00:00:00\", \"2020-07-27T00:00:00\", \"2020-08-03T00:00:00\", \"2020-08-10T00:00:00\", \"2020-08-17T00:00:00\", \"2020-08-24T00:00:00\", \"2020-08-31T00:00:00\", \"2020-09-07T00:00:00\", \"2020-09-14T00:00:00\", \"2020-09-21T00:00:00\", \"2020-09-28T00:00:00\", \"2020-10-05T00:00:00\", \"2020-10-12T00:00:00\", \"2020-10-19T00:00:00\", \"2020-10-26T00:00:00\", \"2020-11-02T00:00:00\", \"2020-11-09T00:00:00\", \"2020-11-16T00:00:00\", \"2020-11-23T00:00:00\", \"2020-11-30T00:00:00\", \"2020-12-07T00:00:00\", \"2020-12-14T00:00:00\", \"2020-12-21T00:00:00\", \"2020-12-28T00:00:00\", \"2021-01-04T00:00:00\", \"2021-01-11T00:00:00\", \"2021-01-18T00:00:00\", \"2021-01-25T00:00:00\"], \"xaxis\": \"x\", \"y\": [9.395317373820888e-05, 0.00520285222522744, 0.04138255349165295, 0.1677229644855544, 0.33049374867556686, 0.31190981865708217, 0.2237406920718353, 0.14621451950421205, 0.10942968910850319, 0.08947421672118984, 0.07539531941808982, 0.043570017362150514, 0.031140734265734264, 0.021779516010755316, 0.011089953173091893, 0.009738577058901517, 0.005169561621174525, 0.00514313973295236, 0.0059908963958682, 0.007349092812281926, 0.010363146469439626, 0.012198484564394985, 0.012799394532989047, 0.01626670961507489, 0.01580396178550224, 0.01688274526204574, 0.019192428192713013, 0.02187912986931258, 0.029157983254725604, 0.0409464764713197, 0.0342178563286183, 0.03495574751112953, 0.04187240766344065, 0.053507767784137364, 0.07202010072898944, 0.08620109434009299, 0.07251137583721048, 0.053858842347295814, 0.035026001835423676, 0.02583921714356497, 0.021724024430384375, 0.019460405287176942, 0.020505097312326227, 0.024154711177227, 0.021953789233822556, 0.02174171602559528, 0.02290592210563756, 0.028396567349541827, 0.02883489624566529], \"yaxis\": \"y2\"}, {\"line\": {\"width\": 4}, \"name\": \"Actes SOS M\\u00e9decins\", \"type\": \"scatter\", \"x\": [\"2020-02-24T00:00:00\", \"2020-03-02T00:00:00\", \"2020-03-09T00:00:00\", \"2020-03-16T00:00:00\", \"2020-03-23T00:00:00\", \"2020-03-30T00:00:00\", \"2020-04-06T00:00:00\", \"2020-04-13T00:00:00\", \"2020-04-20T00:00:00\", \"2020-04-27T00:00:00\", \"2020-05-04T00:00:00\", \"2020-05-11T00:00:00\", \"2020-05-18T00:00:00\", \"2020-05-25T00:00:00\", \"2020-06-01T00:00:00\", \"2020-06-08T00:00:00\", \"2020-06-15T00:00:00\", \"2020-06-22T00:00:00\", \"2020-06-29T00:00:00\", \"2020-07-06T00:00:00\", \"2020-07-13T00:00:00\", \"2020-07-20T00:00:00\", \"2020-07-27T00:00:00\", \"2020-08-03T00:00:00\", \"2020-08-10T00:00:00\", \"2020-08-17T00:00:00\", \"2020-08-24T00:00:00\", \"2020-08-31T00:00:00\", \"2020-09-07T00:00:00\", \"2020-09-14T00:00:00\", \"2020-09-21T00:00:00\", \"2020-09-28T00:00:00\", \"2020-10-05T00:00:00\", \"2020-10-12T00:00:00\", \"2020-10-19T00:00:00\", \"2020-10-26T00:00:00\", \"2020-11-02T00:00:00\", \"2020-11-09T00:00:00\", \"2020-11-16T00:00:00\", \"2020-11-23T00:00:00\", \"2020-11-30T00:00:00\", \"2020-12-07T00:00:00\", \"2020-12-14T00:00:00\", \"2020-12-21T00:00:00\", \"2020-12-28T00:00:00\", \"2021-01-04T00:00:00\", \"2021-01-11T00:00:00\", \"2021-01-18T00:00:00\", \"2021-01-25T00:00:00\"], \"y\": [0.0, 130.0, 1147.0, 4172.0, 5800.0, 4400.0, 2310.0, 1588.0, 1022.0, 895.0, 732.0, 732.0, 733.0, 603.0, 484.0, 348.0, 337.0, 469.0, 657.0, 737.0, 1002.0, 794.0, 718.0, 660.0, 657.0, 837.0, 1275.0, 1487.0, 2903.0, 2965.0, 2235.0, 2233.0, 2720.0, 3047.0, 3115.0, 2968.0, 2253.0, 1448.0, 887.0, 761.0, 635.0, 783.0, 697.0, 682.0, 685.0, 870.0, 857.0, 904.0, 927.0]}, {\"line\": {\"width\": 4}, \"name\": \"Taux Actes SOS M\\u00e9decins (\\u00e9chelle de droite)\", \"type\": \"scatter\", \"x\": [\"2020-02-24T00:00:00\", \"2020-03-02T00:00:00\", \"2020-03-09T00:00:00\", \"2020-03-16T00:00:00\", \"2020-03-23T00:00:00\", \"2020-03-30T00:00:00\", \"2020-04-06T00:00:00\", \"2020-04-13T00:00:00\", \"2020-04-20T00:00:00\", \"2020-04-27T00:00:00\", \"2020-05-04T00:00:00\", \"2020-05-11T00:00:00\", \"2020-05-18T00:00:00\", \"2020-05-25T00:00:00\", \"2020-06-01T00:00:00\", \"2020-06-08T00:00:00\", \"2020-06-15T00:00:00\", \"2020-06-22T00:00:00\", \"2020-06-29T00:00:00\", \"2020-07-06T00:00:00\", \"2020-07-13T00:00:00\", \"2020-07-20T00:00:00\", \"2020-07-27T00:00:00\", \"2020-08-03T00:00:00\", \"2020-08-10T00:00:00\", \"2020-08-17T00:00:00\", \"2020-08-24T00:00:00\", \"2020-08-31T00:00:00\", \"2020-09-07T00:00:00\", \"2020-09-14T00:00:00\", \"2020-09-21T00:00:00\", \"2020-09-28T00:00:00\", \"2020-10-05T00:00:00\", \"2020-10-12T00:00:00\", \"2020-10-19T00:00:00\", \"2020-10-26T00:00:00\", \"2020-11-02T00:00:00\", \"2020-11-09T00:00:00\", \"2020-11-16T00:00:00\", \"2020-11-23T00:00:00\", \"2020-11-30T00:00:00\", \"2020-12-07T00:00:00\", \"2020-12-14T00:00:00\", \"2020-12-21T00:00:00\", \"2020-12-28T00:00:00\", \"2021-01-04T00:00:00\", \"2021-01-11T00:00:00\", \"2021-01-18T00:00:00\", \"2021-01-25T00:00:00\"], \"xaxis\": \"x\", \"y\": [0.0, 0.0042437893774687424, 0.03814940464311847, 0.17873361322937195, 0.298399958841385, 0.25194686211635364, 0.15887207702888584, 0.11102565895266728, 0.07768909160015203, 0.06467697644168233, 0.05223720830657247, 0.05622551655273062, 0.049516989799364995, 0.0389208029432647, 0.02912329261688429, 0.02385685884691849, 0.02253276277079433, 0.028709598432908913, 0.03458804948670703, 0.04104934833463295, 0.05525836872001324, 0.047141245621326364, 0.044438942873058114, 0.042258932001536686, 0.04255181347150259, 0.05167623634006297, 0.07222977566281441, 0.07021105812361302, 0.1112303153377524, 0.11965777472860083, 0.09940402063689735, 0.10027842644153044, 0.12079225508482103, 0.13389286812848794, 0.14686468646864687, 0.14801516058248554, 0.11332997987927565, 0.07180402657939106, 0.04683210137275607, 0.039438225538971805, 0.03136731871171705, 0.03611123921966518, 0.03160281115393335, 0.03209411764705882, 0.033455433455433455, 0.04084507042253521, 0.03762732701088865, 0.03711001642036125, 0.03763549997970038], \"yaxis\": \"y2\"}, {\"line\": {\"width\": 4}, \"name\": \"Tests positifs\", \"type\": \"scatter\", \"x\": [\"2020-03-09T00:00:00\", \"2020-03-16T00:00:00\", \"2020-03-23T00:00:00\", \"2020-03-30T00:00:00\", \"2020-04-06T00:00:00\", \"2020-04-13T00:00:00\", \"2020-04-20T00:00:00\", \"2020-04-27T00:00:00\", \"2020-05-04T00:00:00\", \"2020-05-11T00:00:00\", \"2020-05-18T00:00:00\", \"2020-05-25T00:00:00\", \"2020-06-01T00:00:00\", \"2020-06-08T00:00:00\", \"2020-06-15T00:00:00\", \"2020-06-22T00:00:00\", \"2020-06-29T00:00:00\", \"2020-07-06T00:00:00\", \"2020-07-13T00:00:00\", \"2020-07-20T00:00:00\", \"2020-07-27T00:00:00\", \"2020-08-03T00:00:00\", \"2020-08-10T00:00:00\", \"2020-08-17T00:00:00\", \"2020-08-24T00:00:00\", \"2020-08-31T00:00:00\", \"2020-09-07T00:00:00\", \"2020-09-14T00:00:00\", \"2020-09-21T00:00:00\", \"2020-09-28T00:00:00\", \"2020-10-05T00:00:00\", \"2020-10-12T00:00:00\", \"2020-10-19T00:00:00\", \"2020-10-26T00:00:00\", \"2020-11-02T00:00:00\", \"2020-11-09T00:00:00\", \"2020-11-16T00:00:00\", \"2020-11-23T00:00:00\", \"2020-11-30T00:00:00\", \"2020-12-07T00:00:00\", \"2020-12-14T00:00:00\", \"2020-12-21T00:00:00\", \"2020-12-28T00:00:00\", \"2021-01-04T00:00:00\", \"2021-01-11T00:00:00\", \"2021-01-18T00:00:00\", \"2021-01-25T00:00:00\"], \"y\": [356, 3102, 7683, 8012, 7431, 4571, 2823, 945, 576, 2258, 2478, 2342, 1688, 1477, 1520, 1533, 1675, 1948, 2474, 3835, 6084, 8758, 11163, 16309, 24913, 29330, 34761, 41394, 43985, 50495, 75938, 92846, 121358, 128776, 93059, 51326, 38136, 28817, 25656, 29044, 34182, 30117, 33536, 45786, 48031, 52419, 54184]}, {\"line\": {\"width\": 4}, \"name\": \"Taux Tests positifs (\\u00e9chelle de droite)\", \"type\": \"scatter\", \"x\": [\"2020-03-09T00:00:00\", \"2020-03-16T00:00:00\", \"2020-03-23T00:00:00\", \"2020-03-30T00:00:00\", \"2020-04-06T00:00:00\", \"2020-04-13T00:00:00\", \"2020-04-20T00:00:00\", \"2020-04-27T00:00:00\", \"2020-05-04T00:00:00\", \"2020-05-11T00:00:00\", \"2020-05-18T00:00:00\", \"2020-05-25T00:00:00\", \"2020-06-01T00:00:00\", \"2020-06-08T00:00:00\", \"2020-06-15T00:00:00\", \"2020-06-22T00:00:00\", \"2020-06-29T00:00:00\", \"2020-07-06T00:00:00\", \"2020-07-13T00:00:00\", \"2020-07-20T00:00:00\", \"2020-07-27T00:00:00\", \"2020-08-03T00:00:00\", \"2020-08-10T00:00:00\", \"2020-08-17T00:00:00\", \"2020-08-24T00:00:00\", \"2020-08-31T00:00:00\", \"2020-09-07T00:00:00\", \"2020-09-14T00:00:00\", \"2020-09-21T00:00:00\", \"2020-09-28T00:00:00\", \"2020-10-05T00:00:00\", \"2020-10-12T00:00:00\", \"2020-10-19T00:00:00\", \"2020-10-26T00:00:00\", \"2020-11-02T00:00:00\", \"2020-11-09T00:00:00\", \"2020-11-16T00:00:00\", \"2020-11-23T00:00:00\", \"2020-11-30T00:00:00\", \"2020-12-07T00:00:00\", \"2020-12-14T00:00:00\", \"2020-12-21T00:00:00\", \"2020-12-28T00:00:00\", \"2021-01-04T00:00:00\", \"2021-01-11T00:00:00\", \"2021-01-18T00:00:00\", \"2021-01-25T00:00:00\"], \"xaxis\": \"x\", \"y\": [0.2701062215477997, 0.43414975507347797, 0.45202094487262456, 0.3735894805558146, 0.3294467104096471, 0.21479253794464545, 0.121843843066166, 0.0673700720039923, 0.05082053996823716, 0.03488228387814373, 0.02587665253440822, 0.021700656949862403, 0.019068921498853378, 0.015112911972659647, 0.015589903486189601, 0.014287445128941163, 0.011211737852835064, 0.010935096720593684, 0.013903641135445293, 0.01630055936208919, 0.02117890325028632, 0.029473131595950892, 0.039401929328547074, 0.04722482828914602, 0.05753513238877149, 0.06071470711829742, 0.06696694324734095, 0.07812488204075162, 0.0923457090789993, 0.10764298215507667, 0.13537778063016326, 0.13681306860546333, 0.16668154592264892, 0.17545442035432593, 0.1547787152862672, 0.11673861522155454, 0.08600850702980167, 0.0656917500626895, 0.05867111837817442, 0.0549547026724288, 0.03511302177229233, 0.023571685175517755, 0.04529278375856094, 0.05992837808830228, 0.06139237513117346, 0.06598797540698816, 0.06437356245366586], \"yaxis\": \"y2\"}, {\"line\": {\"width\": 4}, \"name\": \"IRAs\", \"type\": \"scatter\", \"x\": [\"2020-03-16T00:00:00\", \"2020-03-23T00:00:00\", \"2020-03-30T00:00:00\", \"2020-04-06T00:00:00\", \"2020-04-13T00:00:00\", \"2020-04-20T00:00:00\", \"2020-04-27T00:00:00\", \"2020-05-04T00:00:00\", \"2020-05-11T00:00:00\", \"2020-05-18T00:00:00\", \"2020-05-25T00:00:00\", \"2020-06-01T00:00:00\", \"2020-06-08T00:00:00\", \"2020-06-15T00:00:00\", \"2020-06-22T00:00:00\", \"2020-06-29T00:00:00\", \"2020-07-06T00:00:00\", \"2020-07-13T00:00:00\", \"2020-07-20T00:00:00\", \"2020-07-27T00:00:00\", \"2020-08-03T00:00:00\", \"2020-08-10T00:00:00\", \"2020-08-17T00:00:00\", \"2020-08-24T00:00:00\", \"2020-08-31T00:00:00\", \"2020-09-07T00:00:00\", \"2020-09-14T00:00:00\", \"2020-09-21T00:00:00\", \"2020-09-28T00:00:00\", \"2020-10-05T00:00:00\", \"2020-10-12T00:00:00\", \"2020-10-19T00:00:00\", \"2020-10-26T00:00:00\", \"2020-11-02T00:00:00\", \"2020-11-09T00:00:00\", \"2020-11-16T00:00:00\", \"2020-11-23T00:00:00\", \"2020-11-30T00:00:00\", \"2020-12-07T00:00:00\", \"2020-12-14T00:00:00\", \"2020-12-21T00:00:00\", \"2020-12-28T00:00:00\", \"2021-01-04T00:00:00\", \"2021-01-11T00:00:00\", \"2021-01-18T00:00:00\"], \"y\": [85199.0, 91471.5, 79834.0, 42032.5, 20850.5, 14983.0, 10598.0, 8623.0, 7034.0, 5527.0, 2151.0, 953.5, 1047.5, 884.0, 774.5, 1082.0, 1325.0, 951.0, 890.5, 1153.5, 690.5, 480.0, 1138.0, 2626.0, 2552.5, 5100.0, 15619.0, 19650.0, 15709.5, 16786.0, 17923.5, 17460.0, 19340.5, 16949.5, 14662.0, 11929.0, 7396.0, 5305.0, 4401.5, 5358.0, 4694.5, 4786.0, 8917.0, 11506.0, 10529.5]}, {\"line\": {\"width\": 4}, \"name\": \"Nombre th\\u00e9orique d'infections\", \"type\": \"scatter\", \"x\": [\"2019-12-30T00:00:00\", \"2020-01-06T00:00:00\", \"2020-01-13T00:00:00\", \"2020-01-20T00:00:00\", \"2020-01-27T00:00:00\", \"2020-02-03T00:00:00\", \"2020-02-10T00:00:00\", \"2020-02-17T00:00:00\", \"2020-02-24T00:00:00\", \"2020-03-02T00:00:00\", \"2020-03-09T00:00:00\", \"2020-03-16T00:00:00\", \"2020-03-23T00:00:00\", \"2020-03-30T00:00:00\", \"2020-04-06T00:00:00\", \"2020-04-13T00:00:00\", \"2020-04-20T00:00:00\", \"2020-04-27T00:00:00\", \"2020-05-04T00:00:00\", \"2020-05-11T00:00:00\", \"2020-05-18T00:00:00\", \"2020-05-25T00:00:00\", \"2020-06-01T00:00:00\", \"2020-06-08T00:00:00\", \"2020-06-15T00:00:00\", \"2020-06-22T00:00:00\", \"2020-06-29T00:00:00\", \"2020-07-06T00:00:00\", \"2020-07-13T00:00:00\", \"2020-07-20T00:00:00\", \"2020-07-27T00:00:00\", \"2020-08-03T00:00:00\", \"2020-08-10T00:00:00\", \"2020-08-17T00:00:00\", \"2020-08-24T00:00:00\", \"2020-08-31T00:00:00\", \"2020-09-07T00:00:00\", \"2020-09-14T00:00:00\", \"2020-09-21T00:00:00\", \"2020-09-28T00:00:00\", \"2020-10-05T00:00:00\", \"2020-10-12T00:00:00\", \"2020-10-19T00:00:00\", \"2020-10-26T00:00:00\", \"2020-11-02T00:00:00\", \"2020-11-09T00:00:00\", \"2020-11-16T00:00:00\", \"2020-11-23T00:00:00\", \"2020-11-30T00:00:00\"], \"y\": [5.892879322201853, 103.67305914961267, 439.6612148732054, 1181.1213754091127, 2654.7752857247156, 5355.474702719989, 10415.92482457816, 19650.927940105925, 34845.92855019297, 54839.43503207025, 71174.14709639437, 73955.2968756728, 62231.96152411692, 42554.525215984475, 27754.32161693642, 20963.035307212525, 16065.965933097319, 12462.918503620964, 10035.096306578082, 7522.169752290603, 5669.549272964556, 4312.167526145955, 2982.767945471987, 2091.243196609949, 1982.013989508413, 2107.425283682499, 2134.9794911832855, 2297.9468360014653, 2488.3721558381717, 2619.9923415148915, 2749.2024135564325, 2947.0913055029496, 2990.1047869720346, 3281.955964108923, 4256.427448756171, 5460.096322889443, 6844.396469978787, 8911.830913127907, 11598.699411467325, 15165.69672783956, 19202.054063946416, 22874.337258818112, 24813.85001048182, 22612.461583186316, 18115.481449200255, 15565.707250308491, 14286.97219008365, 13112.35051386837, 11820.861467397304]}, {\"line\": {\"color\": \"white\"}, \"name\": \"\", \"type\": \"scatter\", \"x\": [\"2020-01-01T00:00:00\", \"2021-02-02T00:00:00\"], \"y\": [0, 0]}],                        {\"template\": {\"data\": {\"bar\": [{\"error_x\": {\"color\": \"#2a3f5f\"}, \"error_y\": {\"color\": \"#2a3f5f\"}, \"marker\": {\"line\": {\"color\": \"#E5ECF6\", \"width\": 0.5}}, \"type\": \"bar\"}], \"barpolar\": [{\"marker\": {\"line\": {\"color\": \"#E5ECF6\", \"width\": 0.5}}, \"type\": \"barpolar\"}], \"carpet\": [{\"aaxis\": {\"endlinecolor\": \"#2a3f5f\", \"gridcolor\": \"white\", \"linecolor\": \"white\", \"minorgridcolor\": \"white\", \"startlinecolor\": \"#2a3f5f\"}, \"baxis\": {\"endlinecolor\": \"#2a3f5f\", \"gridcolor\": \"white\", \"linecolor\": \"white\", \"minorgridcolor\": \"white\", \"startlinecolor\": \"#2a3f5f\"}, \"type\": \"carpet\"}], \"choropleth\": [{\"colorbar\": {\"outlinewidth\": 0, \"ticks\": \"\"}, \"type\": \"choropleth\"}], \"contour\": [{\"colorbar\": {\"outlinewidth\": 0, \"ticks\": \"\"}, \"colorscale\": [[0.0, \"#0d0887\"], [0.1111111111111111, \"#46039f\"], [0.2222222222222222, \"#7201a8\"], [0.3333333333333333, \"#9c179e\"], [0.4444444444444444, \"#bd3786\"], [0.5555555555555556, \"#d8576b\"], [0.6666666666666666, \"#ed7953\"], [0.7777777777777778, \"#fb9f3a\"], [0.8888888888888888, \"#fdca26\"], [1.0, \"#f0f921\"]], \"type\": \"contour\"}], \"contourcarpet\": [{\"colorbar\": {\"outlinewidth\": 0, \"ticks\": \"\"}, \"type\": \"contourcarpet\"}], \"heatmap\": [{\"colorbar\": {\"outlinewidth\": 0, \"ticks\": \"\"}, \"colorscale\": [[0.0, \"#0d0887\"], [0.1111111111111111, \"#46039f\"], [0.2222222222222222, \"#7201a8\"], [0.3333333333333333, \"#9c179e\"], [0.4444444444444444, \"#bd3786\"], [0.5555555555555556, \"#d8576b\"], [0.6666666666666666, \"#ed7953\"], [0.7777777777777778, \"#fb9f3a\"], [0.8888888888888888, \"#fdca26\"], [1.0, \"#f0f921\"]], \"type\": \"heatmap\"}], \"heatmapgl\": [{\"colorbar\": {\"outlinewidth\": 0, \"ticks\": \"\"}, \"colorscale\": [[0.0, \"#0d0887\"], [0.1111111111111111, \"#46039f\"], [0.2222222222222222, \"#7201a8\"], [0.3333333333333333, \"#9c179e\"], [0.4444444444444444, \"#bd3786\"], [0.5555555555555556, \"#d8576b\"], [0.6666666666666666, \"#ed7953\"], [0.7777777777777778, \"#fb9f3a\"], [0.8888888888888888, \"#fdca26\"], [1.0, \"#f0f921\"]], \"type\": \"heatmapgl\"}], \"histogram\": [{\"marker\": {\"colorbar\": {\"outlinewidth\": 0, \"ticks\": \"\"}}, \"type\": \"histogram\"}], \"histogram2d\": [{\"colorbar\": {\"outlinewidth\": 0, \"ticks\": \"\"}, \"colorscale\": [[0.0, \"#0d0887\"], [0.1111111111111111, \"#46039f\"], [0.2222222222222222, \"#7201a8\"], [0.3333333333333333, \"#9c179e\"], [0.4444444444444444, \"#bd3786\"], [0.5555555555555556, \"#d8576b\"], [0.6666666666666666, \"#ed7953\"], [0.7777777777777778, \"#fb9f3a\"], [0.8888888888888888, \"#fdca26\"], [1.0, \"#f0f921\"]], \"type\": \"histogram2d\"}], \"histogram2dcontour\": [{\"colorbar\": {\"outlinewidth\": 0, \"ticks\": \"\"}, \"colorscale\": [[0.0, \"#0d0887\"], [0.1111111111111111, \"#46039f\"], [0.2222222222222222, \"#7201a8\"], [0.3333333333333333, \"#9c179e\"], [0.4444444444444444, \"#bd3786\"], [0.5555555555555556, \"#d8576b\"], [0.6666666666666666, \"#ed7953\"], [0.7777777777777778, \"#fb9f3a\"], [0.8888888888888888, \"#fdca26\"], [1.0, \"#f0f921\"]], \"type\": \"histogram2dcontour\"}], \"mesh3d\": [{\"colorbar\": {\"outlinewidth\": 0, \"ticks\": \"\"}, \"type\": \"mesh3d\"}], \"parcoords\": [{\"line\": {\"colorbar\": {\"outlinewidth\": 0, \"ticks\": \"\"}}, \"type\": \"parcoords\"}], \"pie\": [{\"automargin\": true, \"type\": \"pie\"}], \"scatter\": [{\"marker\": {\"colorbar\": {\"outlinewidth\": 0, \"ticks\": \"\"}}, \"type\": \"scatter\"}], \"scatter3d\": [{\"line\": {\"colorbar\": {\"outlinewidth\": 0, \"ticks\": \"\"}}, \"marker\": {\"colorbar\": {\"outlinewidth\": 0, \"ticks\": \"\"}}, \"type\": \"scatter3d\"}], \"scattercarpet\": [{\"marker\": {\"colorbar\": {\"outlinewidth\": 0, \"ticks\": \"\"}}, \"type\": \"scattercarpet\"}], \"scattergeo\": [{\"marker\": {\"colorbar\": {\"outlinewidth\": 0, \"ticks\": \"\"}}, \"type\": \"scattergeo\"}], \"scattergl\": [{\"marker\": {\"colorbar\": {\"outlinewidth\": 0, \"ticks\": \"\"}}, \"type\": \"scattergl\"}], \"scattermapbox\": [{\"marker\": {\"colorbar\": {\"outlinewidth\": 0, \"ticks\": \"\"}}, \"type\": \"scattermapbox\"}], \"scatterpolar\": [{\"marker\": {\"colorbar\": {\"outlinewidth\": 0, \"ticks\": \"\"}}, \"type\": \"scatterpolar\"}], \"scatterpolargl\": [{\"marker\": {\"colorbar\": {\"outlinewidth\": 0, \"ticks\": \"\"}}, \"type\": \"scatterpolargl\"}], \"scatterternary\": [{\"marker\": {\"colorbar\": {\"outlinewidth\": 0, \"ticks\": \"\"}}, \"type\": \"scatterternary\"}], \"surface\": [{\"colorbar\": {\"outlinewidth\": 0, \"ticks\": \"\"}, \"colorscale\": [[0.0, \"#0d0887\"], [0.1111111111111111, \"#46039f\"], [0.2222222222222222, \"#7201a8\"], [0.3333333333333333, \"#9c179e\"], [0.4444444444444444, \"#bd3786\"], [0.5555555555555556, \"#d8576b\"], [0.6666666666666666, \"#ed7953\"], [0.7777777777777778, \"#fb9f3a\"], [0.8888888888888888, \"#fdca26\"], [1.0, \"#f0f921\"]], \"type\": \"surface\"}], \"table\": [{\"cells\": {\"fill\": {\"color\": \"#EBF0F8\"}, \"line\": {\"color\": \"white\"}}, \"header\": {\"fill\": {\"color\": \"#C8D4E3\"}, \"line\": {\"color\": \"white\"}}, \"type\": \"table\"}]}, \"layout\": {\"annotationdefaults\": {\"arrowcolor\": \"#2a3f5f\", \"arrowhead\": 0, \"arrowwidth\": 1}, \"coloraxis\": {\"colorbar\": {\"outlinewidth\": 0, \"ticks\": \"\"}}, \"colorscale\": {\"diverging\": [[0, \"#8e0152\"], [0.1, \"#c51b7d\"], [0.2, \"#de77ae\"], [0.3, \"#f1b6da\"], [0.4, \"#fde0ef\"], [0.5, \"#f7f7f7\"], [0.6, \"#e6f5d0\"], [0.7, \"#b8e186\"], [0.8, \"#7fbc41\"], [0.9, \"#4d9221\"], [1, \"#276419\"]], \"sequential\": [[0.0, \"#0d0887\"], [0.1111111111111111, \"#46039f\"], [0.2222222222222222, \"#7201a8\"], [0.3333333333333333, \"#9c179e\"], [0.4444444444444444, \"#bd3786\"], [0.5555555555555556, \"#d8576b\"], [0.6666666666666666, \"#ed7953\"], [0.7777777777777778, \"#fb9f3a\"], [0.8888888888888888, \"#fdca26\"], [1.0, \"#f0f921\"]], \"sequentialminus\": [[0.0, \"#0d0887\"], [0.1111111111111111, \"#46039f\"], [0.2222222222222222, \"#7201a8\"], [0.3333333333333333, \"#9c179e\"], [0.4444444444444444, \"#bd3786\"], [0.5555555555555556, \"#d8576b\"], [0.6666666666666666, \"#ed7953\"], [0.7777777777777778, \"#fb9f3a\"], [0.8888888888888888, \"#fdca26\"], [1.0, \"#f0f921\"]]}, \"colorway\": [\"#636efa\", \"#EF553B\", \"#00cc96\", \"#ab63fa\", \"#FFA15A\", \"#19d3f3\", \"#FF6692\", \"#B6E880\", \"#FF97FF\", \"#FECB52\"], \"font\": {\"color\": \"#2a3f5f\"}, \"geo\": {\"bgcolor\": \"white\", \"lakecolor\": \"white\", \"landcolor\": \"#E5ECF6\", \"showlakes\": true, \"showland\": true, \"subunitcolor\": \"white\"}, \"hoverlabel\": {\"align\": \"left\"}, \"hovermode\": \"closest\", \"mapbox\": {\"style\": \"light\"}, \"paper_bgcolor\": \"white\", \"plot_bgcolor\": \"#E5ECF6\", \"polar\": {\"angularaxis\": {\"gridcolor\": \"white\", \"linecolor\": \"white\", \"ticks\": \"\"}, \"bgcolor\": \"#E5ECF6\", \"radialaxis\": {\"gridcolor\": \"white\", \"linecolor\": \"white\", \"ticks\": \"\"}}, \"scene\": {\"xaxis\": {\"backgroundcolor\": \"#E5ECF6\", \"gridcolor\": \"white\", \"gridwidth\": 2, \"linecolor\": \"white\", \"showbackground\": true, \"ticks\": \"\", \"zerolinecolor\": \"white\"}, \"yaxis\": {\"backgroundcolor\": \"#E5ECF6\", \"gridcolor\": \"white\", \"gridwidth\": 2, \"linecolor\": \"white\", \"showbackground\": true, \"ticks\": \"\", \"zerolinecolor\": \"white\"}, \"zaxis\": {\"backgroundcolor\": \"#E5ECF6\", \"gridcolor\": \"white\", \"gridwidth\": 2, \"linecolor\": \"white\", \"showbackground\": true, \"ticks\": \"\", \"zerolinecolor\": \"white\"}}, \"shapedefaults\": {\"line\": {\"color\": \"#2a3f5f\"}}, \"ternary\": {\"aaxis\": {\"gridcolor\": \"white\", \"linecolor\": \"white\", \"ticks\": \"\"}, \"baxis\": {\"gridcolor\": \"white\", \"linecolor\": \"white\", \"ticks\": \"\"}, \"bgcolor\": \"#E5ECF6\", \"caxis\": {\"gridcolor\": \"white\", \"linecolor\": \"white\", \"ticks\": \"\"}}, \"title\": {\"x\": 0.05}, \"xaxis\": {\"automargin\": true, \"gridcolor\": \"white\", \"linecolor\": \"white\", \"ticks\": \"\", \"title\": {\"standoff\": 15}, \"zerolinecolor\": \"white\", \"zerolinewidth\": 2}, \"yaxis\": {\"automargin\": true, \"gridcolor\": \"white\", \"linecolor\": \"white\", \"ticks\": \"\", \"title\": {\"standoff\": 15}, \"zerolinecolor\": \"white\", \"zerolinewidth\": 2}}}, \"xaxis\": {\"anchor\": \"y\", \"domain\": [0.0, 0.94]}, \"yaxis\": {\"anchor\": \"x\", \"domain\": [0.0, 1.0]}, \"yaxis2\": {\"anchor\": \"x\", \"overlaying\": \"y\", \"side\": \"right\"}},                        {\"responsive\": true}                    ).then(function(){\n",
       "                            \n",
       "var gd = document.getElementById('b254cf4e-7205-4812-9bed-aa60f7286c2d');\n",
       "var x = new MutationObserver(function (mutations, observer) {{\n",
       "        var display = window.getComputedStyle(gd).display;\n",
       "        if (!display || display === 'none') {{\n",
       "            console.log([gd, 'removed!']);\n",
       "            Plotly.purge(gd);\n",
       "            observer.disconnect();\n",
       "        }}\n",
       "}});\n",
       "\n",
       "// Listen for the removal of the full notebook cells\n",
       "var notebookContainer = gd.closest('#notebook-container');\n",
       "if (notebookContainer) {{\n",
       "    x.observe(notebookContainer, {childList: true});\n",
       "}}\n",
       "\n",
       "// Listen for the clearing of the current output cell\n",
       "var outputEl = gd.closest('.output');\n",
       "if (outputEl) {{\n",
       "    x.observe(outputEl, {childList: true});\n",
       "}}\n",
       "\n",
       "                        })                };                });            </script>        </div>"
      ]
     },
     "metadata": {},
     "output_type": "display_data"
    }
   ],
   "source": [
    "fig = go.Figure()\n",
    "fig = make_subplots(specs=[[{\"secondary_y\": True}]])\n",
    "\n",
    "for name, (df, col, col_ref) in sources.items():\n",
    "    if pas in df.columns:\n",
    "        _filtre = df[pas] < semaine_en_cours\n",
    "        _serie = df[_filtre].groupby(pas)[col].sum()\n",
    "        fig.add_trace(go.Scatter(x=_serie.index, y=_serie, name=name, line=dict(width=4)))\n",
    "        if col_ref:\n",
    "            _taux = _serie / df[_filtre].groupby(pas)[col_ref].sum()\n",
    "            fig.add_trace(go.Scatter(x=_taux.index,\n",
    "                                     y=_taux,\n",
    "                                     name='Taux ' + name + ' (échelle de droite)',\n",
    "                                     line=dict(width=4)),\n",
    "                          secondary_y=True)\n",
    "fig.add_trace(go.Scatter(x=base.index, y=base, name='', line_color='white'))"
   ]
  },
  {
   "cell_type": "code",
   "execution_count": 187,
   "metadata": {},
   "outputs": [],
   "source": [
    "fig.update_layout(\n",
    "    title='Variation par semaine',\n",
    "    font=dict(\n",
    "        family=\"Courier New Bold\",\n",
    "        size=30,\n",
    "    ),\n",
    "    legend=dict(\n",
    "      yanchor=\"top\", y=0.99, xanchor=\"right\", x=0.4\n",
    "    )\n",
    ")\n",
    "fig.update_xaxes(tick0=datetime.date(2020, 1, 6))\n",
    "fig.write_html('figure.html', auto_open=True)"
   ]
  },
  {
   "cell_type": "code",
   "execution_count": null,
   "metadata": {
    "collapsed": true
   },
   "outputs": [],
   "source": []
  }
 ],
 "metadata": {
  "kernelspec": {
   "display_name": "Python 3",
   "language": "python",
   "name": "python3"
  },
  "language_info": {
   "codemirror_mode": {
    "name": "ipython",
    "version": 3
   },
   "file_extension": ".py",
   "mimetype": "text/x-python",
   "name": "python",
   "nbconvert_exporter": "python",
   "pygments_lexer": "ipython3",
   "version": "3.6.8"
  }
 },
 "nbformat": 4,
 "nbformat_minor": 2
}
